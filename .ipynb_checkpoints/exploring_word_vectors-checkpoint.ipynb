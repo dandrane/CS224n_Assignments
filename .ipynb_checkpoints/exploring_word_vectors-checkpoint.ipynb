{
 "cells": [
  {
   "cell_type": "markdown",
   "metadata": {},
   "source": [
    "# CS224N Assignment 1: Exploring Word Vectors (25 Points)\n",
    "### <font color='blue'> Due 4:30pm, Tue Jan 14 </font>\n",
    "\n",
    "Welcome to CS224n! \n",
    "\n",
    "Before you start, make sure you read the README.txt in the same directory as this notebook. You will find many provided codes in the notebook. We highly encourage you to read and understand the provided codes as part of the learning :-)"
   ]
  },
  {
   "cell_type": "code",
   "execution_count": 2,
   "metadata": {
    "ExecuteTime": {
     "end_time": "2021-06-16T07:08:05.632281Z",
     "start_time": "2021-06-16T07:08:05.623136Z"
    }
   },
   "outputs": [
    {
     "name": "stderr",
     "output_type": "stream",
     "text": [
      "[nltk_data] Downloading package reuters to /Users/Dannah/nltk_data...\n",
      "[nltk_data]   Package reuters is already up-to-date!\n"
     ]
    }
   ],
   "source": [
    "# All Import Statements Defined Here\n",
    "# Note: Do not add to this list.\n",
    "# ----------------\n",
    "\n",
    "import sys\n",
    "assert sys.version_info[0]==3\n",
    "assert sys.version_info[1] >= 5\n",
    "\n",
    "from gensim.models import KeyedVectors\n",
    "from gensim.test.utils import datapath\n",
    "import pprint\n",
    "import matplotlib.pyplot as plt\n",
    "plt.rcParams['figure.figsize'] = [10, 5]\n",
    "import nltk\n",
    "nltk.download('reuters')\n",
    "from nltk.corpus import reuters\n",
    "import numpy as np\n",
    "import random\n",
    "import scipy as sp\n",
    "from sklearn.decomposition import TruncatedSVD\n",
    "from sklearn.decomposition import PCA\n",
    "\n",
    "START_TOKEN = '<START>'\n",
    "END_TOKEN = '<END>'\n",
    "\n",
    "np.random.seed(0)\n",
    "random.seed(0)\n",
    "# ----------------"
   ]
  },
  {
   "cell_type": "markdown",
   "metadata": {},
   "source": [
    "## Word Vectors\n",
    "\n",
    "Word Vectors are often used as a fundamental component for downstream NLP tasks, e.g. question answering, text generation, translation, etc., so it is important to build some intuitions as to their strengths and weaknesses. Here, you will explore two types of word vectors: those derived from *co-occurrence matrices*, and those derived via *GloVe*. \n",
    "\n",
    "**Assignment Notes:** Please make sure to save the notebook as you go along. Submission Instructions are located at the bottom of the notebook.\n",
    "\n",
    "**Note on Terminology:** The terms \"word vectors\" and \"word embeddings\" are often used interchangeably. The term \"embedding\" refers to the fact that we are encoding aspects of a word's meaning in a lower dimensional space. As [Wikipedia](https://en.wikipedia.org/wiki/Word_embedding) states, \"*conceptually it involves a mathematical embedding from a space with one dimension per word to a continuous vector space with a much lower dimension*\"."
   ]
  },
  {
   "cell_type": "markdown",
   "metadata": {},
   "source": [
    "## Part 1: Count-Based Word Vectors (10 points)\n",
    "\n",
    "Most word vector models start from the following idea:\n",
    "\n",
    "*You shall know a word by the company it keeps ([Firth, J. R. 1957:11](https://en.wikipedia.org/wiki/John_Rupert_Firth))*\n",
    "\n",
    "Many word vector implementations are driven by the idea that similar words, i.e., (near) synonyms, will be used in similar contexts. As a result, similar words will often be spoken or written along with a shared subset of words, i.e., contexts. By examining these contexts, we can try to develop embeddings for our words. With this intuition in mind, many \"old school\" approaches to constructing word vectors relied on word counts. Here we elaborate upon one of those strategies, *co-occurrence matrices* (for more information, see [here](http://web.stanford.edu/class/cs124/lec/vectorsemantics.video.pdf) or [here](https://medium.com/data-science-group-iitr/word-embedding-2d05d270b285))."
   ]
  },
  {
   "cell_type": "markdown",
   "metadata": {},
   "source": [
    "### Co-Occurrence\n",
    "\n",
    "A co-occurrence matrix counts how often things co-occur in some environment. Given some word $w_i$ occurring in the document, we consider the *context window* surrounding $w_i$. Supposing our fixed window size is $n$, then this is the $n$ preceding and $n$ subsequent words in that document, i.e. words $w_{i-n} \\dots w_{i-1}$ and $w_{i+1} \\dots w_{i+n}$. We build a *co-occurrence matrix* $M$, which is a symmetric word-by-word matrix in which $M_{ij}$ is the number of times $w_j$ appears inside $w_i$'s window among all documents.\n",
    "\n",
    "**Example: Co-Occurrence with Fixed Window of n=1**:\n",
    "\n",
    "Document 1: \"all that glitters is not gold\"\n",
    "\n",
    "Document 2: \"all is well that ends well\"\n",
    "\n",
    "\n",
    "|     *    | `<START>` | all | that | glitters | is   | not  | gold  | well | ends | `<END>` |\n",
    "|----------|-------|-----|------|----------|------|------|-------|------|------|-----|\n",
    "| `<START>`    | 0     | 2   | 0    | 0        | 0    | 0    | 0     | 0    | 0    | 0   |\n",
    "| all      | 2     | 0   | 1    | 0        | 1    | 0    | 0     | 0    | 0    | 0   |\n",
    "| that     | 0     | 1   | 0    | 1        | 0    | 0    | 0     | 1    | 1    | 0   |\n",
    "| glitters | 0     | 0   | 1    | 0        | 1    | 0    | 0     | 0    | 0    | 0   |\n",
    "| is       | 0     | 1   | 0    | 1        | 0    | 1    | 0     | 1    | 0    | 0   |\n",
    "| not      | 0     | 0   | 0    | 0        | 1    | 0    | 1     | 0    | 0    | 0   |\n",
    "| gold     | 0     | 0   | 0    | 0        | 0    | 1    | 0     | 0    | 0    | 1   |\n",
    "| well     | 0     | 0   | 1    | 0        | 1    | 0    | 0     | 0    | 1    | 1   |\n",
    "| ends     | 0     | 0   | 1    | 0        | 0    | 0    | 0     | 1    | 0    | 0   |\n",
    "| `<END>`      | 0     | 0   | 0    | 0        | 0    | 0    | 1     | 1    | 0    | 0   |\n",
    "\n",
    "**Note:** In NLP, we often add `<START>` and `<END>` tokens to represent the beginning and end of sentences, paragraphs or documents. In thise case we imagine `<START>` and `<END>` tokens encapsulating each document, e.g., \"`<START>` All that glitters is not gold `<END>`\", and include these tokens in our co-occurrence counts.\n",
    "\n",
    "The rows (or columns) of this matrix provide one type of word vectors (those based on word-word co-occurrence), but the vectors will be large in general (linear in the number of distinct words in a corpus). Thus, our next step is to run *dimensionality reduction*. In particular, we will run *SVD (Singular Value Decomposition)*, which is a kind of generalized *PCA (Principal Components Analysis)* to select the top $k$ principal components. Here's a visualization of dimensionality reduction with SVD. In this picture our co-occurrence matrix is $A$ with $n$ rows corresponding to $n$ words. We obtain a full matrix decomposition, with the singular values ordered in the diagonal $S$ matrix, and our new, shorter length-$k$ word vectors in $U_k$.\n",
    "\n",
    "![Picture of an SVD](./imgs/svd.png \"SVD\")\n",
    "\n",
    "This reduced-dimensionality co-occurrence representation preserves semantic relationships between words, e.g. *doctor* and *hospital* will be closer than *doctor* and *dog*. \n",
    "\n",
    "**Notes:** If you can barely remember what an eigenvalue is, here's [a slow, friendly introduction to SVD](https://davetang.org/file/Singular_Value_Decomposition_Tutorial.pdf). If you want to learn more thoroughly about PCA or SVD, feel free to check out lectures [7](https://web.stanford.edu/class/cs168/l/l7.pdf), [8](http://theory.stanford.edu/~tim/s15/l/l8.pdf), and [9](https://web.stanford.edu/class/cs168/l/l9.pdf) of CS168. These course notes provide a great high-level treatment of these general purpose algorithms. Though, for the purpose of this class, you only need to know how to extract the k-dimensional embeddings by utilizing pre-programmed implementations of these algorithms from the numpy, scipy, or sklearn python packages. In practice, it is challenging to apply full SVD to large corpora because of the memory needed to perform PCA or SVD. However, if you only want the top $k$ vector components for relatively small $k$ — known as [Truncated SVD](https://en.wikipedia.org/wiki/Singular_value_decomposition#Truncated_SVD) — then there are reasonably scalable techniques to compute those iteratively."
   ]
  },
  {
   "cell_type": "markdown",
   "metadata": {},
   "source": [
    "### Plotting Co-Occurrence Word Embeddings\n",
    "\n",
    "Here, we will be using the Reuters (business and financial news) corpus. If you haven't run the import cell at the top of this page, please run it now (click it and press SHIFT-RETURN). The corpus consists of 10,788 news documents totaling 1.3 million words. These documents span 90 categories and are split into train and test. For more details, please see https://www.nltk.org/book/ch02.html. We provide a `read_corpus` function below that pulls out only articles from the \"crude\" (i.e. news articles about oil, gas, etc.) category. The function also adds `<START>` and `<END>` tokens to each of the documents, and lowercases words. You do **not** have to perform any other kind of pre-processing."
   ]
  },
  {
   "cell_type": "code",
   "execution_count": 3,
   "metadata": {
    "ExecuteTime": {
     "end_time": "2021-06-16T07:08:14.349885Z",
     "start_time": "2021-06-16T07:08:14.344053Z"
    }
   },
   "outputs": [],
   "source": [
    "def read_corpus(category=\"crude\"):\n",
    "    \"\"\" Read files from the specified Reuter's category.\n",
    "        Params:\n",
    "            category (string): category name\n",
    "        Return:\n",
    "            list of lists, with words from each of the processed files\n",
    "    \"\"\"\n",
    "    files = reuters.fileids(category)\n",
    "    return [[START_TOKEN] + [w.lower() for w in list(reuters.words(f))] + [END_TOKEN] for f in files]\n"
   ]
  },
  {
   "cell_type": "markdown",
   "metadata": {},
   "source": [
    "Let's have a look what these documents are like…."
   ]
  },
  {
   "cell_type": "code",
   "execution_count": 4,
   "metadata": {
    "ExecuteTime": {
     "end_time": "2021-06-16T07:08:19.264965Z",
     "start_time": "2021-06-16T07:08:17.984058Z"
    },
    "scrolled": false
   },
   "outputs": [
    {
     "name": "stdout",
     "output_type": "stream",
     "text": [
      "[['<START>', 'japan', 'to', 'revise', 'long', '-', 'term', 'energy', 'demand', 'downwards', 'the',\n",
      "  'ministry', 'of', 'international', 'trade', 'and', 'industry', '(', 'miti', ')', 'will', 'revise',\n",
      "  'its', 'long', '-', 'term', 'energy', 'supply', '/', 'demand', 'outlook', 'by', 'august', 'to',\n",
      "  'meet', 'a', 'forecast', 'downtrend', 'in', 'japanese', 'energy', 'demand', ',', 'ministry',\n",
      "  'officials', 'said', '.', 'miti', 'is', 'expected', 'to', 'lower', 'the', 'projection', 'for',\n",
      "  'primary', 'energy', 'supplies', 'in', 'the', 'year', '2000', 'to', '550', 'mln', 'kilolitres',\n",
      "  '(', 'kl', ')', 'from', '600', 'mln', ',', 'they', 'said', '.', 'the', 'decision', 'follows',\n",
      "  'the', 'emergence', 'of', 'structural', 'changes', 'in', 'japanese', 'industry', 'following',\n",
      "  'the', 'rise', 'in', 'the', 'value', 'of', 'the', 'yen', 'and', 'a', 'decline', 'in', 'domestic',\n",
      "  'electric', 'power', 'demand', '.', 'miti', 'is', 'planning', 'to', 'work', 'out', 'a', 'revised',\n",
      "  'energy', 'supply', '/', 'demand', 'outlook', 'through', 'deliberations', 'of', 'committee',\n",
      "  'meetings', 'of', 'the', 'agency', 'of', 'natural', 'resources', 'and', 'energy', ',', 'the',\n",
      "  'officials', 'said', '.', 'they', 'said', 'miti', 'will', 'also', 'review', 'the', 'breakdown',\n",
      "  'of', 'energy', 'supply', 'sources', ',', 'including', 'oil', ',', 'nuclear', ',', 'coal', 'and',\n",
      "  'natural', 'gas', '.', 'nuclear', 'energy', 'provided', 'the', 'bulk', 'of', 'japan', \"'\", 's',\n",
      "  'electric', 'power', 'in', 'the', 'fiscal', 'year', 'ended', 'march', '31', ',', 'supplying',\n",
      "  'an', 'estimated', '27', 'pct', 'on', 'a', 'kilowatt', '/', 'hour', 'basis', ',', 'followed',\n",
      "  'by', 'oil', '(', '23', 'pct', ')', 'and', 'liquefied', 'natural', 'gas', '(', '21', 'pct', '),',\n",
      "  'they', 'noted', '.', '<END>'],\n",
      " ['<START>', 'energy', '/', 'u', '.', 's', '.', 'petrochemical', 'industry', 'cheap', 'oil',\n",
      "  'feedstocks', ',', 'the', 'weakened', 'u', '.', 's', '.', 'dollar', 'and', 'a', 'plant',\n",
      "  'utilization', 'rate', 'approaching', '90', 'pct', 'will', 'propel', 'the', 'streamlined', 'u',\n",
      "  '.', 's', '.', 'petrochemical', 'industry', 'to', 'record', 'profits', 'this', 'year', ',',\n",
      "  'with', 'growth', 'expected', 'through', 'at', 'least', '1990', ',', 'major', 'company',\n",
      "  'executives', 'predicted', '.', 'this', 'bullish', 'outlook', 'for', 'chemical', 'manufacturing',\n",
      "  'and', 'an', 'industrywide', 'move', 'to', 'shed', 'unrelated', 'businesses', 'has', 'prompted',\n",
      "  'gaf', 'corp', '&', 'lt', ';', 'gaf', '>,', 'privately', '-', 'held', 'cain', 'chemical', 'inc',\n",
      "  ',', 'and', 'other', 'firms', 'to', 'aggressively', 'seek', 'acquisitions', 'of', 'petrochemical',\n",
      "  'plants', '.', 'oil', 'companies', 'such', 'as', 'ashland', 'oil', 'inc', '&', 'lt', ';', 'ash',\n",
      "  '>,', 'the', 'kentucky', '-', 'based', 'oil', 'refiner', 'and', 'marketer', ',', 'are', 'also',\n",
      "  'shopping', 'for', 'money', '-', 'making', 'petrochemical', 'businesses', 'to', 'buy', '.', '\"',\n",
      "  'i', 'see', 'us', 'poised', 'at', 'the', 'threshold', 'of', 'a', 'golden', 'period', ',\"', 'said',\n",
      "  'paul', 'oreffice', ',', 'chairman', 'of', 'giant', 'dow', 'chemical', 'co', '&', 'lt', ';',\n",
      "  'dow', '>,', 'adding', ',', '\"', 'there', \"'\", 's', 'no', 'major', 'plant', 'capacity', 'being',\n",
      "  'added', 'around', 'the', 'world', 'now', '.', 'the', 'whole', 'game', 'is', 'bringing', 'out',\n",
      "  'new', 'products', 'and', 'improving', 'the', 'old', 'ones', '.\"', 'analysts', 'say', 'the',\n",
      "  'chemical', 'industry', \"'\", 's', 'biggest', 'customers', ',', 'automobile', 'manufacturers',\n",
      "  'and', 'home', 'builders', 'that', 'use', 'a', 'lot', 'of', 'paints', 'and', 'plastics', ',',\n",
      "  'are', 'expected', 'to', 'buy', 'quantities', 'this', 'year', '.', 'u', '.', 's', '.',\n",
      "  'petrochemical', 'plants', 'are', 'currently', 'operating', 'at', 'about', '90', 'pct',\n",
      "  'capacity', ',', 'reflecting', 'tighter', 'supply', 'that', 'could', 'hike', 'product', 'prices',\n",
      "  'by', '30', 'to', '40', 'pct', 'this', 'year', ',', 'said', 'john', 'dosher', ',', 'managing',\n",
      "  'director', 'of', 'pace', 'consultants', 'inc', 'of', 'houston', '.', 'demand', 'for', 'some',\n",
      "  'products', 'such', 'as', 'styrene', 'could', 'push', 'profit', 'margins', 'up', 'by', 'as',\n",
      "  'much', 'as', '300', 'pct', ',', 'he', 'said', '.', 'oreffice', ',', 'speaking', 'at', 'a',\n",
      "  'meeting', 'of', 'chemical', 'engineers', 'in', 'houston', ',', 'said', 'dow', 'would', 'easily',\n",
      "  'top', 'the', '741', 'mln', 'dlrs', 'it', 'earned', 'last', 'year', 'and', 'predicted', 'it',\n",
      "  'would', 'have', 'the', 'best', 'year', 'in', 'its', 'history', '.', 'in', '1985', ',', 'when',\n",
      "  'oil', 'prices', 'were', 'still', 'above', '25', 'dlrs', 'a', 'barrel', 'and', 'chemical',\n",
      "  'exports', 'were', 'adversely', 'affected', 'by', 'the', 'strong', 'u', '.', 's', '.', 'dollar',\n",
      "  ',', 'dow', 'had', 'profits', 'of', '58', 'mln', 'dlrs', '.', '\"', 'i', 'believe', 'the',\n",
      "  'entire', 'chemical', 'industry', 'is', 'headed', 'for', 'a', 'record', 'year', 'or', 'close',\n",
      "  'to', 'it', ',\"', 'oreffice', 'said', '.', 'gaf', 'chairman', 'samuel', 'heyman', 'estimated',\n",
      "  'that', 'the', 'u', '.', 's', '.', 'chemical', 'industry', 'would', 'report', 'a', '20', 'pct',\n",
      "  'gain', 'in', 'profits', 'during', '1987', '.', 'last', 'year', ',', 'the', 'domestic',\n",
      "  'industry', 'earned', 'a', 'total', 'of', '13', 'billion', 'dlrs', ',', 'a', '54', 'pct', 'leap',\n",
      "  'from', '1985', '.', 'the', 'turn', 'in', 'the', 'fortunes', 'of', 'the', 'once', '-', 'sickly',\n",
      "  'chemical', 'industry', 'has', 'been', 'brought', 'about', 'by', 'a', 'combination', 'of', 'luck',\n",
      "  'and', 'planning', ',', 'said', 'pace', \"'\", 's', 'john', 'dosher', '.', 'dosher', 'said', 'last',\n",
      "  'year', \"'\", 's', 'fall', 'in', 'oil', 'prices', 'made', 'feedstocks', 'dramatically', 'cheaper',\n",
      "  'and', 'at', 'the', 'same', 'time', 'the', 'american', 'dollar', 'was', 'weakening', 'against',\n",
      "  'foreign', 'currencies', '.', 'that', 'helped', 'boost', 'u', '.', 's', '.', 'chemical',\n",
      "  'exports', '.', 'also', 'helping', 'to', 'bring', 'supply', 'and', 'demand', 'into', 'balance',\n",
      "  'has', 'been', 'the', 'gradual', 'market', 'absorption', 'of', 'the', 'extra', 'chemical',\n",
      "  'manufacturing', 'capacity', 'created', 'by', 'middle', 'eastern', 'oil', 'producers', 'in',\n",
      "  'the', 'early', '1980s', '.', 'finally', ',', 'virtually', 'all', 'major', 'u', '.', 's', '.',\n",
      "  'chemical', 'manufacturers', 'have', 'embarked', 'on', 'an', 'extensive', 'corporate',\n",
      "  'restructuring', 'program', 'to', 'mothball', 'inefficient', 'plants', ',', 'trim', 'the',\n",
      "  'payroll', 'and', 'eliminate', 'unrelated', 'businesses', '.', 'the', 'restructuring', 'touched',\n",
      "  'off', 'a', 'flurry', 'of', 'friendly', 'and', 'hostile', 'takeover', 'attempts', '.', 'gaf', ',',\n",
      "  'which', 'made', 'an', 'unsuccessful', 'attempt', 'in', '1985', 'to', 'acquire', 'union',\n",
      "  'carbide', 'corp', '&', 'lt', ';', 'uk', '>,', 'recently', 'offered', 'three', 'billion', 'dlrs',\n",
      "  'for', 'borg', 'warner', 'corp', '&', 'lt', ';', 'bor', '>,', 'a', 'chicago', 'manufacturer',\n",
      "  'of', 'plastics', 'and', 'chemicals', '.', 'another', 'industry', 'powerhouse', ',', 'w', '.',\n",
      "  'r', '.', 'grace', '&', 'lt', ';', 'gra', '>', 'has', 'divested', 'its', 'retailing', ',',\n",
      "  'restaurant', 'and', 'fertilizer', 'businesses', 'to', 'raise', 'cash', 'for', 'chemical',\n",
      "  'acquisitions', '.', 'but', 'some', 'experts', 'worry', 'that', 'the', 'chemical', 'industry',\n",
      "  'may', 'be', 'headed', 'for', 'trouble', 'if', 'companies', 'continue', 'turning', 'their',\n",
      "  'back', 'on', 'the', 'manufacturing', 'of', 'staple', 'petrochemical', 'commodities', ',', 'such',\n",
      "  'as', 'ethylene', ',', 'in', 'favor', 'of', 'more', 'profitable', 'specialty', 'chemicals',\n",
      "  'that', 'are', 'custom', '-', 'designed', 'for', 'a', 'small', 'group', 'of', 'buyers', '.', '\"',\n",
      "  'companies', 'like', 'dupont', '&', 'lt', ';', 'dd', '>', 'and', 'monsanto', 'co', '&', 'lt', ';',\n",
      "  'mtc', '>', 'spent', 'the', 'past', 'two', 'or', 'three', 'years', 'trying', 'to', 'get', 'out',\n",
      "  'of', 'the', 'commodity', 'chemical', 'business', 'in', 'reaction', 'to', 'how', 'badly', 'the',\n",
      "  'market', 'had', 'deteriorated', ',\"', 'dosher', 'said', '.', '\"', 'but', 'i', 'think', 'they',\n",
      "  'will', 'eventually', 'kill', 'the', 'margins', 'on', 'the', 'profitable', 'chemicals', 'in',\n",
      "  'the', 'niche', 'market', '.\"', 'some', 'top', 'chemical', 'executives', 'share', 'the',\n",
      "  'concern', '.', '\"', 'the', 'challenge', 'for', 'our', 'industry', 'is', 'to', 'keep', 'from',\n",
      "  'getting', 'carried', 'away', 'and', 'repeating', 'past', 'mistakes', ',\"', 'gaf', \"'\", 's',\n",
      "  'heyman', 'cautioned', '.', '\"', 'the', 'shift', 'from', 'commodity', 'chemicals', 'may', 'be',\n",
      "  'ill', '-', 'advised', '.', 'specialty', 'businesses', 'do', 'not', 'stay', 'special', 'long',\n",
      "  '.\"', 'houston', '-', 'based', 'cain', 'chemical', ',', 'created', 'this', 'month', 'by', 'the',\n",
      "  'sterling', 'investment', 'banking', 'group', ',', 'believes', 'it', 'can', 'generate', '700',\n",
      "  'mln', 'dlrs', 'in', 'annual', 'sales', 'by', 'bucking', 'the', 'industry', 'trend', '.',\n",
      "  'chairman', 'gordon', 'cain', ',', 'who', 'previously', 'led', 'a', 'leveraged', 'buyout', 'of',\n",
      "  'dupont', \"'\", 's', 'conoco', 'inc', \"'\", 's', 'chemical', 'business', ',', 'has', 'spent', '1',\n",
      "  '.', '1', 'billion', 'dlrs', 'since', 'january', 'to', 'buy', 'seven', 'petrochemical', 'plants',\n",
      "  'along', 'the', 'texas', 'gulf', 'coast', '.', 'the', 'plants', 'produce', 'only', 'basic',\n",
      "  'commodity', 'petrochemicals', 'that', 'are', 'the', 'building', 'blocks', 'of', 'specialty',\n",
      "  'products', '.', '\"', 'this', 'kind', 'of', 'commodity', 'chemical', 'business', 'will', 'never',\n",
      "  'be', 'a', 'glamorous', ',', 'high', '-', 'margin', 'business', ',\"', 'cain', 'said', ',',\n",
      "  'adding', 'that', 'demand', 'is', 'expected', 'to', 'grow', 'by', 'about', 'three', 'pct',\n",
      "  'annually', '.', 'garo', 'armen', ',', 'an', 'analyst', 'with', 'dean', 'witter', 'reynolds', ',',\n",
      "  'said', 'chemical', 'makers', 'have', 'also', 'benefitted', 'by', 'increasing', 'demand', 'for',\n",
      "  'plastics', 'as', 'prices', 'become', 'more', 'competitive', 'with', 'aluminum', ',', 'wood',\n",
      "  'and', 'steel', 'products', '.', 'armen', 'estimated', 'the', 'upturn', 'in', 'the', 'chemical',\n",
      "  'business', 'could', 'last', 'as', 'long', 'as', 'four', 'or', 'five', 'years', ',', 'provided',\n",
      "  'the', 'u', '.', 's', '.', 'economy', 'continues', 'its', 'modest', 'rate', 'of', 'growth', '.',\n",
      "  '<END>'],\n",
      " ['<START>', 'turkey', 'calls', 'for', 'dialogue', 'to', 'solve', 'dispute', 'turkey', 'said',\n",
      "  'today', 'its', 'disputes', 'with', 'greece', ',', 'including', 'rights', 'on', 'the',\n",
      "  'continental', 'shelf', 'in', 'the', 'aegean', 'sea', ',', 'should', 'be', 'solved', 'through',\n",
      "  'negotiations', '.', 'a', 'foreign', 'ministry', 'statement', 'said', 'the', 'latest', 'crisis',\n",
      "  'between', 'the', 'two', 'nato', 'members', 'stemmed', 'from', 'the', 'continental', 'shelf',\n",
      "  'dispute', 'and', 'an', 'agreement', 'on', 'this', 'issue', 'would', 'effect', 'the', 'security',\n",
      "  ',', 'economy', 'and', 'other', 'rights', 'of', 'both', 'countries', '.', '\"', 'as', 'the',\n",
      "  'issue', 'is', 'basicly', 'political', ',', 'a', 'solution', 'can', 'only', 'be', 'found', 'by',\n",
      "  'bilateral', 'negotiations', ',\"', 'the', 'statement', 'said', '.', 'greece', 'has', 'repeatedly',\n",
      "  'said', 'the', 'issue', 'was', 'legal', 'and', 'could', 'be', 'solved', 'at', 'the',\n",
      "  'international', 'court', 'of', 'justice', '.', 'the', 'two', 'countries', 'approached', 'armed',\n",
      "  'confrontation', 'last', 'month', 'after', 'greece', 'announced', 'it', 'planned', 'oil',\n",
      "  'exploration', 'work', 'in', 'the', 'aegean', 'and', 'turkey', 'said', 'it', 'would', 'also',\n",
      "  'search', 'for', 'oil', '.', 'a', 'face', '-', 'off', 'was', 'averted', 'when', 'turkey',\n",
      "  'confined', 'its', 'research', 'to', 'territorrial', 'waters', '.', '\"', 'the', 'latest',\n",
      "  'crises', 'created', 'an', 'historic', 'opportunity', 'to', 'solve', 'the', 'disputes', 'between',\n",
      "  'the', 'two', 'countries', ',\"', 'the', 'foreign', 'ministry', 'statement', 'said', '.', 'turkey',\n",
      "  \"'\", 's', 'ambassador', 'in', 'athens', ',', 'nazmi', 'akiman', ',', 'was', 'due', 'to', 'meet',\n",
      "  'prime', 'minister', 'andreas', 'papandreou', 'today', 'for', 'the', 'greek', 'reply', 'to', 'a',\n",
      "  'message', 'sent', 'last', 'week', 'by', 'turkish', 'prime', 'minister', 'turgut', 'ozal', '.',\n",
      "  'the', 'contents', 'of', 'the', 'message', 'were', 'not', 'disclosed', '.', '<END>']]\n"
     ]
    }
   ],
   "source": [
    "reuters_corpus = read_corpus()\n",
    "pprint.pprint(reuters_corpus[:3], compact=True, width=100)"
   ]
  },
  {
   "cell_type": "markdown",
   "metadata": {},
   "source": [
    "### Question 1.1: Implement `distinct_words` [code] (2 points)\n",
    "\n",
    "Write a method to work out the distinct words (word types) that occur in the corpus. You can do this with `for` loops, but it's more efficient to do it with Python list comprehensions. In particular, [this](https://coderwall.com/p/rcmaea/flatten-a-list-of-lists-in-one-line-in-python) may be useful to flatten a list of lists. If you're not familiar with Python list comprehensions in general, here's [more information](https://python-3-patterns-idioms-test.readthedocs.io/en/latest/Comprehensions.html).\n",
    "\n",
    "You may find it useful to use [Python sets](https://www.w3schools.com/python/python_sets.asp) to remove duplicate words."
   ]
  },
  {
   "cell_type": "code",
   "execution_count": 5,
   "metadata": {
    "ExecuteTime": {
     "end_time": "2021-06-16T07:08:25.957233Z",
     "start_time": "2021-06-16T07:08:25.951568Z"
    }
   },
   "outputs": [],
   "source": [
    "def distinct_words(corpus):\n",
    "    \"\"\" Determine a list of distinct words for the corpus.\n",
    "        Params:\n",
    "            corpus (list of list of strings): corpus of documents\n",
    "        Return:\n",
    "            corpus_words (list of strings): list of distinct words across the corpus, sorted (using python 'sorted' function)\n",
    "            num_corpus_words (integer): number of distinct words across the corpus\n",
    "    \"\"\"\n",
    "    corpus_words = []\n",
    "    num_corpus_words = -1\n",
    "    \n",
    "    # ------------------\n",
    "    # Write your implementation here.\n",
    "    corpus_words = [word for line in corpus for word in line]\n",
    "    corpus_words = sorted(set(corpus_words))\n",
    "    num_corpus_words = len(corpus_words)\n",
    "    # ------------------\n",
    "\n",
    "    return corpus_words, num_corpus_words"
   ]
  },
  {
   "cell_type": "code",
   "execution_count": 6,
   "metadata": {
    "ExecuteTime": {
     "end_time": "2021-06-16T07:08:27.419195Z",
     "start_time": "2021-06-16T07:08:27.408449Z"
    }
   },
   "outputs": [
    {
     "name": "stdout",
     "output_type": "stream",
     "text": [
      "--------------------------------------------------------------------------------\n",
      "Passed All Tests!\n",
      "--------------------------------------------------------------------------------\n"
     ]
    }
   ],
   "source": [
    "# ---------------------\n",
    "# Run this sanity check\n",
    "# Note that this not an exhaustive check for correctness.\n",
    "# ---------------------\n",
    "\n",
    "# Define toy corpus\n",
    "test_corpus = [\"{} All that glitters isn't gold {}\".format(START_TOKEN, END_TOKEN).split(\" \"), \"{} All's well that ends well {}\".format(START_TOKEN, END_TOKEN).split(\" \")]\n",
    "test_corpus_words, num_corpus_words = distinct_words(test_corpus)\n",
    "\n",
    "# Correct answers\n",
    "ans_test_corpus_words = sorted([START_TOKEN, \"All\", \"ends\", \"that\", \"gold\", \"All's\", \"glitters\", \"isn't\", \"well\", END_TOKEN])\n",
    "ans_num_corpus_words = len(ans_test_corpus_words)\n",
    "\n",
    "# Test correct number of words\n",
    "assert(num_corpus_words == ans_num_corpus_words), \"Incorrect number of distinct words. Correct: {}. Yours: {}\".format(ans_num_corpus_words, num_corpus_words)\n",
    "\n",
    "# Test correct words\n",
    "assert (test_corpus_words == ans_test_corpus_words), \"Incorrect corpus_words.\\nCorrect: {}\\nYours:   {}\".format(str(ans_test_corpus_words), str(test_corpus_words))\n",
    "\n",
    "# Print Success\n",
    "print (\"-\" * 80)\n",
    "print(\"Passed All Tests!\")\n",
    "print (\"-\" * 80)"
   ]
  },
  {
   "cell_type": "markdown",
   "metadata": {},
   "source": [
    "### Question 1.2: Implement `compute_co_occurrence_matrix` [code] (3 points)\n",
    "\n",
    "Write a method that constructs a co-occurrence matrix for a certain window-size $n$ (with a default of 4), considering words $n$ before and $n$ after the word in the center of the window. Here, we start to use `numpy (np)` to represent vectors, matrices, and tensors. If you're not familiar with NumPy, there's a NumPy tutorial in the second half of this cs231n [Python NumPy tutorial](http://cs231n.github.io/python-numpy-tutorial/).\n"
   ]
  },
  {
   "cell_type": "code",
   "execution_count": 7,
   "metadata": {
    "ExecuteTime": {
     "end_time": "2021-06-16T07:08:30.812212Z",
     "start_time": "2021-06-16T07:08:30.802232Z"
    }
   },
   "outputs": [],
   "source": [
    "def compute_co_occurrence_matrix(corpus, window_size=4):\n",
    "    \"\"\" Compute co-occurrence matrix for the given corpus and window_size (default of 4).\n",
    "    \n",
    "        Note: Each word in a document should be at the center of a window. Words near edges will have a smaller\n",
    "              number of co-occurring words.\n",
    "              \n",
    "              For example, if we take the document \"<START> All that glitters is not gold <END>\" with window size of 4,\n",
    "              \"All\" will co-occur with \"<START>\", \"that\", \"glitters\", \"is\", and \"not\".\n",
    "    \n",
    "        Params:\n",
    "            corpus (list of list of strings): corpus of documents\n",
    "            window_size (int): size of context window\n",
    "        Return:\n",
    "            M (a symmetric numpy matrix of shape (number of unique words in the corpus , number of unique words in the corpus)): \n",
    "                Co-occurence matrix of word counts. \n",
    "                The ordering of the words in the rows/columns should be the same as the ordering of the words given by the distinct_words function.\n",
    "            word2Ind (dict): dictionary that maps word to index (i.e. row/column number) for matrix M.\n",
    "    \"\"\"\n",
    "    words, num_words = distinct_words(corpus)\n",
    "    M = None\n",
    "    word2Ind = {}\n",
    "    \n",
    "    # ------------------\n",
    "    # Write your implementation here.\n",
    "    M =np.zeros((num_words,num_words))\n",
    "    i=0\n",
    "    for word in words:\n",
    "        word2Ind.update({word:i})\n",
    "        i=i+1\n",
    "\n",
    "    for line in corpus:\n",
    "        for loc in range(len(line)):\n",
    "            center = line[loc]    #the center word:str\n",
    "            index = word2Ind[center]\n",
    "            left = max(loc-window_size,0)\n",
    "            right = min(loc+window_size,len(line)-1)\n",
    "            for i in range(left,right):\n",
    "                if(i==loc):\n",
    "                    continue\n",
    "                loc_word = line[i]\n",
    "                M[index][word2Ind[loc_word]]+=1\n",
    "                M[word2Ind[loc_word]][index]+=1 #note that line is a single line\n",
    "    # ------------------\n",
    "\n",
    "    return M, word2Ind"
   ]
  },
  {
   "cell_type": "code",
   "execution_count": 8,
   "metadata": {
    "ExecuteTime": {
     "end_time": "2021-06-16T07:08:32.270835Z",
     "start_time": "2021-06-16T07:08:32.253486Z"
    }
   },
   "outputs": [
    {
     "name": "stdout",
     "output_type": "stream",
     "text": [
      "--------------------------------------------------------------------------------\n",
      "Passed All Tests!\n",
      "--------------------------------------------------------------------------------\n"
     ]
    }
   ],
   "source": [
    "# ---------------------\n",
    "# Run this sanity check\n",
    "# Note that this is not an exhaustive check for correctness.\n",
    "# ---------------------\n",
    "\n",
    "# Define toy corpus and get student's co-occurrence matrix\n",
    "test_corpus = [\"{} All that glitters isn't gold {}\".format(START_TOKEN, END_TOKEN).split(\" \"), \"{} All's well that ends well {}\".format(START_TOKEN, END_TOKEN).split(\" \")]\n",
    "M_test, word2Ind_test = compute_co_occurrence_matrix(test_corpus, window_size=1)\n",
    "\n",
    "# Correct M and word2Ind\n",
    "M_test_ans = np.array( \n",
    "    [[0., 0., 0., 0., 0., 0., 1., 0., 0., 1.,],\n",
    "     [0., 0., 1., 1., 0., 0., 0., 0., 0., 0.,],\n",
    "     [0., 1., 0., 0., 0., 0., 0., 0., 1., 0.,],\n",
    "     [0., 1., 0., 0., 0., 0., 0., 0., 0., 1.,],\n",
    "     [0., 0., 0., 0., 0., 0., 0., 0., 1., 1.,],\n",
    "     [0., 0., 0., 0., 0., 0., 0., 1., 1., 0.,],\n",
    "     [1., 0., 0., 0., 0., 0., 0., 1., 0., 0.,],\n",
    "     [0., 0., 0., 0., 0., 1., 1., 0., 0., 0.,],\n",
    "     [0., 0., 1., 0., 1., 1., 0., 0., 0., 1.,],\n",
    "     [1., 0., 0., 1., 1., 0., 0., 0., 1., 0.,]]\n",
    ")\n",
    "ans_test_corpus_words = sorted([START_TOKEN, \"All\", \"ends\", \"that\", \"gold\", \"All's\", \"glitters\", \"isn't\", \"well\", END_TOKEN])\n",
    "word2Ind_ans = dict(zip(ans_test_corpus_words, range(len(ans_test_corpus_words))))\n",
    "\n",
    "# Test correct word2Ind\n",
    "assert (word2Ind_ans == word2Ind_test), \"Your word2Ind is incorrect:\\nCorrect: {}\\nYours: {}\".format(word2Ind_ans, word2Ind_test)\n",
    "\n",
    "# Test correct M shape\n",
    "assert (M_test.shape == M_test_ans.shape), \"M matrix has incorrect shape.\\nCorrect: {}\\nYours: {}\".format(M_test.shape, M_test_ans.shape)\n",
    "\n",
    "# Test correct M values\n",
    "for w1 in word2Ind_ans.keys():\n",
    "    idx1 = word2Ind_ans[w1]\n",
    "    for w2 in word2Ind_ans.keys():\n",
    "        idx2 = word2Ind_ans[w2]\n",
    "        student = M_test[idx1, idx2]\n",
    "        correct = M_test_ans[idx1, idx2]\n",
    "        if student != correct:\n",
    "            print(\"Correct M:\")\n",
    "            print(M_test_ans)\n",
    "            print(\"Your M: \")\n",
    "            print(M_test)\n",
    "            raise AssertionError(\"Incorrect count at index ({}, {})=({}, {}) in matrix M. Yours has {} but should have {}.\".format(idx1, idx2, w1, w2, student, correct))\n",
    "\n",
    "# Print Success\n",
    "print (\"-\" * 80)\n",
    "print(\"Passed All Tests!\")\n",
    "print (\"-\" * 80)"
   ]
  },
  {
   "cell_type": "markdown",
   "metadata": {},
   "source": [
    "### Question 1.3: Implement `reduce_to_k_dim` [code] (1 point)\n",
    "\n",
    "Construct a method that performs dimensionality reduction on the matrix to produce k-dimensional embeddings. Use SVD to take the top k components and produce a new matrix of k-dimensional embeddings. \n",
    "\n",
    "**Note:** All of numpy, scipy, and scikit-learn (`sklearn`) provide *some* implementation of SVD, but only scipy and sklearn provide an implementation of Truncated SVD, and only sklearn provides an efficient randomized algorithm for calculating large-scale Truncated SVD. So please use [sklearn.decomposition.TruncatedSVD](https://scikit-learn.org/stable/modules/generated/sklearn.decomposition.TruncatedSVD.html)."
   ]
  },
  {
   "cell_type": "code",
   "execution_count": 9,
   "metadata": {
    "ExecuteTime": {
     "end_time": "2021-06-16T07:08:34.817530Z",
     "start_time": "2021-06-16T07:08:34.811458Z"
    }
   },
   "outputs": [],
   "source": [
    "def reduce_to_k_dim(M, k=2):\n",
    "    \"\"\" Reduce a co-occurence count matrix of dimensionality (num_corpus_words, num_corpus_words)\n",
    "        to a matrix of dimensionality (num_corpus_words, k) using the following SVD function from Scikit-Learn:\n",
    "            - http://scikit-learn.org/stable/modules/generated/sklearn.decomposition.TruncatedSVD.html\n",
    "    \n",
    "        Params:\n",
    "            M (numpy matrix of shape (number of unique words in the corpus , number of unique words in the corpus)): co-occurence matrix of word counts\n",
    "            k (int): embedding size of each word after dimension reduction\n",
    "        Return:\n",
    "            M_reduced (numpy matrix of shape (number of corpus words, k)): matrix of k-dimensioal word embeddings.\n",
    "                    In terms of the SVD from math class, this actually returns U * S\n",
    "    \"\"\"    \n",
    "    n_iters = 10     # Use this parameter in your call to `TruncatedSVD`\n",
    "    M_reduced = None\n",
    "    print(\"Running Truncated SVD over %i words...\" % (M.shape[0]))\n",
    "    \n",
    "        # ------------------\n",
    "        # Write your implementation here.\n",
    "    svd = TruncatedSVD(n_components=k, n_iter=n_iters)\n",
    "    M_reduced = svd.fit_transform(M)\n",
    "        # ------------------\n",
    "\n",
    "    print(\"Done.\")\n",
    "    return M_reduced"
   ]
  },
  {
   "cell_type": "code",
   "execution_count": 10,
   "metadata": {
    "ExecuteTime": {
     "end_time": "2021-06-16T07:08:35.620120Z",
     "start_time": "2021-06-16T07:08:35.581351Z"
    }
   },
   "outputs": [
    {
     "name": "stdout",
     "output_type": "stream",
     "text": [
      "Running Truncated SVD over 10 words...\n",
      "Done.\n",
      "--------------------------------------------------------------------------------\n",
      "Passed All Tests!\n",
      "--------------------------------------------------------------------------------\n"
     ]
    }
   ],
   "source": [
    "# ---------------------\n",
    "# Run this sanity check\n",
    "# Note that this is not an exhaustive check for correctness \n",
    "# In fact we only check that your M_reduced has the right dimensions.\n",
    "# ---------------------\n",
    "\n",
    "# Define toy corpus and run student code\n",
    "test_corpus = [\"{} All that glitters isn't gold {}\".format(START_TOKEN, END_TOKEN).split(\" \"), \"{} All's well that ends well {}\".format(START_TOKEN, END_TOKEN).split(\" \")]\n",
    "M_test, word2Ind_test = compute_co_occurrence_matrix(test_corpus, window_size=1)\n",
    "M_test_reduced = reduce_to_k_dim(M_test, k=2)\n",
    "\n",
    "# Test proper dimensions\n",
    "assert (M_test_reduced.shape[0] == 10), \"M_reduced has {} rows; should have {}\".format(M_test_reduced.shape[0], 10)\n",
    "assert (M_test_reduced.shape[1] == 2), \"M_reduced has {} columns; should have {}\".format(M_test_reduced.shape[1], 2)\n",
    "\n",
    "# Print Success\n",
    "print (\"-\" * 80)\n",
    "print(\"Passed All Tests!\")\n",
    "print (\"-\" * 80)"
   ]
  },
  {
   "cell_type": "markdown",
   "metadata": {},
   "source": [
    "### Question 1.4: Implement `plot_embeddings` [code] (1 point)\n",
    "\n",
    "Here you will write a function to plot a set of 2D vectors in 2D space. For graphs, we will use Matplotlib (`plt`).\n",
    "\n",
    "For this example, you may find it useful to adapt [this code](https://www.pythonmembers.club/2018/05/08/matplotlib-scatter-plot-annotate-set-text-at-label-each-point/). In the future, a good way to make a plot is to look at [the Matplotlib gallery](https://matplotlib.org/gallery/index.html), find a plot that looks somewhat like what you want, and adapt the code they give."
   ]
  },
  {
   "cell_type": "code",
   "execution_count": 11,
   "metadata": {
    "ExecuteTime": {
     "end_time": "2021-06-16T07:08:38.091105Z",
     "start_time": "2021-06-16T07:08:38.084862Z"
    }
   },
   "outputs": [],
   "source": [
    "def plot_embeddings(M_reduced, word2Ind, words):\n",
    "    \"\"\" Plot in a scatterplot the embeddings of the words specified in the list \"words\".\n",
    "        NOTE: do not plot all the words listed in M_reduced / word2Ind.\n",
    "        Include a label next to each point.\n",
    "        \n",
    "        Params:\n",
    "            M_reduced (numpy matrix of shape (number of unique words in the corpus , 2)): matrix of 2-dimensioal word embeddings\n",
    "            word2Ind (dict): dictionary that maps word to indices for matrix M\n",
    "            words (list of strings): words whose embeddings we want to visualize\n",
    "    \"\"\"\n",
    "\n",
    "    # ------------------\n",
    "    # Write your implementation here.\n",
    "    for word in words:\n",
    "        x = M_reduced[word2Ind[word]][0]\n",
    "        y = M_reduced[word2Ind[word]][1]\n",
    "        plt.scatter(x, y, marker='x', color='blue')\n",
    "        plt.text(x, y, word)\n",
    "    plt.show()\n",
    "\n",
    "    # ------------------"
   ]
  },
  {
   "cell_type": "code",
   "execution_count": 12,
   "metadata": {
    "ExecuteTime": {
     "end_time": "2021-06-16T07:08:38.968925Z",
     "start_time": "2021-06-16T07:08:38.730771Z"
    }
   },
   "outputs": [
    {
     "name": "stdout",
     "output_type": "stream",
     "text": [
      "--------------------------------------------------------------------------------\n",
      "Outputted Plot:\n"
     ]
    },
    {
     "data": {
      "image/png": "[encoded data removed]",
      "text/plain": [
       "<Figure size 720x360 with 1 Axes>"
      ]
     },
     "metadata": {
      "needs_background": "light"
     },
     "output_type": "display_data"
    },
    {
     "name": "stdout",
     "output_type": "stream",
     "text": [
      "--------------------------------------------------------------------------------\n"
     ]
    }
   ],
   "source": [
    "# ---------------------\n",
    "# Run this sanity check\n",
    "# Note that this is not an exhaustive check for correctness.\n",
    "# The plot produced should look like the \"test solution plot\" depicted below. \n",
    "# ---------------------\n",
    "\n",
    "print (\"-\" * 80)\n",
    "print (\"Outputted Plot:\")\n",
    "\n",
    "M_reduced_plot_test = np.array([[1, 1], [-1, -1], [1, -1], [-1, 1], [0, 0]])\n",
    "word2Ind_plot_test = {'test1': 0, 'test2': 1, 'test3': 2, 'test4': 3, 'test5': 4}\n",
    "words = ['test1', 'test2', 'test3', 'test4', 'test5']\n",
    "plot_embeddings(M_reduced_plot_test, word2Ind_plot_test, words)\n",
    "\n",
    "print (\"-\" * 80)"
   ]
  },
  {
   "cell_type": "markdown",
   "metadata": {},
   "source": [
    "<font color=red>**Test Plot Solution**</font>\n",
    "<br>\n",
    "<img src=\"./imgs/test_plot.png\" width=40% style=\"float: left;\"> </img>\n"
   ]
  },
  {
   "cell_type": "markdown",
   "metadata": {},
   "source": [
    "### Question 1.5: Co-Occurrence Plot Analysis [written] (3 points)\n",
    "\n",
    "Now we will put together all the parts you have written! We will compute the co-occurrence matrix with fixed window of 4 (the default window size), over the Reuters \"crude\" (oil) corpus. Then we will use TruncatedSVD to compute 2-dimensional embeddings of each word. TruncatedSVD returns U\\*S, so we need to normalize the returned vectors, so that all the vectors will appear around the unit circle (therefore closeness is directional closeness). **Note**: The line of code below that does the normalizing uses the NumPy concept of *broadcasting*. If you don't know about broadcasting, check out\n",
    "[Computation on Arrays: Broadcasting by Jake VanderPlas](https://jakevdp.github.io/PythonDataScienceHandbook/02.05-computation-on-arrays-broadcasting.html).\n",
    "\n",
    "Run the below cell to produce the plot. It'll probably take a few seconds to run. What clusters together in 2-dimensional embedding space? What doesn't cluster together that you might think should have?  **Note:** \"bpd\" stands for \"barrels per day\" and is a commonly used abbreviation in crude oil topic articles."
   ]
  },
  {
   "cell_type": "code",
   "execution_count": 147,
   "metadata": {
    "ExecuteTime": {
     "end_time": "2021-06-15T12:33:14.753873Z",
     "start_time": "2021-06-15T12:33:11.202070Z"
    }
   },
   "outputs": [
    {
     "name": "stdout",
     "output_type": "stream",
     "text": [
      "Running Truncated SVD over 8185 words...\n",
      "Done.\n"
     ]
    },
    {
     "data": {
      "image/png": "[encoded data removed]",
      "text/plain": [
       "<Figure size 720x360 with 1 Axes>"
      ]
     },
     "metadata": {
      "needs_background": "light"
     },
     "output_type": "display_data"
    }
   ],
   "source": [
    "# -----------------------------\n",
    "# Run This Cell to Produce Your Plot\n",
    "# ------------------------------\n",
    "reuters_corpus = read_corpus()\n",
    "M_co_occurrence, word2Ind_co_occurrence = compute_co_occurrence_matrix(reuters_corpus)\n",
    "M_reduced_co_occurrence = reduce_to_k_dim(M_co_occurrence, k=2)\n",
    "\n",
    "# Rescale (normalize) the rows to make them each of unit-length\n",
    "M_lengths = np.linalg.norm(M_reduced_co_occurrence, axis=1)\n",
    "M_normalized = M_reduced_co_occurrence / M_lengths[:, np.newaxis] # broadcasting\n",
    "words = ['barrels', 'bpd', 'ecuador', 'energy', 'industry', 'kuwait', 'oil', 'output', 'petroleum', 'venezuela']\n",
    "\n",
    "plot_embeddings(M_normalized, word2Ind_co_occurrence, words)"
   ]
  },
  {
   "cell_type": "markdown",
   "metadata": {},
   "source": [
    "#### <font color=\"red\">Write your answer here.</font>\n"
   ]
  },
  {
   "cell_type": "markdown",
   "metadata": {},
   "source": [
    "## Part 2: Prediction-Based Word Vectors (15 points)\n",
    "\n",
    "As discussed in class, more recently prediction-based word vectors have demonstrated better performance, such as word2vec and GloVe (which also utilizes the benefit of counts). Here, we shall explore the embeddings produced by GloVe. Please revisit the class notes and lecture slides for more details on the word2vec and GloVe algorithms. If you're feeling adventurous, challenge yourself and try reading [GloVe's original paper](https://nlp.stanford.edu/pubs/glove.pdf).\n",
    "\n",
    "Then run the following cells to load the GloVe vectors into memory. **Note**: If this is your first time to run these cells, i.e. download the embedding model, it will take about 15 minutes to run. If you've run these cells before, rerunning them will load the model without redownloading it, which will take about 1 to 2 minutes."
   ]
  },
  {
   "cell_type": "code",
   "execution_count": 22,
   "metadata": {
    "ExecuteTime": {
     "end_time": "2021-06-16T07:29:46.944179Z",
     "start_time": "2021-06-16T07:29:46.939501Z"
    }
   },
   "outputs": [],
   "source": [
    "def load_embedding_model():\n",
    "    \"\"\" Load GloVe Vectors\n",
    "        Return:\n",
    "            wv_from_bin: All 400000 embeddings, each lengh 200\n",
    "    \"\"\"\n",
    "    import gensim.downloader as api\n",
    "    wv_from_bin = api.load(\"glove-wiki-gigaword-200\")\n",
    "    #print(\"Loaded vocab size %i\" % len(wv_from_bin.vocab.keys()))\n",
    "    print(\"Loaded vocab size %i\" % len(list(wv_from_bin.index_to_key)))\n",
    "    return wv_from_bin"
   ]
  },
  {
   "cell_type": "code",
   "execution_count": 23,
   "metadata": {
    "ExecuteTime": {
     "end_time": "2021-06-16T07:31:02.502840Z",
     "start_time": "2021-06-16T07:29:47.423046Z"
    }
   },
   "outputs": [
    {
     "name": "stdout",
     "output_type": "stream",
     "text": [
      "Loaded vocab size 400000\n"
     ]
    }
   ],
   "source": [
    "# -----------------------------------\n",
    "# Run Cell to Load Word Vectors\n",
    "# Note: This will take several minutes\n",
    "# -----------------------------------\n",
    "wv_from_bin = load_embedding_model()"
   ]
  },
  {
   "cell_type": "markdown",
   "metadata": {},
   "source": [
    "#### Note: If you are receiving reset by peer error, rerun the cell to restart the download. "
   ]
  },
  {
   "cell_type": "markdown",
   "metadata": {},
   "source": [
    "### Reducing dimensionality of Word Embeddings\n",
    "Let's directly compare the GloVe embeddings to those of the co-occurrence matrix. In order to avoid running out of memory, we will work with a sample of 10000 GloVe vectors instead.\n",
    "Run the following cells to:\n",
    "\n",
    "1. Put 10000 Glove vectors into a matrix M\n",
    "2. Run reduce_to_k_dim (your Truncated SVD function) to reduce the vectors from 200-dimensional to 2-dimensional."
   ]
  },
  {
   "cell_type": "code",
   "execution_count": 37,
   "metadata": {
    "ExecuteTime": {
     "end_time": "2021-06-16T08:05:04.846249Z",
     "start_time": "2021-06-16T08:05:04.835990Z"
    }
   },
   "outputs": [],
   "source": [
    "def get_matrix_of_vectors(wv_from_bin, required_words=['barrels', 'bpd', 'ecuador', 'energy', 'industry', 'kuwait', 'oil', 'output', 'petroleum', 'venezuela']):\n",
    "    \"\"\" Put the GloVe vectors into a matrix M.\n",
    "        Param:\n",
    "            wv_from_bin: KeyedVectors object; the 400000 GloVe vectors loaded from file\n",
    "        Return:\n",
    "            M: numpy matrix shape (num words, 200) containing the vectors\n",
    "            word2Ind: dictionary mapping each word to its row number in M\n",
    "    \"\"\"\n",
    "    import random\n",
    "    #words = list(wv_from_bin.vocab.keys())\n",
    "    words = list(wv_from_bin.index_to_key)\n",
    "    print(\"Shuffling words ...\")\n",
    "    random.seed(224)\n",
    "    random.shuffle(words)\n",
    "    words = words[:10000]\n",
    "    print(\"Putting %i words into word2Ind and matrix M...\" % len(words))\n",
    "    word2Ind = {}\n",
    "    M = []\n",
    "    curInd = 0\n",
    "    for w in words:\n",
    "        try:\n",
    "            M.append(wv_from_bin.get_vector(w))\n",
    "            word2Ind[w] = curInd\n",
    "            curInd += 1\n",
    "        except KeyError:\n",
    "            continue\n",
    "    for w in required_words:\n",
    "        if w in words:\n",
    "            continue\n",
    "        try:\n",
    "            M.append(wv_from_bin.get_vector(w))\n",
    "            word2Ind[w] = curInd\n",
    "            curInd += 1\n",
    "        except KeyError:\n",
    "            continue\n",
    "    M = np.stack(M)\n",
    "    print(\"Done.\")\n",
    "    return M, word2Ind"
   ]
  },
  {
   "cell_type": "code",
   "execution_count": 38,
   "metadata": {
    "ExecuteTime": {
     "end_time": "2021-06-16T08:05:05.430556Z",
     "start_time": "2021-06-16T08:05:05.044711Z"
    }
   },
   "outputs": [
    {
     "name": "stdout",
     "output_type": "stream",
     "text": [
      "Shuffling words ...\n",
      "Putting 10000 words into word2Ind and matrix M...\n",
      "{'verged': 0, 'savers': 1, \"'93\": 2, 'hensler': 3, 'dance-rock': 4, 'several': 5, 'feary': 6, 'bashkirs': 7, 'usns': 8, 'evangel': 9, 'abdelbaki': 10, 'entlebuch': 11, 'tashiyev': 12, 'mamercus': 13, 'talpiot': 14, 'prejudgment': 15, 'alber': 16, 'ekaette': 17, 'nestorian': 18, 'scutt': 19, 'liberal-labour': 20, 'milfoil': 21, 'wariness': 22, 'snowblower': 23, 'gips': 24, 'voltage': 25, 'kokorev': 26, 'swigart': 27, 'ukec': 28, 'fuamatu': 29, '30.75': 30, 'pietre': 31, 'saxophonist': 32, 'multi-touch': 33, 't-minus': 34, '3-0-11-0': 35, 'snitterfield': 36, '1014': 37, 'snarled': 38, 'nonpareils': 39, 'nejd': 40, 'litani': 41, 'gewogs': 42, 'alaoui': 43, 'splays': 44, 'neowiz': 45, 'khurda': 46, 'andechs': 47, 'bonanza': 48, 'seethed': 49, 'epistle': 50, 'kalm': 51, '2.78': 52, 'cienfuegos': 53, 'outgrowing': 54, 'ralt': 55, 'viva': 56, 'kahama': 57, 'mahiedine': 58, 'masint': 59, 'miscuing': 60, 'zhongchen': 61, '27-minute': 62, 'lineatus': 63, 'danneberg': 64, 'springboro': 65, 'gjelten': 66, 'farland': 67, 'lahiya': 68, 'deguzman': 69, 'neram': 70, 'torts': 71, 'kara.medalis': 72, 'liteks': 73, '58.91': 74, 'yrsa': 75, 'adjani': 76, '8-inch': 77, '7-for-22': 78, 'ogidi': 79, 'nelli': 80, '34.3': 81, 'paraconsistent': 82, 'fenestrated': 83, 'optional': 84, 'rpt': 85, 'imagic': 86, 'hla': 87, '2,700-square': 88, 'hawkish': 89, 'dogfights': 90, 'giardiniera': 91, 'claesson': 92, 'ayelet': 93, 'rack-mount': 94, 'fervently': 95, 'dogtown': 96, '36.13': 97, 'courtemanche': 98, 'exf6': 99, 'hằng': 100, 'demoralised': 101, '397th': 102, 'spotlit': 103, '6,236': 104, 'kukly': 105, 'lifecasting': 106, 'sobriquets': 107, 'amhurst': 108, 'uprooting': 109, 'mclaren-mercedes': 110, 'staufen': 111, 'decimating': 112, 'benussi': 113, 'chopsticks': 114, 'harmsen': 115, 'aa-1': 116, '232.4': 117, 'kleihues': 118, 'vasil': 119, 'cornelissen': 120, 'haku': 121, 'lns': 122, 'jayussi': 123, '58sec': 124, 'sveinbjörn': 125, 'forefinger': 126, 'sil': 127, 'triggermen': 128, '35-point': 129, '26.59': 130, 'hotson': 131, 'vejvoda': 132, 'learie': 133, '1500cc': 134, 'avendra': 135, 'roared': 136, 'branched': 137, 'nitc': 138, 'semyonova': 139, 'next-to-last': 140, 'blassie': 141, '26,100': 142, 'octets': 143, 'mom-and-pop': 144, 'wangjing': 145, 'cihr': 146, 'youlus': 147, 'cogliatti': 148, 'throughputs': 149, 'kuji': 150, '.575': 151, 'parmatour': 152, 'kushnick': 153, 'marylhurst': 154, 'callsign': 155, 'kowloon-canton': 156, 'ondi': 157, 'culkin': 158, 'manit': 159, 'witz': 160, 'yiannakis': 161, 'voboril': 162, 'vaw': 163, 'footage': 164, 'nlgja': 165, 'compsognathus': 166, '400-metres': 167, 'showbusiness': 168, 'ujiji': 169, '51.50': 170, 'something': 171, 'death-defying': 172, 'lebed': 173, 'seasonal': 174, 'acculturation': 175, 'bryophytes': 176, '90.05': 177, 'unpopped': 178, 'human-animal': 179, 'brank': 180, 'musona': 181, 'inerrancy': 182, 'valenti': 183, 'self-organized': 184, 'lightly': 185, 'front-runner': 186, 'handleman': 187, 'savary': 188, 'aic': 189, 'arensberg': 190, 'lcbo': 191, 'ginell': 192, 'balestrand': 193, 'mbh99': 194, '120.3': 195, 'gercüş': 196, 'jouarre': 197, 'mihalich': 198, 'analysing': 199, 'timesheet': 200, '90.49': 201, 'spoelstra': 202, 'blasters': 203, 'kapitan': 204, 'valcheva': 205, 'outstandingly': 206, '4,338': 207, 'gilo': 208, 'kazik': 209, 'kockott': 210, \"ba'athism\": 211, 'municipals': 212, 'paço': 213, 'udk': 214, 'solidness': 215, 'electrodeposition': 216, 'riggenbach': 217, 'mchattie': 218, 'saccomano': 219, 'serreau': 220, 'mismanaging': 221, 'takeout': 222, 'bacteria': 223, 'winslow': 224, 'rebuttals': 225, 'defenestration': 226, 'ranked': 227, 'davala': 228, 'markson': 229, 'consecrator': 230, 'xichuan': 231, 'petersfield': 232, 'hamwi': 233, 'copacetic': 234, 'shawash': 235, 'spanked': 236, 'piton': 237, 'colony-stimulating': 238, 'chitralada': 239, 'bantariza': 240, 'swl': 241, 'attention-seeking': 242, 'babakova': 243, 'ié': 244, 'kewley': 245, 'truncates': 246, 'colegrove': 247, '1,251': 248, '1893': 249, 'smethport': 250, 'russkaya': 251, 'digimon': 252, 'mahipala': 253, 'infinitesimal': 254, 'leipziger': 255, 'emirati': 256, 'lounsberry': 257, 'blimp': 258, 'self-respecting': 259, 'aggregate': 260, 'sambil': 261, 'broomball': 262, 'torregrosa': 263, 'billin': 264, 'vågan': 265, 'nedda': 266, 'teleservices': 267, 'herøy': 268, '/': 269, '31-51': 270, 'lir': 271, 'o-o': 272, 'steep': 273, 'governates': 274, 'unlikeable': 275, '96.79': 276, 'hoochie': 277, '#c': 278, 'tocadisco': 279, 'seager': 280, 'presarios': 281, 'blueberries': 282, 'corri': 283, 'migori': 284, '3.7-percent': 285, 'mortiz': 286, 'loa': 287, 'radmacher': 288, 'fcuk': 289, 'two-bladed': 290, 'marketers': 291, 'decrypt': 292, 'kamba': 293, 'moonwalks': 294, 'mudhaffar': 295, 'thylacine': 296, 'ustream': 297, 'fulong': 298, 'geocentrism': 299, 'cabal': 300, 'jongleurs': 301, 'gameboys': 302, 'blumenfield': 303, 'brookside': 304, 'f-5es': 305, 'centum': 306, 'wrinkling': 307, 'bromby': 308, 'heerstraße': 309, '5-fold': 310, 'qiliang': 311, 'bocchetti': 312, 'laprade': 313, 'southwestwards': 314, 'burnes': 315, 'moniuszko': 316, 'deuel': 317, 'lycoming': 318, 'takahito': 319, 'diogenes': 320, 'gladewater': 321, 'wainscott': 322, 'austrått': 323, 'guanghua': 324, 'c-130': 325, 'shekau': 326, '25-yarder': 327, 'janick': 328, 'raunds': 329, 'muasher': 330, 'a17': 331, 'landru': 332, 'belgrade': 333, 'rd7': 334, 'engulfs': 335, 'charlatans': 336, 'rack': 337, 'teenaged': 338, '24-hectare': 339, 'highwire': 340, '5:17': 341, 'ifshin': 342, 'balintawak': 343, 'koneswaram': 344, 'parlane': 345, 'go-on': 346, '982': 347, 'imin': 348, 'thạnh': 349, '160.5': 350, 'arcadia': 351, 'rin': 352, 'tong': 353, 'fushe': 354, 'unleased': 355, 'stadiums': 356, 'portenoy': 357, 'sanat': 358, 'herb': 359, '9-ounce': 360, 'huettelsptimes.com': 361, 'pele': 362, 'arrowheads': 363, 'hatmaker': 364, 'ilyukhin': 365, 'inflight': 366, 'condescending': 367, '9s': 368, 'carballo': 369, 'tickertape': 370, 'swiftian': 371, 'cristophe': 372, 'belies': 373, 'religare': 374, 'ozz': 375, 'distortion': 376, 'kubaissi': 377, 'dhaka': 378, 'geul': 379, 'mirra': 380, '103.76': 381, '70.26': 382, 'anfernee': 383, '2006-08': 384, 'provincie': 385, '248.2': 386, 'moco': 387, '11.75': 388, 'sviatopolk': 389, 'stratified': 390, 'kanpur': 391, 'osterholm': 392, 'al-rahman': 393, 'ljubic': 394, 'c11': 395, 'f-104a': 396, 'russula': 397, 'helpage': 398, 'webgl': 399, 'jeddore': 400, 'chatton': 401, 'huasteca': 402, 'zecchino': 403, 'brundle': 404, 'gandois': 405, 'premixed': 406, 'defibrillators': 407, 'papermakers': 408, 'pimen': 409, 'nallet': 410, '11:18': 411, 'bawa': 412, 'markale': 413, '22.6': 414, '113.90': 415, 'gromyko': 416, 'yasuoka': 417, '75-minute': 418, 'avodah': 419, 'palmier': 420, 'algeri': 421, 'blackhall': 422, 'paracels': 423, 'astrovision': 424, '75.48': 425, 'gloag': 426, '58.14': 427, 'yidu': 428, 'bergougnoux': 429, 'kokura': 430, 'ekerö': 431, 'accepts': 432, 'sketches': 433, 'diskos': 434, 'abberley': 435, 'states-based': 436, 'exige': 437, 'tiare': 438, 'nevins': 439, 'b.d.': 440, 'floyer': 441, 'gunman': 442, 'nanoparticle': 443, 'punan': 444, 'djhone': 445, 'q45': 446, 'cisowski': 447, 'wiske': 448, 'eprex': 449, 'rafanan': 450, 'powerslam': 451, '1168': 452, '1,186': 453, 'igdir': 454, 'vallecito': 455, '2.7-meter': 456, 'rpp': 457, '35-foot': 458, 'pounced': 459, 'limps': 460, '1997-2008': 461, 'seanez': 462, 'tanpura': 463, 'qnexa': 464, '31.79': 465, 'pojar': 466, '.341': 467, 'crawshaw': 468, 'ratae': 469, 'moghreb': 470, 'petra': 471, 'overwing': 472, 'endemics': 473, 'husbands': 474, 'chanteuse': 475, '72/3': 476, 'luxembourg': 477, 'st.-julien': 478, 'chanos': 479, 'guillotined': 480, 'bagosora': 481, '-----------------------------------------------': 482, 'moiseeva': 483, 'elberfeld': 484, 'defrantz': 485, 'interlinear': 486, 'nazar': 487, 'euro482': 488, 'maeterlinck': 489, 'lumberton': 490, 'wadded': 491, 'prostrate': 492, 'musikapong': 493, 'zdroj': 494, 'canoa': 495, 'lleno': 496, 'aisin': 497, 'oceanography': 498, 'anglogold': 499, 'rhodesians': 500, 'gasbag': 501, 'http://www.storaenso.com': 502, 'razo': 503, 'biches': 504, 'tehelka': 505, 'selkoe': 506, '2-103': 507, 'platero': 508, 'rivas': 509, 'flp': 510, 'wqxr': 511, 'appoint': 512, 'auja': 513, 'wcsh': 514, 'morkel': 515, 'yokneam': 516, 'chogyal': 517, 'full-width': 518, 'loudest': 519, 'chelouche': 520, 'naoshi': 521, '737-400s': 522, 'tadeo': 523, 'moleyns': 524, 'pettite': 525, 'aktiebolag': 526, '722,000': 527, 'mmc': 528, 'mnas': 529, 'followings': 530, '82.93': 531, 'avoid': 532, 'apheresis': 533, '40-9': 534, '76.36': 535, 'trackball': 536, 'impropriety': 537, \"o'neill\": 538, 'beattie': 539, 'carhaix': 540, 'seyam': 541, 'mcgladrey': 542, 'souterrain': 543, 'chryseis': 544, 'raho': 545, 'libera': 546, 'citians': 547, 'nua': 548, 'eakle': 549, '1,106': 550, 'd.k.': 551, '76-point': 552, 'jernej': 553, 'bosket': 554, 'euro369': 555, 'brerewood': 556, 'roeser': 557, 'memons': 558, 'micropolitan': 559, 'kacher': 560, 'robo': 561, 'mieth': 562, 'karamzin': 563, 'peavey': 564, 'dyslexic': 565, 'rehearses': 566, 'teleoconch': 567, 'verbotene': 568, 'maynas': 569, 'nublense': 570, 'olimbos': 571, '1686': 572, 'domini': 573, 'elastics': 574, 'poteet': 575, 'galluzzo': 576, 'steinhagen': 577, 'dilettantism': 578, 'nijinska': 579, 'ultramodern': 580, 'anello': 581, 'saturninus': 582, 'phorbol': 583, 'rice-based': 584, 'wurundjeri': 585, 'bsheets': 586, 'dylex': 587, 'futaba': 588, 'smurray': 589, 'harkonnen': 590, 'glochidion': 591, 'neurobiologists': 592, 'corrals': 593, '0634': 594, 'duracell': 595, '4,281': 596, 'shahjahanpur': 597, 'hsiou': 598, 'madiga': 599, 'mychael': 600, 'chanthol': 601, 'beastmen': 602, 'nece': 603, 'photocurrent': 604, '169.9': 605, '20million': 606, 'lakernotes': 607, 'removed': 608, 'skarn': 609, 'skepta': 610, 'georgine': 611, 'thermic': 612, 'weaponry': 613, 'brite': 614, 'limmud': 615, 'teddie': 616, '75.69': 617, 'topten': 618, 'tant': 619, 'manhattanite': 620, 'dongdan': 621, 'protas': 622, 'firor': 623, 'rock-a-bye': 624, 'kris': 625, 'sesil': 626, 'chalfie': 627, 'bheki': 628, 'groundbreakers': 629, 'javastation': 630, 'herbie': 631, 'jeske': 632, 'gollust': 633, 'bankard': 634, 'sleightholme': 635, 'kagato': 636, 'querying': 637, 'lhakhang': 638, 'eco-system': 639, 'myth-making': 640, 'qadim': 641, 'shuofang': 642, '83.13': 643, 'ylenia': 644, 'spoliation': 645, 'zarifi': 646, 'halh': 647, '1.79': 648, 'buchori': 649, 'roun': 650, 'bodaken': 651, '3,057': 652, 'shirwan': 653, 'yeppoon': 654, 'apparatchik': 655, 'meshullam': 656, 'cabannes': 657, 'anuncio': 658, 'latticework': 659, '6,000-square': 660, 'pva': 661, 'gebre': 662, '2,682': 663, 'trym': 664, '330,000': 665, 'e14': 666, 'holism': 667, 'ekibastuz': 668, 'pavez': 669, 'nickolas': 670, 'reuptake': 671, 'maxed': 672, 'lovesounds': 673, '2,000-mile': 674, 'longueuil': 675, 'cabuyao': 676, 'magadhi': 677, 'achromatic': 678, 'ain-i-akbari': 679, '1708': 680, 'vilest': 681, 'chenglin': 682, 'ellam': 683, 'darroze': 684, 'pricetag': 685, 'veniste': 686, 'sartan': 687, 'outracing': 688, 'sinyangwe': 689, 'mihails': 690, '37,125': 691, 'trogoniformes': 692, 'uladzimir': 693, 'louveciennes': 694, 'assessement': 695, 'chek': 696, 'dalhousie': 697, 'five-cent': 698, 'eaglescliffe': 699, 'cgis': 700, 'cawnpore': 701, 'eristavi': 702, '1980-1982': 703, 'mugyenyi': 704, 'webpages': 705, 'redruth': 706, 'fibiger': 707, 'mid-america': 708, '15.42': 709, 'merrihew': 710, 'oxidant': 711, 'ufdg': 712, 'chai': 713, 'hevea': 714, 'economy.com': 715, 'laface': 716, 'crafty': 717, 'fourth-year': 718, 'betraying': 719, '102.85': 720, 'cadaqués': 721, 'gastronomique': 722, 'mazo': 723, 'hariyadi': 724, 'mawr': 725, 'petard': 726, 'freegans': 727, 'lovage': 728, 'carmignani': 729, 'förderung': 730, 'alnus': 731, 'gavrilović': 732, 'pininfarina': 733, 'francs': 734, 'rossendale': 735, 'tumba': 736, 'hogwash': 737, '1.52': 738, 'alamo': 739, 'fine-art': 740, 'bianconeri': 741, 'sandomir': 742, 'zhuoji': 743, 'guanciale': 744, 'darrieussecq': 745, 'thanh': 746, 'grójec': 747, 'bentalha': 748, 'b/w': 749, 'ashmawy': 750, 'all-rounders': 751, 'telstar': 752, 'workspaces': 753, 'manikin': 754, 'pivovarna': 755, 'filipinos': 756, 'repeaters': 757, 'guilan': 758, 'wordiness': 759, 'departamentos': 760, 'traviesa': 761, 'codice_13': 762, 'longstreth': 763, '580-billion': 764, 'nicomachus': 765, 'vikarby': 766, 'lastname': 767, 'tannoy': 768, 'finney': 769, '13-under': 770, 'lomax': 771, 'barsuk': 772, 'flinched': 773, 'milch': 774, 'castlerock': 775, 'verifone': 776, 'outgoing': 777, 'kalafi': 778, 'shenfeld': 779, '1,907': 780, 'mullin': 781, 'schoen': 782, 'adament': 783, 'tipperary': 784, 'unsa': 785, 'wissen': 786, 'hagfors': 787, '(303)': 788, 'bremse': 789, 'disentangled': 790, 'caru': 791, 'prievidza': 792, 'dissidents': 793, 'mozarab': 794, 'unger': 795, 'show': 796, 'khasis': 797, 'wobbles': 798, 'supertram': 799, 'kosik': 800, 'numbs': 801, 'unaxis': 802, 'yelin': 803, '61st': 804, 'weinger': 805, 'džemal': 806, 'sirf': 807, 'yens': 808, 'human-to-human': 809, 'linné': 810, 'ape-man': 811, 'murage': 812, 'telia': 813, 'primly': 814, 'takala': 815, '66.73': 816, 'guzmán': 817, '12.45': 818, 'leobardo': 819, 'hot-headed': 820, 'a-6p': 821, 'focal-plane': 822, 'tonn': 823, 'seeuws': 824, 'kujawy': 825, 'meekness': 826, 'searchers': 827, 'biau': 828, 'cefalu': 829, 'polarise': 830, 'krosno': 831, 'khali': 832, '159.3': 833, 'rizzitelli': 834, 'machinations': 835, 'croce': 836, 'successive': 837, 'dagoc': 838, 'grewia': 839, 'gres': 840, 'radicchio': 841, 'spectactor': 842, 'signficance': 843, 'rochom': 844, 'sequelae': 845, 'dippers': 846, 'fyrstenberg': 847, 'djorgovski': 848, 'ruag': 849, 'marché': 850, 'babahoyo': 851, 'thanvi': 852, 'bogue': 853, 'mactaggart': 854, 'inscriptional': 855, 'panpan': 856, 'newbury': 857, 'tarter': 858, 'innis': 859, 'aberconway': 860, '66s': 861, 'bgle': 862, '6.38': 863, 'borthwick': 864, 'conquerors': 865, '2lt': 866, 'boulby': 867, 'ganjavi': 868, 'mlita': 869, '1746': 870, 'soulive': 871, 'joura': 872, 'sangweni': 873, 'unloosed': 874, '-2.8': 875, 'zeeman': 876, 'lysekil': 877, 'stottlemeyer': 878, 'vandalising': 879, 'homi': 880, 'megève': 881, 'coangos': 882, 'anúna': 883, 'tisdel': 884, 'murder-suicide': 885, 'personalised': 886, '1-tablespoon': 887, 'reinas': 888, 'hueso': 889, 'vijayashanti': 890, 'bisheh': 891, 'cypria': 892, '59.61': 893, '44-percent': 894, 'jabrayil': 895, 'mazovian': 896, 'infusing': 897, 'agbank': 898, 'comic-strip': 899, 'humanizes': 900, 'mannington': 901, 'sadagoppan': 902, 'nipples': 903, 'chatshow': 904, 'climatological': 905, 'wxwidgets': 906, 'krishen': 907, '76-67': 908, 'närke': 909, 'countrified': 910, 'p&s': 911, 'onigiri': 912, 'psinet': 913, 'tavist': 914, 'rerun': 915, 'schizosaccharomyces': 916, 'monogenetic': 917, 'myong': 918, 'street-fighting': 919, 'lame-duck': 920, 'drafting': 921, 'umbridge': 922, 'massouda': 923, 'c-o': 924, 'ismaili': 925, '141.0': 926, 'hornberger': 927, 'alexion': 928, '1.105': 929, 'sunroom': 930, 'noorullah': 931, 'paisiello': 932, 'cholesteryl': 933, '2002is': 934, 'paracles': 935, 'washpost.com': 936, 'bruce.seeman': 937, 'camels': 938, '太守': 939, 'investhk': 940, 'incus': 941, 'noto': 942, '77.40': 943, 'rukingama': 944, 'chalcogens': 945, 'vuelvo': 946, 'braiders': 947, 'dortch': 948, 'halfbeak': 949, 'novick': 950, 'o-train': 951, 'videophiles': 952, 'vicar-general': 953, 'yuriev': 954, 'duela': 955, '342': 956, 'pecc': 957, \"ra'ed\": 958, 'katsuta': 959, 'hessischer': 960, 'pinaceae': 961, 'forbid': 962, 'nanak': 963, 'sauerbruch': 964, 'hegan': 965, 'asds': 966, '41-day': 967, 'replaces': 968, 'a428': 969, 'impresario': 970, 'badawy': 971, 'elphinstone': 972, '3,585': 973, 'vic-wells': 974, 'a-season': 975, 'advertiser': 976, 'ails': 977, 'cherupuzha': 978, 'afmc': 979, '1307': 980, 'ardrossan': 981, 'still-living': 982, 'r-az': 983, 'newmedia': 984, 'ukmergė': 985, 'shomali': 986, 'chevry': 987, 'mangosteens': 988, 'cellulase': 989, 'halved': 990, 'gemcitabine': 991, 'hiryu': 992, 'maarib': 993, 'ludicrousness': 994, 'cascada': 995, 'epenthesis': 996, 'kalua': 997, 'omarama': 998, '309': 999, 'shootouts': 1000, '1954': 1001, 'unconditioned': 1002, 'doukhobor': 1003, 'tittle': 1004, '2,938': 1005, 'genomes': 1006, 'tesio': 1007, 'sophistic': 1008, '14f': 1009, 'maeder': 1010, 'rothamsted': 1011, 'optiver': 1012, 'nordbahnhof': 1013, 'photocells': 1014, 'hoger': 1015, 'time-like': 1016, '18.46': 1017, 'valide': 1018, '130.8': 1019, 'langdale': 1020, 'dallington': 1021, 'downchild': 1022, 'mutal': 1023, 'inroads': 1024, 'thimble': 1025, 'daktronics': 1026, 'rd3': 1027, 'bellegarrigue': 1028, 'radaronline.com': 1029, 'combing': 1030, 'volleyball': 1031, 'musameh': 1032, 'rivne': 1033, 'boogert': 1034, '1939-45': 1035, 'talks': 1036, 'lisheng': 1037, '.0625': 1038, '40.77': 1039, 'lampur': 1040, '36-39': 1041, 'bronfenbrenner': 1042, 'etsuko': 1043, 'psyops': 1044, 'similares': 1045, 'janpath': 1046, 'slatten': 1047, 'peairs': 1048, 'temecula': 1049, 'coms': 1050, 'chieng': 1051, 'accival': 1052, 'muhlach': 1053, 'drawcard': 1054, 'vitgeft': 1055, 'anavet': 1056, 'bombs': 1057, 'brownish-orange': 1058, 'trawled': 1059, 'meineke': 1060, 'co-artistic': 1061, 'hithlum': 1062, 'partage': 1063, 'cantz': 1064, 'nortena': 1065, 'grita': 1066, 'altas': 1067, 'kovell': 1068, 'wholly': 1069, 'vadhana': 1070, 'carnian': 1071, 'valinda': 1072, 'stitched': 1073, 'lillywhites': 1074, 'scorponok': 1075, 'oladipo': 1076, '3054': 1077, 'vidyaranya': 1078, 'moshood': 1079, 'newness': 1080, 'cawley': 1081, 'terraform': 1082, 'hku': 1083, 'expres': 1084, 'syriacs': 1085, 'makram': 1086, 'pierpaolo': 1087, 'ribavirin': 1088, 'nematic': 1089, 'hydrazone': 1090, 'narayanrao': 1091, 'band-aid': 1092, 'ornithine': 1093, 'fenced-in': 1094, 'hindwing': 1095, 'giniel': 1096, 'belzig': 1097, 'bengalensis': 1098, '109.97': 1099, 'referents': 1100, 'kimberley': 1101, '31-1': 1102, 'gengler': 1103, 'hollandsche': 1104, 'pittsville': 1105, 'geno': 1106, '113.8': 1107, 'abatement': 1108, 'filoil': 1109, 'tecnologico': 1110, 'dorfmann': 1111, '826': 1112, 'traesch': 1113, 'mongstad': 1114, 'mortada': 1115, 'raboteau': 1116, 'u-18': 1117, 'maiorana': 1118, 'firstmerit': 1119, 'confusion': 1120, 'megaton': 1121, 'filml.a': 1122, 'rennison': 1123, 'hanok': 1124, 'altheimer': 1125, 'cauliflowers': 1126, 'mentis': 1127, 'phloroglucinol': 1128, 'limited-production': 1129, 'nacio': 1130, 'pharcyde': 1131, 'http://yang.sprl.umich.edu': 1132, 'boeken': 1133, 'rakam': 1134, 'lehrmann': 1135, 'azs': 1136, 'soglio': 1137, '100,000.00': 1138, 'also-ran': 1139, 'ástor': 1140, '60.92': 1141, 'barrel-shaped': 1142, 'megaforce': 1143, 'manlow': 1144, 'trehan': 1145, '81-80': 1146, 'delisa': 1147, 'gular': 1148, 'fengwu': 1149, 'aand': 1150, 'gugu': 1151, '44.61': 1152, 'second-ranked': 1153, 'twenty20s': 1154, 'baan': 1155, 'schooler': 1156, 'introspective': 1157, 'folembray': 1158, 'halons': 1159, '15.01': 1160, '1542': 1161, 'co-curriculum': 1162, 'single-expansion': 1163, 'top-five': 1164, 'latigo': 1165, 'cesaro': 1166, 'renslow': 1167, 'deephaven': 1168, 'zalapski': 1169, '19-11': 1170, 'parfaits': 1171, 'kailali': 1172, 'warraq': 1173, '0.525': 1174, 'felines': 1175, 'siaka': 1176, 'gild': 1177, 'krey': 1178, 'inno': 1179, 'gedney': 1180, '37.96': 1181, 'ruelas': 1182, 'pasdaran': 1183, 'sagiv': 1184, 'forest': 1185, 'livida': 1186, 'pinda': 1187, 'thile': 1188, 'birgitta': 1189, 'opposed-piston': 1190, 'rainfed': 1191, '087': 1192, 'published': 1193, 'ei': 1194, 'lomatium': 1195, 'buellton': 1196, 'fritas': 1197, 'caselli': 1198, 'gold-based': 1199, 'tofu': 1200, 'nicotera': 1201, 'heuze': 1202, 'gjøvik': 1203, 'skewed': 1204, 'brunetto': 1205, '23.72': 1206, 'goods': 1207, 'loret': 1208, 'rebadow': 1209, 'persuading': 1210, 'x-o': 1211, 'walk-through': 1212, 'vesuvio': 1213, 'kunsthalle': 1214, 'schoolmarm': 1215, 'spassky': 1216, 'savard': 1217, 'f42': 1218, 'michelis': 1219, 'evani': 1220, '105.11': 1221, 'romm': 1222, 'benefits': 1223, 'sequoyah': 1224, 'horicon': 1225, 'vidiprinter': 1226, 'hackborn': 1227, 'pillau': 1228, 'jheel': 1229, 'jarir': 1230, 'g-man': 1231, 'borowa': 1232, 'hottinger': 1233, 'zadan': 1234, 'noncommercial': 1235, '50.36': 1236, 'erhan': 1237, 'zaya': 1238, 'gjallarhorn': 1239, 'cynwyd': 1240, 'caesarean': 1241, 'scissorhands': 1242, 'showell': 1243, 'cumin': 1244, 'wroxeter': 1245, 'usnm': 1246, 'fayad': 1247, 'bodney': 1248, '1,300,000': 1249, 'petechiae': 1250, 'hanushek': 1251, 'washn': 1252, 'aarebrot': 1253, 'arhs': 1254, 'azrael': 1255, 'tindall': 1256, 'locas': 1257, 'moorcock': 1258, 'ebx': 1259, 'orthopyroxene': 1260, 'aloul': 1261, 'rawling': 1262, 'root-like': 1263, 'erck': 1264, 'baldaia': 1265, 'tacan': 1266, 'villenueve': 1267, '1539': 1268, 'arli': 1269, 'geddie': 1270, 'stoczek': 1271, 'serricchio': 1272, 'irizarry': 1273, 'pharnabazus': 1274, 'euro128': 1275, 'simonton': 1276, 'atle': 1277, 'modrak': 1278, 'psat': 1279, 'rabinovitz': 1280, 'andreou': 1281, 'fallen': 1282, '29.00': 1283, 'artscape': 1284, 'chhotu': 1285, 'broadway-style': 1286, 'saussy': 1287, 'felmy': 1288, 'salsette': 1289, 'deutsche': 1290, 'shimono': 1291, 'eisenhauer': 1292, '61th': 1293, 'incompetently': 1294, 'oliva': 1295, '124.31': 1296, 'wholes': 1297, 'savitr': 1298, 'djokic': 1299, 'vase': 1300, '10-1-1': 1301, '11-month': 1302, 'billows': 1303, '1,286': 1304, 'sophitia': 1305, 'adv17': 1306, 'ahdyar': 1307, 'adet': 1308, 'doyley': 1309, '76.92': 1310, 'stemmons': 1311, 'numerous': 1312, '2256': 1313, 'demagogued': 1314, '6.52': 1315, 'beechwood': 1316, 'schweinitz': 1317, 'phosphatidylcholine': 1318, 'gwynn': 1319, 'dance/electronic': 1320, 'valat': 1321, 'mazovia': 1322, 'revere': 1323, 'tamisuke': 1324, 'cicutoxin': 1325, 'valcarcel': 1326, 'strategists': 1327, 'cerutti': 1328, '806,000': 1329, 'deutsches': 1330, '1931-1932': 1331, 'coletta': 1332, 'vítor': 1333, 'dexterity': 1334, 'nyle': 1335, '1233': 1336, 'shamaleh': 1337, 'unchristian': 1338, 'trans-neptunian': 1339, 'majalis': 1340, 'russwurm': 1341, 'papillon': 1342, '69.67': 1343, 'sipping': 1344, 'verus': 1345, 'couso': 1346, 'eisleben': 1347, 'inquire': 1348, 'nkangi': 1349, 'prided': 1350, 'leónidas': 1351, '43.89': 1352, '4,147': 1353, 'westlake': 1354, 'assunpink': 1355, 'carolus-duran': 1356, 'tkc': 1357, '-0.3': 1358, 'glenconner': 1359, 'rap-a-lot': 1360, 'http://www.apple.com': 1361, 'vanowen': 1362, 'pi02': 1363, 'atsushi': 1364, 'actors/actresses': 1365, 'southeastern': 1366, 'ryans': 1367, 'brenau': 1368, 'borders': 1369, 'grewe': 1370, 'dwg': 1371, 'tetrahedron': 1372, 'desalinated': 1373, 'shafa': 1374, 'torquemada': 1375, 'acss': 1376, 'acerbic': 1377, 'parapsychologist': 1378, 'optimality': 1379, 'horen': 1380, 'mushroomed': 1381, 'sunny': 1382, 'vidua': 1383, 'syracuse': 1384, 'ethan': 1385, '6,5': 1386, 'lecarre': 1387, 'setyadi': 1388, 'florianopolis': 1389, 'triangularized': 1390, 'bt6': 1391, 'official': 1392, 'peixe': 1393, 'shide': 1394, 'sunal': 1395, 'sokoudjou': 1396, 'jaeckel': 1397, 'screen-based': 1398, 'mordellina': 1399, 'mambro': 1400, 'colorado-based': 1401, 'counter-strike': 1402, '22.84': 1403, 'arrestingly': 1404, 'kleppe': 1405, '16:38': 1406, 'firhouse': 1407, 'allah': 1408, 'instances': 1409, 'contrivance': 1410, 'mclagan': 1411, 'sexualised': 1412, 'severgnini': 1413, '200-an': 1414, 'crossing': 1415, 'deport': 1416, 'erudition': 1417, 'feisal': 1418, 'slopeside': 1419, 'wymer': 1420, 'garvin': 1421, 'tozzoli': 1422, 'silvicultural': 1423, 'rsquo': 1424, 'boxoffice': 1425, 'quinquennial': 1426, 'johnswort': 1427, 'zachlumia': 1428, 'malba': 1429, 'popolo': 1430, 'johnnies': 1431, 'wahsh': 1432, '119.14': 1433, 'prosiebensat': 1434, 'wano': 1435, 'brzozowski': 1436, 'covariation': 1437, '300px': 1438, 'oab': 1439, 'gaudeamus': 1440, 'kaufering': 1441, 'sai': 1442, 'nba': 1443, 'libanais': 1444, '46-page': 1445, 'uranie': 1446, 'rodiles': 1447, 'niwas': 1448, 'sauropods': 1449, '12.66': 1450, 'nitesh': 1451, 'nutt': 1452, 'adamczak': 1453, 'kamaruzzaman': 1454, '52.88': 1455, 'b8': 1456, 'cottage': 1457, 'elis': 1458, 'sbs': 1459, 'panou': 1460, '3270': 1461, 'damião': 1462, 'motherwell': 1463, 'gemellus': 1464, 'mcbroom': 1465, 'waves': 1466, 'mispriced': 1467, 'mazanga': 1468, 'three-book': 1469, '186-nation': 1470, 't22': 1471, 'verbania': 1472, 'xuetong': 1473, 'barefoot': 1474, 'kelurahan': 1475, 'bosun': 1476, 'cognizance': 1477, 'codepage': 1478, '2002-06': 1479, 'meowth': 1480, 'disappointingly': 1481, 'charles': 1482, 'kenge': 1483, '3015': 1484, '65s': 1485, 'repairing': 1486, 'slpi': 1487, 'u/a': 1488, '3.4-liter': 1489, 'bazille': 1490, 'clad': 1491, 'oswalt': 1492, 'coralie': 1493, 'bulsara': 1494, '2,560': 1495, 'cashier': 1496, 'raffinate': 1497, 'hewett': 1498, 'bilineata': 1499, 'rizq': 1500, 'dispenza': 1501, 'hannon': 1502, 'whereof': 1503, 'four-hundred': 1504, 'ckm': 1505, 'must-read': 1506, 'minus-11': 1507, 'sunrocket': 1508, '16.1': 1509, 'prioleau': 1510, 'outfoxing': 1511, 'kibaki': 1512, '49.00': 1513, 'stranraer': 1514, 'bap': 1515, 'picone': 1516, 'tehlirian': 1517, 'cobram': 1518, 'colombians': 1519, 'kururi': 1520, 'marshmallows': 1521, 'scans': 1522, 'chinch': 1523, 'niqabs': 1524, 'koussa': 1525, 'fitzherbert': 1526, '9:52': 1527, 'propes': 1528, 'over-enthusiastic': 1529, 'laborers': 1530, '____': 1531, 'cadore': 1532, 'kaen': 1533, 'leonti': 1534, 'permodalan': 1535, 'iraqis': 1536, '461,000': 1537, 'ryōko': 1538, 'materiales': 1539, 'lamppost': 1540, '-65': 1541, 'uncharacterized': 1542, 'dimo': 1543, 'thessaly': 1544, 'udhampur': 1545, 'poking': 1546, 'rallet': 1547, 'btp': 1548, 'cder': 1549, \"l'info\": 1550, 'a-sketch': 1551, 'zuhal': 1552, 'oïl': 1553, 'alisha': 1554, 'sulloway': 1555, 'well-appointed': 1556, 'producers': 1557, 'underinsured': 1558, 'sturge': 1559, 'jedlicka': 1560, 'broschi': 1561, 'b9tl': 1562, 'welby': 1563, '57.71': 1564, '800-strong': 1565, 'miyachi': 1566, 'drapers': 1567, 'subiandono': 1568, 'shakila': 1569, 'vauquelin': 1570, 'vegetables': 1571, 'glostrup': 1572, 'reintegrating': 1573, 'winter/spring': 1574, 'hematopoiesis': 1575, 'kikaijima': 1576, 'petrochemistry': 1577, 'denude': 1578, 'blundell': 1579, 'phillipp': 1580, 'shinshū': 1581, 'plant': 1582, 'californicum': 1583, 'sepia-toned': 1584, 'ectodermal': 1585, 'janjic': 1586, 'tracing': 1587, 'tumkur': 1588, 'lix': 1589, 'adv22': 1590, 'rubeus': 1591, 'reticulocytes': 1592, 'atlante': 1593, 'aperto': 1594, 'laroy': 1595, 'papini': 1596, 'mišković': 1597, 'intensively': 1598, 'locally': 1599, 'ery': 1600, 'exarch': 1601, 'epictetus': 1602, 'pestering': 1603, 'multi-media': 1604, 'interjet': 1605, 'nytimes.com': 1606, 'recounts': 1607, 'bordenave': 1608, 'psalter': 1609, 'nevski': 1610, 'faya': 1611, 'kishk': 1612, 'silverheels': 1613, 'two-season': 1614, 'chaperons': 1615, 'farukh': 1616, 'emp': 1617, 'certitude': 1618, '123-run': 1619, 'utils': 1620, 'subservient': 1621, 'off-the-ball': 1622, 'kyowa': 1623, 'kopli': 1624, 'iut': 1625, 'gn': 1626, 'tropsch': 1627, 'hard-headed': 1628, 'mbasogo': 1629, 'zoki': 1630, 'arraiolos': 1631, 'komedia': 1632, 'phrenological': 1633, 'purmerend': 1634, 'ahlström': 1635, 'powerstation': 1636, 'zaniest': 1637, '60-car': 1638, 'described': 1639, 'masseur': 1640, 'pigtailed': 1641, '1204': 1642, 'handelsman': 1643, 'akademie': 1644, '80.82': 1645, 'mclachlan': 1646, 'preconceived': 1647, 'samura': 1648, 'khmu': 1649, '51.61': 1650, 'kurta': 1651, 'evaporation': 1652, 'schor': 1653, 'margalla': 1654, 'tapit': 1655, 'ajaj': 1656, 'syphilitic': 1657, 'dimasa': 1658, '1.041': 1659, 'genealogist': 1660, 'eraste': 1661, 'charpak': 1662, 'maskelyne': 1663, 'pseudoplatanus': 1664, 'rhabdomyolysis': 1665, '56-35': 1666, '22.77': 1667, 'komal': 1668, 'orebiyi': 1669, 'roly': 1670, 'iditarod': 1671, '61.3': 1672, 'hijau': 1673, 'gelsor': 1674, '17-month': 1675, 'ensay': 1676, 'superclubs': 1677, 'prickles': 1678, 'mandibular': 1679, 'sleator': 1680, 'jenga': 1681, 'companions': 1682, 'públicos': 1683, 'udder': 1684, 'sfw': 1685, 'makhanu': 1686, 'serval': 1687, 'castra': 1688, 'bludgeons': 1689, 'p17': 1690, 'khordad': 1691, 'pinyon-juniper': 1692, 'iggulden': 1693, 'ishikawajima': 1694, 'plating': 1695, 'ironworking': 1696, '30.17': 1697, 'f.d.r.': 1698, 'members.aol.com': 1699, 'chapar': 1700, 'nigerian': 1701, 'storfjorden': 1702, 'pentathlon': 1703, 'tehn': 1704, 'thc': 1705, 'aunque': 1706, 'aviatrix': 1707, 'greediness': 1708, 'derbys': 1709, 'minnert': 1710, 'integrates': 1711, 'shaviyani': 1712, 'trifun': 1713, 'caregivers': 1714, 'selimović': 1715, 'fairhurst': 1716, 'vasconcelos': 1717, 'poletto': 1718, 'stynes': 1719, '1921-1922': 1720, 'reimers': 1721, 'anti-monitor': 1722, 'lambrew': 1723, 'l’enfant': 1724, 'lipizzaners': 1725, 's8': 1726, 'abeokuta': 1727, 'codlea': 1728, 'disclosing': 1729, 'dejiang': 1730, 'ple': 1731, 'bounnhang': 1732, 'ketupat': 1733, 'katanning': 1734, 'e&p': 1735, 'murstein': 1736, 'boyan': 1737, '7d': 1738, 'heeresgruppe': 1739, 'pasillo': 1740, 'woodworks': 1741, 'exclamations': 1742, 'wooderson': 1743, 'abdikarim': 1744, 'doers': 1745, 'pvrs': 1746, 'polyus': 1747, 'shangcai': 1748, 'traver': 1749, 'ccis': 1750, 'walky': 1751, 'herrnhut': 1752, 'bellini': 1753, 'pownal': 1754, 'coit': 1755, 'ignachenko': 1756, 'sccp': 1757, '96.96': 1758, 'fantasists': 1759, 'voivodship': 1760, 'bitchin': 1761, 'kiel': 1762, 'gotoh': 1763, 'coliseo': 1764, 'bansud': 1765, 'rikky': 1766, 'mayorsky': 1767, 'jayanagar': 1768, 'dolorous': 1769, 'daunte': 1770, 'whitbeck': 1771, 'figues': 1772, 'skerne': 1773, 'd.d.': 1774, 'zigbee': 1775, 'ruaidhri': 1776, 'hatena': 1777, 'freeborn': 1778, 'virslīga': 1779, 'maddalena': 1780, 'judith': 1781, 'vadu': 1782, 'awoniyi': 1783, 'nobuhiro': 1784, 'bixente': 1785, 'piquing': 1786, '3.725': 1787, 'catalogue': 1788, 'selinger': 1789, 'taklimakan': 1790, 'haaland': 1791, 'waihopai': 1792, 'quadrature': 1793, 'saint-gilles': 1794, 'non-stoichiometric': 1795, 'oświęcim': 1796, 'jhalanath': 1797, '651,000': 1798, 'peiyan': 1799, 'durlacher': 1800, 'vpro': 1801, '12:44': 1802, '32,482': 1803, 'cosma': 1804, 'derickson': 1805, '1862-1863': 1806, 'snrnp': 1807, 'origen': 1808, 'world-view': 1809, '62.97': 1810, 'golombek': 1811, 'yukai': 1812, 'believable': 1813, 'yuck': 1814, '96.49': 1815, 'grandniece': 1816, 'spatlese': 1817, '-0.1': 1818, 'inchcolm': 1819, 'sollozzo': 1820, 'espectacular': 1821, 'subshrubs': 1822, 'sparxxx': 1823, 'shihabi': 1824, 'ztohoven': 1825, 'jaf': 1826, 'raisman': 1827, 'sesquiterpenes': 1828, 'degenhardt': 1829, 'kawas': 1830, 'pedreira': 1831, 'maessner': 1832, 'finerman': 1833, 'vola': 1834, 'school/college': 1835, 'dilemma': 1836, 'breidis': 1837, 'chrobry': 1838, 'wims': 1839, 'esperanca': 1840, 'patz': 1841, '11-song': 1842, 'tade': 1843, 'eleni': 1844, 'mcelroy': 1845, 'crocheted': 1846, 'wriggled': 1847, 'mangou': 1848, 'onandi': 1849, 'astaire': 1850, '2000-2009': 1851, 'broadswords': 1852, 'panag': 1853, 'delko': 1854, '4:39': 1855, 'vassilev': 1856, 'mercedeses': 1857, 'drita': 1858, 'meatball': 1859, 'clubbers': 1860, 'sejm': 1861, 'ghader': 1862, 'pasłęk': 1863, 'mleczak': 1864, '1,800-square': 1865, 'corinthians': 1866, 'neons': 1867, 'gravette': 1868, 'skander': 1869, 'residente': 1870, 're-badged': 1871, '1.157': 1872, 'nuig': 1873, 'neykova': 1874, 'oltchim': 1875, 'nortel': 1876, 'five-seater': 1877, 'in-goal': 1878, 'reinickendorf': 1879, '28.49': 1880, 'doblin': 1881, 'typhoid': 1882, 'howl': 1883, 'wisher': 1884, 'liljana': 1885, 'mle': 1886, 'multiflorum': 1887, '1,494': 1888, 'warnes': 1889, 'claymont': 1890, 'egberto': 1891, 'kelmendi': 1892, '17.68': 1893, 'cantalamessa': 1894, 'meridian': 1895, '22.81': 1896, 'elasmosaurus': 1897, 'multigrain': 1898, 'lukaku': 1899, 'scamming': 1900, 'flechas': 1901, 'amadas': 1902, 'muneo': 1903, '4,032': 1904, 'knighthoods': 1905, 'kicklighter': 1906, 'collective': 1907, 'buju': 1908, 'raids': 1909, 'vibranium': 1910, 'surveys': 1911, 'guildenstern': 1912, 'uremovich': 1913, 'samimi': 1914, '70.09': 1915, 'vermuyden': 1916, 'baisakhi': 1917, 'brumbaugh': 1918, 'kellet': 1919, 'jendouba': 1920, 'şimşek': 1921, 'cramped': 1922, 'apprehended': 1923, 'bich': 1924, 'tinbergen': 1925, 'coeur': 1926, 'ingot': 1927, 'denizens': 1928, 'proskauer': 1929, 'coolin': 1930, 'on-air': 1931, 'petropars': 1932, 'ec2': 1933, 'myrepublica.com': 1934, 'alligators': 1935, 'hwange': 1936, 'lonsdale': 1937, 'inveighed': 1938, 'kumara': 1939, 'boutilier': 1940, 'repêchage': 1941, 'ustaša': 1942, 'death/thrash': 1943, 'cr2': 1944, 'dogbert': 1945, '19,925': 1946, '12-week': 1947, 'leading': 1948, 'michizane': 1949, '61.31': 1950, 'francoism': 1951, '897': 1952, 'nawawi': 1953, '6715/64001': 1954, '0.115': 1955, 'scènes': 1956, 'u2009the': 1957, 'powering': 1958, 'baradei': 1959, 'helsingin': 1960, 'micrococcus': 1961, 'lotronex': 1962, 'nyunt': 1963, 'brangelina': 1964, 'triple-overtime': 1965, 'kader': 1966, 'dangeard': 1967, 'best-studied': 1968, 'natko': 1969, 'polysindo': 1970, 'solferino': 1971, 'duffers': 1972, 'kuroń': 1973, 'awardee': 1974, 'bodenchak': 1975, 'ujc': 1976, 'kathrine': 1977, 'fermoy': 1978, 'anglo-allied': 1979, 'saraste': 1980, 'serenade': 1981, 'kurs': 1982, 'zizola': 1983, 'wodeyars': 1984, '127.4': 1985, 'flamborough': 1986, 'sportin': 1987, 'bhasmasura': 1988, 'savate': 1989, 'kibria': 1990, 'jervois': 1991, 'schultz': 1992, 'blon': 1993, 'porters': 1994, 'boalt': 1995, 'intergovernment': 1996, 'rodwell': 1997, 'renfe': 1998, 'warduni': 1999, 'falsworth': 2000, 'grog': 2001, 'corf': 2002, 'caribana': 2003, 'bertens': 2004, 'relegated': 2005, 'mpb': 2006, 'kuttanad': 2007, 'mcleodusa': 2008, '732-member': 2009, 'myhrvold': 2010, '187.2': 2011, 'beate': 2012, 'armband': 2013, 'doronila': 2014, 'chiloquin': 2015, 'insurrectionists': 2016, '7.74': 2017, 'kada': 2018, 'same-sex': 2019, 'ciano': 2020, 'mid-field': 2021, 'malefor': 2022, 'brean': 2023, 'kardam': 2024, 'whetton': 2025, 'walthall': 2026, 'shelikhov': 2027, '22-10': 2028, '691,000': 2029, 'overpromising': 2030, 'noc': 2031, '47.22': 2032, 'sabauddin': 2033, 'leybourne': 2034, 'multi-disc': 2035, 'jerdon': 2036, 'nelvis': 2037, 'jo-han': 2038, 'glucosinolates': 2039, 'robynn': 2040, 'justes': 2041, 'xuanze': 2042, '2606': 2043, 'basestealers': 2044, 'puchalski': 2045, 'bojana': 2046, 'klineberg': 2047, 'shiroishi': 2048, 'dowagiac': 2049, 'shalqam': 2050, 'illegitimately': 2051, 'ombudswoman': 2052, 'pfaltzgraff': 2053, 'lifecare': 2054, '2,851': 2055, 'ptech': 2056, 'anti-russian': 2057, 'henn': 2058, 'knight-ridder': 2059, 'worters': 2060, 'ruffino': 2061, 'ralphs': 2062, 'npp': 2063, 'totmianina': 2064, '37.26': 2065, 'jaipuri': 2066, 'sylvana': 2067, '95,000': 2068, 'acrl': 2069, 'touchy': 2070, 'userspace': 2071, 'fukuhara': 2072, 'hain': 2073, 'saude': 2074, 'uichico': 2075, 'baseliner': 2076, 'chinkara': 2077, 'bundesautobahn': 2078, 'mushet': 2079, 'villalpando': 2080, 'starwood': 2081, 'guaiacol': 2082, 'cellar': 2083, 'conmigo': 2084, 'out-group': 2085, 'wowed': 2086, 'nnaji': 2087, 'hersley': 2088, 'codford': 2089, 'druzhinin': 2090, 'okah': 2091, 'nattagh': 2092, 'isolde': 2093, 'peiping': 2094, 'chengjiang': 2095, 'dibiasio': 2096, 'deathmatches': 2097, '109.8': 2098, 'phasianidae': 2099, 'marjolein': 2100, 'colletotrichum': 2101, 'f/1': 2102, 'qual': 2103, 'yoshiji': 2104, 'cristante': 2105, 'quique': 2106, 'lambert-st': 2107, 'euro440': 2108, 'mayl': 2109, '84-member': 2110, 'retsina': 2111, 'dubstep': 2112, 'aubrac': 2113, 'angban': 2114, '119.95': 2115, 'mejlis': 2116, 'zawistowski': 2117, '1537': 2118, 'seediq': 2119, 'pondweed': 2120, 'imparja': 2121, 'phealy': 2122, 'gambier-parry': 2123, 'paju': 2124, 'rastevic': 2125, '80-something': 2126, 'vistan': 2127, 'kumkum': 2128, 'premier': 2129, 'kojiki': 2130, 'meethi': 2131, '56.01': 2132, 'color-coding': 2133, 'watchmen': 2134, 'kästner': 2135, 'marathoners': 2136, 'mits': 2137, '2007-present': 2138, 'ivpp': 2139, 'three-car': 2140, 'chihi': 2141, 'montelupo': 2142, 'dias': 2143, 'céline': 2144, '3,133': 2145, 'kingston': 2146, 'euro135': 2147, 'bruguera': 2148, 'populating': 2149, 'siegert': 2150, 'plexippus': 2151, 'troop': 2152, 'nuzzo': 2153, '70.66': 2154, 'on-off': 2155, 'hashemabad': 2156, '0.625': 2157, 'al-qasimi': 2158, 'maykel': 2159, 'e-ali': 2160, 'exemption': 2161, '1.485': 2162, 'morale-boosting': 2163, 'roven': 2164, 'capricornus': 2165, 'demya': 2166, 'knowledgebase': 2167, '53.29': 2168, 'lucida': 2169, 'finer': 2170, 'seydlitz': 2171, 'barek': 2172, 'flieger': 2173, 'rcg': 2174, 'mollicutes': 2175, 'inus': 2176, 'charco': 2177, 'carticel': 2178, 'akqa': 2179, '96-1': 2180, '###': 2181, 'tamshui': 2182, 'kleptocrats': 2183, 'pagis': 2184, 'skokie': 2185, 'picket': 2186, 'monegan': 2187, 'succulents': 2188, 'bouffard': 2189, 'rysavy': 2190, 'kwangba': 2191, 'himachal': 2192, 'biol': 2193, 'realtime': 2194, 'a-weighting': 2195, 'duty': 2196, 'retargeted': 2197, 'chatwin': 2198, 'wisps': 2199, 'cædmon': 2200, 'heib': 2201, 'kumanovo': 2202, 'ravishingly': 2203, 'cyberforce': 2204, 'ibeabuchi': 2205, 'deitrick': 2206, 'latifiya': 2207, 'bunhill': 2208, '47-nation': 2209, 'porphyrogennetos': 2210, 'mahuad': 2211, 'gagor': 2212, 'sfchron': 2213, 'steinert': 2214, 'raksin': 2215, 'himes': 2216, 'prohorenkovs': 2217, 'bettong': 2218, 'serrão': 2219, 'laryea': 2220, 'chumphon': 2221, 'arfan': 2222, 'mid-1947': 2223, 'leyva': 2224, 'convenio': 2225, 'kelpie': 2226, 'tormé': 2227, 'suppan': 2228, 'hacienda': 2229, 'mudry': 2230, 'single-tier': 2231, 'schnaufer': 2232, 'deprivation': 2233, 'meissen': 2234, '5-percent': 2235, 'greiner': 2236, 'princess-abbess': 2237, '15-car': 2238, 'raisonné': 2239, 'hugest': 2240, 'luccin': 2241, 'pommes': 2242, 'rumpfhuber': 2243, 'decorously': 2244, 'theatro': 2245, 'farsund': 2246, 'wickets': 2247, 'reinert': 2248, 'li0': 2249, 'crillon': 2250, 'punk/hardcore': 2251, 'theogony': 2252, 'horsnell': 2253, '56.11': 2254, 'refleeting': 2255, 'antarctic': 2256, 'kassler': 2257, '40-38': 2258, 'chocobo': 2259, 'handguards': 2260, 'nordan': 2261, '51-story': 2262, 'retractors': 2263, 'conasupo': 2264, 'lasses': 2265, 'kiso': 2266, 'g/kg': 2267, '41.86': 2268, 'mcphee': 2269, 'nx': 2270, 'devatas': 2271, 'bargeboards': 2272, 'stenger': 2273, 'macefield': 2274, 'e-discovery': 2275, 'gotwald': 2276, 'us-77': 2277, 'showjumping': 2278, 'kativik': 2279, 'houchen': 2280, 'sherin': 2281, 'shattuck': 2282, 'al-shehri': 2283, 'shusheng': 2284, 'balloch': 2285, 'polgár': 2286, 'gojoseon': 2287, 'unassembled': 2288, 'nilotic': 2289, 'ibata': 2290, 'hpm': 2291, 'muhaimin': 2292, 'consultative': 2293, 'keikyu': 2294, 'oltmans': 2295, 'barysch': 2296, 'hills': 2297, 'doukhobors': 2298, 'stansbury': 2299, 'newser': 2300, 'perrysville': 2301, 'ghazi': 2302, '2,770': 2303, 'exudative': 2304, 'tjipto': 2305, 'downplayed': 2306, 'breakwaters': 2307, 'wistfully': 2308, 'tastee': 2309, 'calderas': 2310, '1,000-ton': 2311, 'forseeable': 2312, 'denuclearizing': 2313, 'ncd': 2314, 'wagenknecht': 2315, 'unravel': 2316, 'muggle': 2317, 'waris': 2318, '1715gmt': 2319, '4,620': 2320, 'seiun': 2321, 'laury': 2322, 'bolt-action': 2323, 'eung': 2324, '8a-4p': 2325, 'utnapishtim': 2326, '2414': 2327, 'ethereal': 2328, 'tacs': 2329, 'lethbridge-stewart': 2330, '+1.00': 2331, ':31': 2332, 'zob': 2333, 'mehk': 2334, 'weigh-in': 2335, 'kargo': 2336, 'hipwell': 2337, 'woolgar': 2338, '1.2175': 2339, 'zwick': 2340, 'novelette': 2341, 'ganter': 2342, 'kokoro': 2343, 'hutchison': 2344, '-3.3': 2345, 'wygod': 2346, 'kuhmo': 2347, 'semiahmoo': 2348, 'ventresca': 2349, 'rasbora': 2350, 'bossio': 2351, 'neo-platonism': 2352, 'descombes': 2353, 'rdq': 2354, 'nootropic': 2355, 'peikin': 2356, 'berny': 2357, 'sunniness': 2358, 'håkon': 2359, 'mynci': 2360, 'harthacnut': 2361, 'eleemosynary': 2362, 'inflatable': 2363, 'kumluca': 2364, 'fiel': 2365, 'warnecke': 2366, '8a-3': 2367, 'sanyasi': 2368, 'herard': 2369, 'semi-open': 2370, 'recto': 2371, 'sooden': 2372, 'desclaux': 2373, 'pianos': 2374, 'infundibular': 2375, 'bawden': 2376, '3,630': 2377, 'fraticelli': 2378, 'eppes': 2379, 'zomo': 2380, 'cwhite': 2381, '92.22': 2382, 'smoldered': 2383, 'ryuki': 2384, '64-61': 2385, 'att': 2386, 'tió': 2387, 'minta': 2388, 'jamal': 2389, 'maunder': 2390, 'abyad': 2391, 'azcuénaga': 2392, 'messaging': 2393, 'soavi': 2394, 'riku': 2395, 'caresse': 2396, '2,553': 2397, 'ullswater': 2398, 'biskupi': 2399, 'dueck': 2400, 'blackish-brown': 2401, 'bayardo': 2402, 'mcerlean': 2403, 'rajendar': 2404, 'teos': 2405, 'hai': 2406, 'pleading': 2407, 're-licensed': 2408, 'gülnar': 2409, 'jalayirids': 2410, 'brightside': 2411, 'gizella': 2412, '38.21': 2413, 'godrich': 2414, 'reichsführer': 2415, 'hosea': 2416, 'ganatra': 2417, '2,163': 2418, '3.8': 2419, 'khoshk': 2420, 'shewry': 2421, 'cartner': 2422, 'whitsun': 2423, 'pastilles': 2424, 'kashihara': 2425, 'story-driven': 2426, 'senin': 2427, 'sufa': 2428, 'sentra': 2429, 'commissaire': 2430, 'literati': 2431, 'llanfyllin': 2432, 'schoolbooks': 2433, 'abasan': 2434, 'zipfel': 2435, 'skira': 2436, 'catalans': 2437, 'conecuh': 2438, 'parakh': 2439, 'mashiko': 2440, 'lafreniere': 2441, 'pecks': 2442, 'armatures': 2443, 'fxc': 2444, '8600': 2445, 'hexagon': 2446, 'zaehner': 2447, 'rewriting': 2448, 'wra': 2449, '.620': 2450, 'tardio': 2451, 'ethnobotanist': 2452, 'polancec': 2453, 'glycerin': 2454, 'hush': 2455, 'gnep': 2456, '16:23': 2457, 'livno': 2458, 'l-2': 2459, 'misrepresentation': 2460, 'oooooooooooo': 2461, 'grahams': 2462, 'mecs': 2463, 'dvor': 2464, 'apiku': 2465, 'we': 2466, 'yulara': 2467, 'kieninger': 2468, 'lumina': 2469, 'exploitive': 2470, 'tilbian': 2471, 'motile': 2472, '105-102': 2473, 'damaged': 2474, 'turnout': 2475, 'betto': 2476, 'clamart': 2477, 'fertility': 2478, 'overlake': 2479, 'peaceforce': 2480, 'noye': 2481, '138.12': 2482, 'daus': 2483, 'dependably': 2484, 'woodlice': 2485, 'palo': 2486, 'mousing': 2487, 'waterland': 2488, '610.8': 2489, 'chyme': 2490, 'allderdice': 2491, 'translocations': 2492, 'nrel': 2493, 'babayan': 2494, 'beneficiary': 2495, 'mbasu': 2496, '17-play': 2497, 'glisson': 2498, '218-pound': 2499, 'love-making': 2500, 'wesselingh': 2501, 'abendanon': 2502, 'netwatch': 2503, '.3': 2504, 'manski': 2505, 'laino': 2506, 'marzan': 2507, 'totius': 2508, 'khoussa': 2509, 'fansubs': 2510, 'metalist': 2511, 'timeshift': 2512, 'webkit': 2513, 'goninan': 2514, 'masquers': 2515, 'lakhdaria': 2516, '25-room': 2517, 'dogberry': 2518, 'ichiro': 2519, '64-56': 2520, 'utilicorp': 2521, 'istván': 2522, 'snowmobile': 2523, 'quidachay': 2524, 'drs': 2525, 'airfreight': 2526, 'mohns': 2527, 'e-taiba': 2528, 'bulleh': 2529, 'baldi': 2530, 'overindulging': 2531, 'cucuteni-trypillian': 2532, '6-pounder': 2533, '9a-4': 2534, 'maggots': 2535, 'solf': 2536, 'aitape': 2537, 'deferments': 2538, 'alako': 2539, 'falcons': 2540, 'jawbone': 2541, 'markers': 2542, '267.2': 2543, 'nihad': 2544, 'plagios': 2545, 'paranaque': 2546, 'seiling': 2547, 'prinses': 2548, 'balay': 2549, '1859-60': 2550, 'clarett': 2551, 'al-ghazi': 2552, 'warshak': 2553, 'zygaenidae': 2554, 'sloves': 2555, 'danesi': 2556, 'bioclimatic': 2557, 'downstream': 2558, 'misri': 2559, 'westborg': 2560, 'contractible': 2561, 'petrauskas': 2562, 'malesh': 2563, 'lippold': 2564, 'benched': 2565, '106-pound': 2566, 'embargoed': 2567, 'www.usdoj.gov': 2568, 'kilauea': 2569, 'malapropism': 2570, 'coexist': 2571, 'peaceniks': 2572, 'ergaster': 2573, 'cpgs': 2574, 'lawyers': 2575, 'zebrafish': 2576, 'bass-player': 2577, 'gambro': 2578, 'tenafly': 2579, 'oxy': 2580, 'zhengcai': 2581, 'wetumpka': 2582, 'tout': 2583, 'repose': 2584, 'christodoulakis': 2585, 'cavill': 2586, 'proudfoot': 2587, 'glyndon': 2588, 'sommerfelt': 2589, '10:58': 2590, 'taliban': 2591, 'chiddy': 2592, 'ekachai': 2593, 'vlccs': 2594, '4matic': 2595, 'shakr': 2596, '5.793-kilometer': 2597, 'gambrills': 2598, 'submitting': 2599, 'waight': 2600, 'ludy': 2601, 'orani': 2602, '4-hour': 2603, 'jamling': 2604, 'kavcic': 2605, 'lusofonia': 2606, 'omine': 2607, 'reconvened': 2608, 'xinqiao': 2609, 'lynton': 2610, 'tsubasa': 2611, 'hps': 2612, 'gonu': 2613, 'tortuguero': 2614, 'cbs/fox': 2615, 'mineros': 2616, '66.01': 2617, 'tireless': 2618, 'premia': 2619, 'lockton': 2620, 'cd25': 2621, 'spectrometer': 2622, 'cerrada': 2623, 'pedunculata': 2624, 'marching': 2625, '3,606': 2626, 'trpanj': 2627, 't/a': 2628, 'pinch-hitting': 2629, 'handel': 2630, 'http://www.cso.ie': 2631, 'fugen': 2632, 'boxlike': 2633, 'gjata': 2634, 'suzannah': 2635, 'teetotalism': 2636, 'małachowski': 2637, 'chrysanthemums': 2638, 'musikhochschule': 2639, 'erlang': 2640, 'bugloss': 2641, '2,600-acre': 2642, 'acp-eu': 2643, 'gretl': 2644, 'smidgen': 2645, 'lember': 2646, 'thoreen': 2647, 'ufologists': 2648, 'bipropellant': 2649, 'conditioning': 2650, 'hooverville': 2651, 'mooseheads': 2652, 'shorthair': 2653, 'stayman': 2654, 'moist': 2655, 'kavi': 2656, 'molokans': 2657, 'sclerocactus': 2658, 'wacholder': 2659, 'fishkin': 2660, 'ql': 2661, 'plutocrat': 2662, 'showdowns': 2663, 'embakasi': 2664, 'sandisk': 2665, 'resents': 2666, 'neoguri': 2667, 'gregorian': 2668, 'mydoom.b': 2669, 'joscelin': 2670, 'peugot': 2671, '.205': 2672, 'aspects': 2673, 'ground-dwelling': 2674, '95.45': 2675, 'creaky': 2676, 'ufmg': 2677, 'jelica': 2678, 'judas': 2679, 'mankulam': 2680, 'carbon': 2681, 'levendos': 2682, 'gerry': 2683, 'bielice': 2684, 'bektasevic': 2685, 'ynys': 2686, 'braginsky': 2687, 'papantoniou': 2688, '77-62': 2689, 'combi': 2690, 'fol': 2691, 'bomp': 2692, 'trebor': 2693, '46.47': 2694, 'wieringen': 2695, 'arcadians': 2696, 'agglutinating': 2697, 'poule': 2698, 'anodes': 2699, 'pine-richland': 2700, '5,190': 2701, 'perelstein': 2702, 'maksym': 2703, 'colditz': 2704, 'communions': 2705, 'ijn': 2706, 'hungnam': 2707, '009905': 2708, 'accumulation': 2709, '1100gmt': 2710, 'hoadly': 2711, 'palest': 2712, '64.63': 2713, 'shaba': 2714, 're-gained': 2715, 'pangbourne': 2716, 'diversionary': 2717, 'artime': 2718, '5th/6th': 2719, 'daze': 2720, 'fruited': 2721, 'here.the': 2722, 'massey-harris': 2723, 'brookfield': 2724, 'lathing': 2725, 'versicherung': 2726, '42km': 2727, 'neya': 2728, '51.47': 2729, 'papazoi': 2730, 'child-bearing': 2731, '3:23': 2732, 'vegar': 2733, 'simonstown': 2734, 'helicarrier': 2735, 'ballpoints': 2736, 'lhb': 2737, 'poggi': 2738, 'koslov': 2739, 'malmaison': 2740, 'anaglyph': 2741, 'gejdenson': 2742, 'culdrose': 2743, 'hypnos': 2744, 'saúde': 2745, 'reloading': 2746, '6.0-6': 2747, 'mediatised': 2748, '1812': 2749, 'cameron': 2750, 'coloma': 2751, 'lave': 2752, 'grebes': 2753, 'dance/pop': 2754, '4,765': 2755, 'tryptamine': 2756, 'jónsdóttir': 2757, 'kvinna': 2758, 'kamani': 2759, '59.18': 2760, 'prudente': 2761, 'artist-run': 2762, 'portent': 2763, 'laurene': 2764, 'pinches': 2765, \"k'naan\": 2766, 'usw': 2767, 'kills': 2768, 'vernoff': 2769, 'peacekeeping': 2770, 'inexpedient': 2771, 'glaze': 2772, 'inter-state': 2773, 'nunciature': 2774, 'vedette': 2775, 'holderman': 2776, 'intern': 2777, 'fest': 2778, '251.8': 2779, 'cuddapah': 2780, 'faubel': 2781, '81.05': 2782, 'bc5': 2783, 'hydrophilic': 2784, 'odienne': 2785, 'firefighting': 2786, 'apprehend': 2787, 'helpdesk': 2788, 'youtuber': 2789, 'id.': 2790, 'anti-israeli': 2791, 'looky': 2792, 'nanjing': 2793, 'minyan': 2794, 'autocrats': 2795, 'auricula': 2796, 'grisliest': 2797, 'ghoshal': 2798, 'duenna': 2799, 'marfin': 2800, 'airachnid': 2801, 'gabab': 2802, 'chogha': 2803, 'squandering': 2804, 'tzigane': 2805, 'meredith': 2806, 'kluang': 2807, 'asscher': 2808, 'crab-eating': 2809, 'extremly': 2810, 'lipoprotein': 2811, 'blazed': 2812, 'w21': 2813, 'sgo': 2814, 'swagger': 2815, 'sondes': 2816, 'chlorophylls': 2817, 'neocatechumenal': 2818, 'elevational': 2819, 'changdu': 2820, 'onatopp': 2821, 'oxeant': 2822, 'jemseg': 2823, 'eoraptor': 2824, 'brookman': 2825, 'campari': 2826, 'gitarama': 2827, 'emptively': 2828, 'zippers': 2829, 'endit': 2830, 'a-5p': 2831, 'frigyes': 2832, 'chemins': 2833, 'fagioli': 2834, 'sigur': 2835, 'mid-1940s': 2836, 'poltz': 2837, 'hanzi': 2838, '67.14': 2839, '28-15': 2840, 'hmshost': 2841, '18.77': 2842, 'hemet': 2843, 'combinatorially': 2844, '1,100-seat': 2845, '8mm': 2846, 'tehr': 2847, 'pabellon': 2848, 'compania': 2849, 'barum': 2850, 'marchant': 2851, 'anti-clericalism': 2852, '256.00': 2853, 'penult': 2854, 'dysentery': 2855, '19.70': 2856, 'mhatre': 2857, 'burdett': 2858, 'disapprobation': 2859, 'mccluster': 2860, '63.06': 2861, 'trihatmodjo': 2862, 'manzil': 2863, 'beachwood': 2864, \"l'enfance\": 2865, 'euro219': 2866, 'loppers': 2867, 'sămănătorul': 2868, 'crouchback': 2869, '2007-08': 2870, 'stockach': 2871, 'shareh': 2872, 'mingsheng': 2873, 'anticlericalism': 2874, 'kiplagat': 2875, '45-centimeter': 2876, 'crosses': 2877, 'dateless': 2878, 'roundhay': 2879, 'retakes': 2880, 'dragonflies': 2881, 'comandeered': 2882, 'derb': 2883, 'caitanya': 2884, 'bergamot': 2885, 'oven': 2886, 'adulthood': 2887, '13.68': 2888, 'ye-jin': 2889, 'bobbys': 2890, 'pomazanova': 2891, 'mompati': 2892, 'screen': 2893, 'cratloe': 2894, 'peizerat': 2895, 'haayin': 2896, 'fll': 2897, 'msaidie': 2898, 'palearctic': 2899, 'johkang': 2900, 'ceisler': 2901, 'newscasters': 2902, 'loula': 2903, 'panitz': 2904, '140-mile': 2905, '27.90': 2906, 'beekeeper': 2907, 'ljubijankic': 2908, 'hater': 2909, 'judiciously': 2910, 'sideroad': 2911, '00': 2912, 'matcha': 2913, 'gorbach': 2914, 'breaux': 2915, 'aleksic': 2916, 'diomedeidae': 2917, 'elaborative': 2918, 'seyyedabad': 2919, 'astonishment': 2920, 'coxeter-dynkin': 2921, 'banish': 2922, 'frankenstein': 2923, 'hedsor': 2924, 'mallu': 2925, '200c': 2926, '3,665': 2927, 'disapproving': 2928, '1,638': 2929, 'foxhounds': 2930, '20-gallon': 2931, 'oppo': 2932, 'oleinik': 2933, 'tractors': 2934, 'qsm': 2935, 'antihydrogen': 2936, 'jayasuriya': 2937, '556-7652': 2938, 'sepin': 2939, 'nenadović': 2940, 'hildegard': 2941, 'ightham': 2942, \"b'day\": 2943, 'ilx': 2944, 'agrifolia': 2945, 'moustachioed': 2946, 'luby': 2947, 'cannibals': 2948, 'kynes': 2949, 'repel': 2950, 'hiep': 2951, '97.16': 2952, 'verco': 2953, 'alake': 2954, 'glassblowing': 2955, 'wingspans': 2956, 'kujalleq': 2957, 'sciota': 2958, 'dankook': 2959, 'shoshoni': 2960, '2083': 2961, 'lyuboslav': 2962, 'houstonians': 2963, 'ochsenbine': 2964, 'big-game': 2965, 'lohaus': 2966, 'projectiles': 2967, 'delgada': 2968, 'shedd': 2969, '45-12': 2970, 'vredefort': 2971, 'drawings': 2972, 'strank': 2973, 'takua': 2974, 'chadwicks': 2975, 'http://www.epa.gov': 2976, 'drewett': 2977, 'antipornography': 2978, 'field': 2979, 'wockhardt': 2980, 'lowenberg': 2981, 'dagfinn': 2982, '26.15': 2983, 'cliggott': 2984, 'canapes': 2985, '3,730': 2986, 'butel': 2987, 'foulkrod': 2988, 'dagens': 2989, 'bafa': 2990, 'ungaretti': 2991, 'mighty': 2992, 'decanio': 2993, '2,046': 2994, 'mazeppa': 2995, 's-10': 2996, 'crumpled': 2997, 'filleting': 2998, 'kaido': 2999, 'rohini': 3000, 'pallipurath': 3001, 'hinchcliffe': 3002, 'canudos': 3003, 'lakeville': 3004, '8:08': 3005, 'shotcrete': 3006, 'long-ranged': 3007, '106.73': 3008, '110.02': 3009, 'circumventing': 3010, 'tyrnauer': 3011, 'finless': 3012, 'zdc': 3013, 'euro560': 3014, 'morosely': 3015, '31.17': 3016, '4,002': 3017, 'glaslough': 3018, 'yobs': 3019, 'pappa': 3020, 'reciters': 3021, 'dragobilje': 3022, '7-8': 3023, 'weaf': 3024, 'edaphosaurus': 3025, 'familiarized': 3026, 'elektronik': 3027, 'velazquez': 3028, 'billal': 3029, 'feucht': 3030, 'estradiol': 3031, '1,934': 3032, 'forecasts': 3033, 'benett': 3034, 'mcelrath': 3035, 'pojaman': 3036, 'bamut': 3037, 'vectorial': 3038, '19-1': 3039, 'dunkerley': 3040, 'wipf': 3041, 'reddin': 3042, 'marmolejo': 3043, 'backache': 3044, 'minelayer': 3045, 'stourhead': 3046, 'sebescen': 3047, '10:29': 3048, 'nsclc': 3049, 'hofstad': 3050, 'chappaqua': 3051, 'carlike': 3052, 'gia': 3053, 'loir-et-cher': 3054, 'thim': 3055, '113.64': 3056, 'wahz': 3057, 'kütahya': 3058, 'sastras': 3059, 'gerdzhikov': 3060, 'nepeta': 3061, 'sandip': 3062, 'eyesight': 3063, 'alleghenys': 3064, '52.69': 3065, 'prohibitive': 3066, 'buckling': 3067, '103.25': 3068, 'afpc': 3069, 'laevis': 3070, 'mictlan': 3071, 'tadahiro': 3072, 'pauillac': 3073, 'kulhoff': 3074, 'wainuiomata': 3075, 'hanshi': 3076, 'galos': 3077, 'mahay': 3078, 'gatlin': 3079, 'multi-step': 3080, '1.25-billion': 3081, 'late-life': 3082, 'mansio': 3083, '22:17': 3084, 'hd': 3085, 'pitra': 3086, 'ieper': 3087, '995': 3088, 'mq-9': 3089, 'dellaventura': 3090, 'deggendorf': 3091, 'failure': 3092, '4-foot': 3093, 'fouchet': 3094, 'giambastiani': 3095, 'ikebana': 3096, '670s': 3097, 'abouhalima': 3098, '2,164': 3099, 'phototaxis': 3100, 'gloaming': 3101, 'blissed': 3102, 'ceol': 3103, 'bloomie': 3104, '8.10': 3105, '4x800': 3106, 'coelestium': 3107, 'scapegoating': 3108, 'pofalla': 3109, 'downloaders': 3110, 'philopoemen': 3111, 'intervenor': 3112, 'munte': 3113, 'outmanoeuvred': 3114, 'votechart': 3115, 'cragin': 3116, 'pujya': 3117, '614': 3118, 'winklevosses': 3119, '1-65': 3120, 'krisna': 3121, 'cc': 3122, 'ungovernability': 3123, 'worldspan': 3124, 'reachin': 3125, 'fuping': 3126, 'blindly': 3127, 'covert': 3128, 'eberly': 3129, 's-bahn': 3130, 'usually': 3131, '120-mph': 3132, 'aḩmad': 3133, 'vaid': 3134, 'seaon': 3135, '85-83': 3136, 'gannets': 3137, 'sjekirica': 3138, 'denis': 3139, 'landsforening': 3140, 'cw': 3141, 'summering': 3142, 'poke': 3143, 'øvre': 3144, 'pedrosa': 3145, '33-19': 3146, 'reefton': 3147, '3,760': 3148, '6f': 3149, '1970-1974': 3150, 'telecomasia': 3151, 'perquisites': 3152, 'memorisation': 3153, 'op': 3154, 'anzar': 3155, 'jaeggi': 3156, 'nudges': 3157, 'malaviya': 3158, 'globose': 3159, 'farthest': 3160, 'manojlovic': 3161, 'epcc': 3162, 'baseband': 3163, 'agoutis': 3164, 'ncub': 3165, '40.56': 3166, 'fucai': 3167, '823,000': 3168, 'up-market': 3169, 'tikhomirov': 3170, 'katwa': 3171, 'efps': 3172, 'barradas': 3173, 'cuyler': 3174, 'historic': 3175, 'resurface': 3176, 'neglectus': 3177, 'humor': 3178, 'imrali': 3179, 'lípez': 3180, 'kyrillos': 3181, '11,000-member': 3182, 'breifne': 3183, 'carbons': 3184, 'versoza': 3185, 'bunkmates': 3186, 'mlu': 3187, 'ustadz': 3188, 'weiyue': 3189, 'bridis': 3190, 'volcanics': 3191, 'bodysuit': 3192, 'mcminnville': 3193, 'myocyte': 3194, '132.30': 3195, 'fustat': 3196, 'reserve/future': 3197, 'leafs': 3198, 'thorner': 3199, 'moti': 3200, 'teda': 3201, 'haubegger': 3202, 'shell-like': 3203, 'drippy': 3204, 'marsupilami': 3205, '56.93': 3206, 'bazhanov': 3207, 'metv': 3208, '119.43': 3209, '111.3': 3210, 'kion': 3211, 'haji': 3212, 'u.s.-installed': 3213, 'omelets': 3214, 'westernisation': 3215, '43.28': 3216, 'worshipers': 3217, 'răzvan': 3218, 'veracruzana': 3219, 'al-waqidi': 3220, 'kovach': 3221, 'tughril': 3222, 'brooder': 3223, 're-equipment': 3224, 'clebsch': 3225, 're-inventing': 3226, 'costaricensis': 3227, 'hyakutake': 3228, 'venkataramana': 3229, 'panda': 3230, 'mordellidae': 3231, 'paiton': 3232, 'selfish': 3233, 'khorat': 3234, 'byfuglien': 3235, 'hanifan': 3236, 'sarbisheh': 3237, 'cucumbers': 3238, 'drinfeld': 3239, 'urosa': 3240, 'tapiwa': 3241, 'krall': 3242, 'yleisradio': 3243, 'ehrenreich': 3244, '115.24': 3245, 'luwak': 3246, 'federer': 3247, 'democrat-turned-republican': 3248, '106.6': 3249, 'comprehensible': 3250, 'submersibles': 3251, 'humo': 3252, 'frutiger': 3253, 'fearon': 3254, '200-day': 3255, 'whisper': 3256, 'marselisborg': 3257, 'provine': 3258, '42.28': 3259, 'lb7': 3260, 'khodro': 3261, 'kiswahili': 3262, 'b2m': 3263, 'vedantic': 3264, 'balashikha': 3265, 'neccessary': 3266, 'romila': 3267, 'velikhov': 3268, '1.3850': 3269, 'lycium': 3270, 'waggonner': 3271, 'murina': 3272, 'devising': 3273, 'peppiatt': 3274, 'gipe': 3275, 'reutilization': 3276, 'demerger': 3277, 'dreadlocked': 3278, '21.75': 3279, 'rikers': 3280, 'mumbai-pune': 3281, 'saccacio': 3282, 'insulin-like': 3283, 'edt': 3284, 'zinovy': 3285, 'podlaski': 3286, 'loverde': 3287, 'tejada': 3288, 'een': 3289, 'wallia': 3290, 'tayyiba': 3291, 'ælfgifu': 3292, 'sagem': 3293, 'polene': 3294, 'etapa': 3295, 'jetzt': 3296, 'taimali': 3297, 'vachon': 3298, 'slickrock': 3299, '2-55': 3300, 'hezhong': 3301, '324.5': 3302, 'puma': 3303, 'besuited': 3304, 'semiconhtr': 3305, 'c-123': 3306, 'α': 3307, 'heaves': 3308, 'poea': 3309, '3.23': 3310, 'eclogite': 3311, 'lesya': 3312, 'walbro': 3313, 'nagako': 3314, 'wifredo': 3315, 'riccio': 3316, 'doos': 3317, 'burkha': 3318, 'uccellini': 3319, 'kneedler': 3320, 'oriens': 3321, 'x100': 3322, 'llr': 3323, 'paladins': 3324, 'kardashian': 3325, 'patent-pending': 3326, 'tauqir': 3327, 'transexual': 3328, 'kruja': 3329, 'boholano': 3330, 'soupy': 3331, 'sangams': 3332, 'yawney': 3333, 'darién': 3334, 'sight-seeing': 3335, 'jerilyn': 3336, 'atiur': 3337, '29.12': 3338, 'borisov': 3339, 'vaesteraas': 3340, 'menils': 3341, 'flatpicking': 3342, 'urdu': 3343, 'akmatbayev': 3344, 'mid-days': 3345, 'newcity': 3346, 'bischofberger': 3347, 'shots-32': 3348, 'ulhówek': 3349, 'idoma': 3350, 'hester': 3351, 'compacting': 3352, 'akhila': 3353, 'caprera': 3354, 'powders': 3355, 'congress-led': 3356, 'hovercraft': 3357, 'ppe': 3358, 'cross-cutting': 3359, 'wimauma': 3360, 'mingas': 3361, 'taraf': 3362, 'morais': 3363, 'hisawi': 3364, 'authentification': 3365, '45.37': 3366, 'iso/iec': 3367, 'haath': 3368, 'gkos': 3369, 'nasdr': 3370, 'nces': 3371, 'ketones': 3372, 'collaborations': 3373, '83.82': 3374, 'inserted': 3375, 'duetted': 3376, 'acronym': 3377, 'aislinn': 3378, 'seborga': 3379, 'teerasil': 3380, 'nyong': 3381, 'anuar': 3382, 'ciprofloxacin': 3383, 'alundis': 3384, 'fumbling': 3385, '505-foot': 3386, 'matias': 3387, 'cædwalla': 3388, 'nails': 3389, 'ryacudu': 3390, ':43': 3391, 'simeon': 3392, 'noninvasive': 3393, 'prude': 3394, 'parlato': 3395, 'tanamachi': 3396, '14.5': 3397, 'display': 3398, 'roblin': 3399, 'bratu': 3400, 'dogon': 3401, 'matthaei': 3402, 'inzerillo': 3403, 'armis': 3404, 'overturned': 3405, 'bookmaker': 3406, 'hsts': 3407, 'blastomere': 3408, 'niasse': 3409, 'fmn': 3410, 'euro559': 3411, 'decanting': 3412, 'porson': 3413, 'velonews': 3414, 'supraclavicular': 3415, 'bilad': 3416, 'mattapoisett': 3417, 'leg-spinner': 3418, 'cantonese': 3419, '1953-1956': 3420, '100,000-plus': 3421, 'all-cargo': 3422, 'ganzfried': 3423, 'dxr': 3424, 'soufrière': 3425, 'macmahon': 3426, 'burba': 3427, '1342': 3428, 'elétrico': 3429, 'insourcing': 3430, 'grigorov': 3431, 'andermatt': 3432, 'gossman': 3433, 'npf': 3434, 'anguti': 3435, 'nouhad': 3436, 'sphrantzes': 3437, 'orczy': 3438, 'vorskla': 3439, 'brandishing': 3440, 'verger': 3441, 'naish': 3442, '2,383': 3443, 'kpk': 3444, '2400m': 3445, 'delphinus': 3446, 'rares': 3447, 'sadamitsu': 3448, 'mios': 3449, 'eraldo': 3450, 'rhapsodized': 3451, 'memoire': 3452, 'gyr': 3453, 'salutations': 3454, 'insufflation': 3455, 'biosocial': 3456, '22pts': 3457, 'goldenvoice': 3458, 'shanksville': 3459, 'brdy': 3460, '66.05': 3461, 'bics': 3462, 'kinski': 3463, 'mansiisk': 3464, '8.06': 3465, 'shane': 3466, 'mixing': 3467, 'risborough': 3468, 'ferroviário': 3469, 'frazzled': 3470, 'schrijver': 3471, '45.21': 3472, 'gahima': 3473, 'furlongs': 3474, 'three-hour': 3475, 'laicization': 3476, 'daemonum': 3477, 'bernotat': 3478, 'abbr': 3479, 'gijon': 3480, 'hauptwache': 3481, '6.99': 3482, 'sarikaya': 3483, 'npc': 3484, 'turpentine': 3485, 'azour': 3486, 'domenick': 3487, 'kompressor': 3488, 'tillandsia': 3489, 'schuemann': 3490, 'mlle.': 3491, 'alongside': 3492, 'ojha': 3493, 'grammond': 3494, 'inflata': 3495, 'unhealthy': 3496, 'mluleki': 3497, 'afterguard': 3498, '75-kilometer': 3499, 'maslak': 3500, '200.6': 3501, 'sweetwaters': 3502, 'fritts': 3503, 'neptuno': 3504, 'discouraged': 3505, 'burgoo': 3506, 'sachindra': 3507, '115-horsepower': 3508, 'redacting': 3509, 'vibratory': 3510, 'monotype': 3511, '153-year': 3512, 'ridgefield': 3513, 'iwaki': 3514, 'priyono': 3515, 'invades': 3516, 'holston': 3517, 'resentfully': 3518, 'veis': 3519, 'guijin': 3520, 'cheroot': 3521, 'legree': 3522, 'doky': 3523, 'tang-e': 3524, 'prefatory': 3525, 'torrez': 3526, 'engineman': 3527, 'policeman': 3528, 'kiem': 3529, 'newbery': 3530, 'mkanell': 3531, 'isaly': 3532, 'sighed': 3533, 'gesetz': 3534, '55.19': 3535, 'othman': 3536, 'eppig': 3537, 'lhsaa': 3538, 'yatsenyuk': 3539, 'likeness': 3540, 'onay': 3541, 'ronaldson': 3542, 'akua': 3543, 'halfling': 3544, 'safmarine': 3545, '0825': 3546, 'koya': 3547, '5-hydroxytryptamine': 3548, 'п': 3549, 'priti': 3550, 'civility': 3551, '47-14': 3552, 'ledford': 3553, '51.68': 3554, 'hitlerism': 3555, '.576': 3556, 'stative': 3557, 'bunel': 3558, '1.4310': 3559, 'ranteesi': 3560, 'guercio': 3561, 'windber': 3562, 'ciphertexts': 3563, 'tradescant': 3564, 'aufschalke': 3565, 'orlanda': 3566, 'katter': 3567, 'attalea': 3568, 'vise': 3569, '19-count': 3570, 'strenghthen': 3571, 'generality': 3572, 'cross-examination': 3573, '79.9': 3574, 'yorn': 3575, 'indicated': 3576, 'st.-michel': 3577, 'planetary': 3578, 'nadbank': 3579, 'theoretic': 3580, 'chapelle': 3581, '15.26': 3582, 'op-20-g': 3583, 'mcquay': 3584, 'rhaunen': 3585, 'rymkus': 3586, 'jooste': 3587, '30-bit': 3588, 'euro47': 3589, 'fluellen': 3590, 'witley': 3591, 'koussevitzky': 3592, 'liechtensteiner': 3593, 'psiphon': 3594, 'laps': 3595, 'routes': 3596, '110.35': 3597, 'sixteenth-century': 3598, 'nilgiri': 3599, 'nutech': 3600, '95.01': 3601, 'funkiness': 3602, 'yonge': 3603, 'enseigne': 3604, 'weny': 3605, 'malé': 3606, '-8:11': 3607, 'kirkcudbrightshire': 3608, 'canari': 3609, 'sukardi': 3610, 'robusta': 3611, 'mcdermid': 3612, 'paidos': 3613, '7,400-member': 3614, 'presumptuous': 3615, 'czestochowa': 3616, 'jahr': 3617, 'jero': 3618, '114.50': 3619, 'tonbridge': 3620, 'donating': 3621, 'mindhunters': 3622, 'feuchtwanger': 3623, 'weisner': 3624, 'outsourcer': 3625, '2:14': 3626, 'covenants': 3627, 'punctures': 3628, 'scents': 3629, 'takhar': 3630, 'non-negotiable': 3631, 'mšk': 3632, 'joël': 3633, 'lindow': 3634, 'neineva': 3635, 'numero': 3636, 'thsrc': 3637, 'henshin': 3638, 'spehr': 3639, '1.162': 3640, 'bharatiya': 3641, 'taylormade': 3642, 'eurasec': 3643, 'husbanded': 3644, 'awwww': 3645, 'leslau': 3646, 'heyes': 3647, 'ashington': 3648, 'sepidar': 3649, 'tangerine': 3650, 'unimpeded': 3651, 'baseball-only': 3652, 'seend': 3653, 'gustavson': 3654, 'pancakes': 3655, 'd-generation': 3656, '31e': 3657, 'amarante': 3658, 'hasenclever': 3659, 'zygotic': 3660, 'raceway': 3661, 'benfield': 3662, 'dulaine': 3663, '262,000': 3664, 'surprise': 3665, 'drenner': 3666, '1977-1983': 3667, 'chloris': 3668, 'verre': 3669, '95-88': 3670, 'aspiras': 3671, 'ifi': 3672, 'm-18': 3673, '5.24': 3674, 'wirthlin': 3675, 'tarnee': 3676, 'polyesters': 3677, '1-42': 3678, 'categorizing': 3679, 'traum': 3680, 'pacifici': 3681, 'brands': 3682, 'hyaluronic': 3683, 'kedzie': 3684, 'pruth': 3685, 'darling': 3686, 'vana': 3687, 'anti-israel': 3688, 'radio': 3689, 'tunneled': 3690, 'atropatene': 3691, 'nullsoft': 3692, 'seventeen': 3693, 'verdy': 3694, 'östermalm': 3695, 'ligier': 3696, 'balloonist': 3697, '18g': 3698, '45-29': 3699, 'sachem': 3700, 'morath': 3701, 'foldout': 3702, 'baidu': 3703, 'mythical': 3704, 'anamorphic': 3705, 'alomari': 3706, 'keydets': 3707, 'aimless': 3708, 'ritonga': 3709, 'bluest': 3710, 'cruce': 3711, 'biglow': 3712, 'cuddyer': 3713, 're-creation': 3714, 'natalegawa': 3715, 'jeen': 3716, 'inc.': 3717, 'baum': 3718, 'placidity': 3719, '19.51': 3720, 'unobstructed': 3721, 'bartholdy': 3722, '2056': 3723, 'vrsac': 3724, 'biologia': 3725, 'yannitsis': 3726, 'greyish': 3727, 'non-specialist': 3728, 'kleeblatt': 3729, 'vizard': 3730, 'batul': 3731, 'subdirectories': 3732, 'willingham': 3733, 'patriots': 3734, 'garnaoui': 3735, 'kothagudem': 3736, 'furniture': 3737, 'roost': 3738, 'barrett': 3739, 'minstry': 3740, 'uruk': 3741, 'snedden': 3742, 'manen': 3743, 'litres': 3744, 'lounici': 3745, 'cmac': 3746, 'afato': 3747, 'morgunov': 3748, 'iakovou': 3749, 'auld': 3750, 'clotheslines': 3751, 'pumpernickel': 3752, 'philhealth': 3753, 'iso/tc': 3754, 'white-tail': 3755, 'homegrocer': 3756, 'bocas': 3757, 'delafosse': 3758, 'choudry': 3759, 'gardeja': 3760, '87.40': 3761, 'wantz': 3762, 'sandblast': 3763, 'nottawasaga': 3764, 'jacobins': 3765, 'kat': 3766, 'macrophyllum': 3767, 'shotwell': 3768, 'soquel': 3769, 'non-renewable': 3770, 'lubber': 3771, 'backscattered': 3772, 'cronon': 3773, '49-49': 3774, 'kabel': 3775, 'preteens': 3776, 'translation': 3777, 'faithful': 3778, 'rajyavardhan': 3779, 'enodis': 3780, 'beasant': 3781, 'puchov': 3782, '6.7-magnitude': 3783, 'kissidougou': 3784, 'babani': 3785, 'tzetzes': 3786, 'elee@ajc.com': 3787, 'nuchal': 3788, 'mclouth': 3789, 'puritty': 3790, 'soliders': 3791, 'aelm': 3792, 'chambermaids': 3793, 'adjudicatory': 3794, '1,768': 3795, 'vientiane': 3796, 'chakari': 3797, 'pfaelzer': 3798, 'penrhyndeudraeth': 3799, '61.90': 3800, 'revistas': 3801, 'euro396': 3802, 'halabi': 3803, 'nazlat': 3804, 'vacation': 3805, 'yoshiie': 3806, 'tattersfield': 3807, 'nightwatch': 3808, 'hing': 3809, '1732': 3810, 'monophagous': 3811, 'sudja': 3812, 'stamatis': 3813, 'suban': 3814, 'flatworms': 3815, 'bombed-out': 3816, 'popmatters': 3817, 'palakkad': 3818, 'flourished': 3819, 'i10': 3820, 'novaliches': 3821, 'high-latitude': 3822, 'bbn45': 3823, '28.97': 3824, 'tarabya': 3825, 'cusato': 3826, 'nickolenko': 3827, 'commotion': 3828, '78.53': 3829, 'matteo': 3830, 'no-fault': 3831, 'socceroos': 3832, 'cerámica': 3833, 'rumours': 3834, 'ghazna': 3835, 'huerga': 3836, 'subspace': 3837, 'gallico': 3838, 'masuyama': 3839, 'kpbs': 3840, 'milovanovic': 3841, 'fujimura': 3842, 'uhlich': 3843, 'kluszewski': 3844, '432-7250': 3845, 'jusoh': 3846, 'garnica': 3847, 'kabar': 3848, '11/15': 3849, 'tomini': 3850, 'ghiselin': 3851, 'tsampa': 3852, 'kenley': 3853, '-3.0': 3854, 'redeployment': 3855, 'luceafărul': 3856, 'spadina': 3857, 'tootoo': 3858, 'bedi': 3859, 'unbreachable': 3860, 'heatherette': 3861, 'crow': 3862, 'jnp': 3863, 'kloffe': 3864, 'deruyter': 3865, 'reoriented': 3866, 'chouly': 3867, 'loewi': 3868, 'coppens': 3869, 'lashari': 3870, 'xemacs': 3871, 'graecia': 3872, 'razilly': 3873, '72.52': 3874, 'satna': 3875, 'lucidly': 3876, 'outplacement': 3877, 'moutain': 3878, 'dauntlesses': 3879, '86-83': 3880, 'burleigh': 3881, 'globecast': 3882, 'martynov': 3883, 'threadbare': 3884, 'ramaroson': 3885, 'bioethics': 3886, 'visiting': 3887, 'felicity': 3888, 'lukić': 3889, 'zaidoun': 3890, 'suzuran': 3891, 'amfissa': 3892, 'basche': 3893, 'anuradhapura': 3894, 'violas': 3895, 'moun': 3896, 'cordy': 3897, 'hissene': 3898, 'chaffed': 3899, 'heron': 3900, 'potulny': 3901, 'amazon.com': 3902, '33.83': 3903, '26-billion': 3904, 'jasper': 3905, '34.91': 3906, 'cuneo': 3907, 'daubney': 3908, 'okhotsk': 3909, 'calypsonians': 3910, 'askeri': 3911, 'reappearing': 3912, 'karain': 3913, 'tanna': 3914, 'idg': 3915, 'alienates': 3916, 'roderic': 3917, 'woolwich': 3918, 'have': 3919, 'bletcher': 3920, 'mceachin': 3921, '24b': 3922, '150.5': 3923, 'yew': 3924, 'taluks': 3925, 'recirculating': 3926, 'kinzler': 3927, 'amédée': 3928, 'agbami': 3929, 'nemcova': 3930, 'pinegar': 3931, 'armone': 3932, 'pohatcong': 3933, 'aqha': 3934, 'shouts': 3935, 'ccpi': 3936, 'merc': 3937, 'orthoptera': 3938, 'gay': 3939, 'lvad': 3940, 'klepper': 3941, 'ten': 3942, 'seljord': 3943, 'fuyuan': 3944, 'ghegs': 3945, 'swallow-like': 3946, 'wilkins': 3947, 'trisagion': 3948, 'subsectors': 3949, 'carrian': 3950, 'typical': 3951, 'tribally': 3952, 'pointe-claire': 3953, 'müritz': 3954, 'pahlevi': 3955, 'zadorozhniuk': 3956, 'mistelbach': 3957, 'picchi': 3958, 'costea': 3959, 'fresco': 3960, '45,900': 3961, 'unmo': 3962, 'henrick': 3963, 'gorriaran': 3964, 'auda': 3965, 'fertilizations': 3966, 'hizbut': 3967, '40/chr': 3968, 'uwajima': 3969, 'a3d': 3970, 'tightwads': 3971, 'shabana': 3972, 'alphand': 3973, 'ilana': 3974, 'aşgabat': 3975, 'bzdelik': 3976, '29-july': 3977, 'korydallos': 3978, 'proval': 3979, 'kwoh': 3980, '265,000': 3981, 'heungseon': 3982, 'maxfield': 3983, 'shorrock': 3984, '4,367': 3985, 'limburg-weilburg': 3986, '6-all': 3987, 'jovin': 3988, 'maraniss': 3989, 'tullibody': 3990, '46-6': 3991, 'stegeborg': 3992, 'newcomers': 3993, 'portici': 3994, 'screven': 3995, 'dellas': 3996, 'aragonite': 3997, '2412': 3998, 'xii': 3999, 'pithoragarh': 4000, 'filastin': 4001, 'huwei': 4002, '144-player': 4003, '650,000-member': 4004, '61.37': 4005, 'werkbund': 4006, 'abstruse': 4007, 'firemen': 4008, 'patersons': 4009, 'betws-y-coed': 4010, 'two-tenths': 4011, 'abject': 4012, 'coningsby': 4013, 'agresta': 4014, 'jortzig': 4015, 'sapienza': 4016, 'tamgho': 4017, 'bhoja': 4018, 'cucu': 4019, '1.2050': 4020, 'schwartziella': 4021, 'rumbles': 4022, 'tripadvisor': 4023, '7085.16': 4024, 'marra': 4025, 'bevilacqua': 4026, 'mishaan': 4027, 'dolgellau': 4028, 'jms': 4029, 'ascanians': 4030, 'pinnaroo': 4031, 'hmc': 4032, 'urbino': 4033, 'fairmount': 4034, '7/0': 4035, '130-meter': 4036, 'blackrock': 4037, 'liv': 4038, 'bedsheets': 4039, 'watteville': 4040, 'antimuscarinic': 4041, 'amortizing': 4042, 'wmal': 4043, 'hematologist': 4044, 'senders': 4045, 'clairemont': 4046, 'heldenplatz': 4047, 'pharms': 4048, 'razzies': 4049, 'petrojet': 4050, 'telekomunikasi': 4051, '9,830': 4052, '65-53': 4053, 'vallabhbhai': 4054, 'marazziti': 4055, 'titanosaurus': 4056, 'pyke': 4057, 'sijan': 4058, 'dimidiatus': 4059, 'afterglow': 4060, 'boian': 4061, 'ringtone': 4062, 'monsour': 4063, 'cassillis': 4064, 'zhirkov': 4065, 'newbrough': 4066, 'intercepted': 4067, 'hrazdan': 4068, 'pompe': 4069, 'tehrik': 4070, 'volnay': 4071, 'bulacan': 4072, 'a350-900': 4073, 'm2-pk': 4074, 'overcommitted': 4075, 'lumber': 4076, 'womex': 4077, 'jund': 4078, 'teg': 4079, 'amílcar': 4080, 'schatten': 4081, 'galerias': 4082, 'pwu': 4083, 'auriga': 4084, 'crosswind': 4085, 'zcta': 4086, '3:13': 4087, 'maghrabi': 4088, 'http://www.jpl.nasa.gov': 4089, 'up-to-the-minute': 4090, '1863': 4091, 'xiping': 4092, 'subert': 4093, 'byt': 4094, 'presuppositions': 4095, '10.87': 4096, 'gitanos': 4097, 'finnissy': 4098, 'imtech': 4099, 'vujtek': 4100, 'precognition': 4101, 'resend': 4102, 'monch': 4103, '14.89': 4104, 're-election': 4105, 'rainfalls': 4106, 'refreshment': 4107, 'diligently': 4108, 'eludes': 4109, 'alytus': 4110, 'ebb': 4111, '16e': 4112, '324.8': 4113, '.362': 4114, '1/8-inch': 4115, 'otherworld': 4116, 'ecd': 4117, 'schayes': 4118, '40.82': 4119, '44-3': 4120, 'ruhlen': 4121, 'hook': 4122, 'readjustment': 4123, '5,048.62': 4124, 'mid-1600s': 4125, \"ev'ry\": 4126, 'masetti': 4127, '1959-1960': 4128, 'erignac': 4129, 'traffickers': 4130, 'korybut': 4131, 'brinson': 4132, 'janów': 4133, 'mimivirus': 4134, 'colo': 4135, 'commins': 4136, 'xfinity': 4137, 'adoringly': 4138, 'parnell': 4139, 'kosmas': 4140, 'carper': 4141, 'endnotes': 4142, '52-52': 4143, 'kallenberg': 4144, 'freisinger': 4145, 'defraye': 4146, 'pantothenate': 4147, 'guaíba': 4148, 'l-alanine': 4149, 'tanahashi': 4150, 'sociolect': 4151, 'entomological': 4152, 'kmrl': 4153, 'teleradiology': 4154, 'socorro': 4155, 'narvel': 4156, 'jangling': 4157, 'nabbed': 4158, 'salon.com': 4159, 'yahiya': 4160, 'indented': 4161, 'pavlin': 4162, 'rinuccini': 4163, 'ground-attack': 4164, 'hydrostatic': 4165, 'adat': 4166, 'culvahouse': 4167, '1969-1972': 4168, 'marathwada': 4169, 'hauls': 4170, 'bumblebees': 4171, 'operant': 4172, 'sauer': 4173, 'matěj': 4174, 'zéro': 4175, 'ultranationalists': 4176, 'macca': 4177, '1.06': 4178, 'kristalina': 4179, '58-56': 4180, 'eyeworks': 4181, 'torlonia': 4182, 'ibach': 4183, 'translocon': 4184, 'eliminate': 4185, 'glioblastoma': 4186, 'santon': 4187, 'frauen': 4188, 'aghayev': 4189, 'baksh': 4190, 'minson': 4191, 'mi-24s': 4192, 'sereena': 4193, 'outdoes': 4194, 'shayevich': 4195, 'takuo': 4196, 'signalers': 4197, 'hattori': 4198, 'kangju': 4199, 'out-of-context': 4200, '54.62': 4201, 'codice_18': 4202, '1939/40': 4203, '3-footer': 4204, 'water-insoluble': 4205, 'administrative': 4206, 'looming': 4207, '12-screen': 4208, 'membered': 4209, '68-59': 4210, '30.41': 4211, 'pushbutton': 4212, '28.70': 4213, 'orner': 4214, 'grabby': 4215, 'maata': 4216, 'rise': 4217, 'full-duplex': 4218, 'estat': 4219, '12/20': 4220, 'bmp': 4221, '1.93-meter': 4222, 'kosovo': 4223, '{': 4224, '118.34': 4225, 'asx200': 4226, 'atwood': 4227, 'g.a.a.': 4228, 'irving': 4229, 'us-led': 4230, 'compactness': 4231, 'zgray': 4232, 'birkeland': 4233, 'bayati': 4234, '8-megapixel': 4235, 'crehan': 4236, 'kuney': 4237, 'marojejy': 4238, 'savors': 4239, 'lubero': 4240, 'figurate': 4241, '24.13': 4242, 'austronesians': 4243, 'juppé': 4244, 'meiners': 4245, 'ladakhi': 4246, 'antispasmodic': 4247, 'strokemaker': 4248, 'heights': 4249, 'nahegau': 4250, 'picturesque': 4251, 'wenqi': 4252, 'xiqin': 4253, 'maliana': 4254, 'holungen': 4255, 'natsuko': 4256, '.584': 4257, 'balia': 4258, 'kpnqwest': 4259, 'dirita': 4260, 'cse': 4261, 'cakra': 4262, '17-28': 4263, 'limpets': 4264, '121.78': 4265, 'lighty': 4266, 'peccaries': 4267, '44.18': 4268, 'summitry': 4269, 'yen': 4270, 'sankoh': 4271, 'rushent': 4272, 'khilaiwi': 4273, 'opposers': 4274, '2009-2011': 4275, '10-win': 4276, 'contracture': 4277, '131.00': 4278, 'jase': 4279, '2:38': 4280, 'yet': 4281, 'hirzel': 4282, 'oce': 4283, 'wando': 4284, 'getman': 4285, 'm.phil': 4286, 'elementary-school': 4287, 'byz': 4288, 'osetra': 4289, 'fluctuations': 4290, 'risin': 4291, 'newells': 4292, 'zilk': 4293, 'amaran': 4294, 'rosebowl': 4295, 'pmo': 4296, 'bldg.': 4297, 'mbuende': 4298, 'flatcars': 4299, 'upfronts': 4300, 'tfh': 4301, 'turci': 4302, '03-dnp': 4303, '73d': 4304, '2.46': 4305, 'crvena': 4306, 'kildangan': 4307, '131.5': 4308, '132d': 4309, 'landaluce': 4310, 'mashie': 4311, 'hedding': 4312, 'zafran': 4313, 'burgville': 4314, 'açaí': 4315, '9,000-strong': 4316, 'sonder': 4317, 'profeta': 4318, 'finite-dimensional': 4319, 'thirtyish': 4320, 'famished': 4321, 'mlevenson@globe.com': 4322, 'hongtu': 4323, 'mcmurphy': 4324, 'cantu': 4325, 'tibbett': 4326, 'philibert': 4327, 'ballotting': 4328, 'heliospheric': 4329, 'folger': 4330, 'alvensleben': 4331, 'positivo': 4332, 'ayandeh': 4333, 'cke': 4334, 'skylark': 4335, 'thurbert': 4336, 'paglia': 4337, 'kunga': 4338, 'pageex': 4339, 'wroxham': 4340, 'tobias': 4341, 'bcsl': 4342, '1.452': 4343, 'henryson': 4344, 'funkiest': 4345, '1.3910': 4346, 'pagla': 4347, 'angelotti': 4348, 'norma': 4349, 'streetscapes': 4350, '52-million': 4351, '174.2': 4352, 'aylor': 4353, 'tuxedos': 4354, 'and-5': 4355, 'bosnich': 4356, 'yayla': 4357, 'equestris': 4358, 'azemi': 4359, 'eupatoria': 4360, 'ilic': 4361, 'campsie': 4362, 'proforma': 4363, 'torok': 4364, 'disasters': 4365, '272.3': 4366, 'nadarajah': 4367, 'terminer': 4368, '93.62': 4369, 'solario': 4370, 'ultraliberal': 4371, 'plasmons': 4372, 'protostomes': 4373, 'thingol': 4374, 'irsyad': 4375, '91.87': 4376, 'herger': 4377, 'négritude': 4378, 'lisleby': 4379, 'cies': 4380, 'tchenguiz': 4381, 'zez': 4382, 'wright-patterson': 4383, 'myelofibrosis': 4384, 'estuary': 4385, 'bežanija': 4386, 'sodha': 4387, 'friedeburg': 4388, 'tamudo': 4389, 'all-aluminum': 4390, 'opt': 4391, 'aiga': 4392, 'calapan': 4393, 'seiichiro': 4394, 'rankings': 4395, 'enso': 4396, 'uneconomic': 4397, 'yeroen': 4398, 'recognized': 4399, 'matteus': 4400, 'shirose': 4401, 're': 4402, 'muehr': 4403, 'mylan': 4404, '45.68': 4405, '10-item': 4406, '91kg': 4407, 'sfatul': 4408, 'courses': 4409, 'namhae': 4410, 'keasler': 4411, 'samdhong': 4412, 'dullard': 4413, '26-hour': 4414, 'anstis': 4415, 'shaoshan': 4416, 'kamman': 4417, 'geoglyphs': 4418, 'donegal': 4419, 'lisa': 4420, 'moneybags': 4421, 'foltz': 4422, 'rafiuddin': 4423, 'suheil': 4424, 'eisfeld': 4425, 'knowledgeably': 4426, 'toplessness': 4427, 'marthastewart.com': 4428, 'cotentin': 4429, 'gol': 4430, 'microhylid': 4431, 'smote': 4432, 'opsf': 4433, 'other': 4434, 'cafasso': 4435, 'pickett': 4436, 'rapreviews.com': 4437, 'jessamyn': 4438, 'ardglass': 4439, 'moita': 4440, 'h2so4': 4441, 'atentados': 4442, 'kilwinning': 4443, 'zangief': 4444, 'nylex': 4445, 'kivelidi': 4446, 'clefts': 4447, 'sirvan': 4448, 'astara': 4449, 'overseen': 4450, 'maillé': 4451, 'marino': 4452, 'birdee': 4453, 'unsatisfying': 4454, 'm90': 4455, 'brudnick': 4456, 'farruquito': 4457, 'luweero': 4458, 'carrott': 4459, 'ccpit': 4460, '52.68': 4461, 'dregs': 4462, 'nádraží': 4463, 'chelmsford': 4464, 'tiffin': 4465, 'hilfenhaus': 4466, '39.72': 4467, 'sazanovich': 4468, 'spittal': 4469, 'mandelbaum': 4470, 'tarentaise': 4471, 'hungrily': 4472, \"d'aosta\": 4473, 'österåker': 4474, 'onesti': 4475, 'carthusians': 4476, 'gersonides': 4477, 'grumpily': 4478, 'momenabad': 4479, 'margazhi': 4480, '2-20': 4481, 'goldsby': 4482, 'csj': 4483, 'ejectment': 4484, 'spectaculars': 4485, 'frederikshavn': 4486, '----------------------': 4487, '3.6-percent': 4488, 'patrocinio': 4489, 'hitchhiker': 4490, 'wicha': 4491, 'escapology': 4492, '7-for-12': 4493, '2.01-meter': 4494, 'urien': 4495, 'mapudungun': 4496, 'wanstead': 4497, 'bjd': 4498, 'm33': 4499, 'aganga': 4500, 'gadiel': 4501, 'ingolstadt': 4502, 'ulala': 4503, 'manin': 4504, 'petitjean': 4505, 'danseuse': 4506, 'defer': 4507, 'voter-approved': 4508, 'desika': 4509, 'harapan': 4510, 'daultana': 4511, 'meridional': 4512, 'andiamo': 4513, 'microdistrict': 4514, 'debelo': 4515, 'cuenin': 4516, 'marcinski': 4517, 'wadai': 4518, 'jailbreaking': 4519, 'irda': 4520, 'pantheistic': 4521, '2,619': 4522, 'expropriated': 4523, 'succubus': 4524, 'glane': 4525, 'bagoong': 4526, 'tutorial': 4527, 'codenamed': 4528, 'ropes': 4529, 'sharkh': 4530, 'bloodymania': 4531, 'kenne': 4532, 'saltwater': 4533, 'stefanik': 4534, 'tipplers': 4535, 'methow': 4536, 'domestic': 4537, 'machame': 4538, 'rotterdammers': 4539, 'single-layer': 4540, '14.67': 4541, 'fegley': 4542, '47.99': 4543, 'sodomized': 4544, 'penitence': 4545, 'consumer': 4546, 'envious': 4547, '13-percent': 4548, 'galvani': 4549, '165-foot': 4550, 'krizz': 4551, 'wodecki': 4552, 'devious': 4553, 'shīrīn': 4554, 'chusok': 4555, 'variegatum': 4556, 'goldburg': 4557, 'goodbye': 4558, 'frescoed': 4559, 'brazill': 4560, 'union': 4561, 'blackmail': 4562, 'over-zealous': 4563, 'vacuumed': 4564, 'shirtwaist': 4565, 'panola': 4566, 'callander': 4567, 'vincor': 4568, 'α-ketoglutarate': 4569, 'warrantless': 4570, 'rain-soaked': 4571, 'patties': 4572, 'crested': 4573, 'scardaville': 4574, 'shipman': 4575, 'handstand': 4576, 'containerisation': 4577, 'sechenov': 4578, 'polskie': 4579, 'bengali-language': 4580, 'dumai': 4581, 'alzira': 4582, '5,263': 4583, 'yotel': 4584, 'moanda': 4585, 'pusztai': 4586, 'leśne': 4587, 'kalpana': 4588, 'meiyuan': 4589, 'kaidan': 4590, 'ownership': 4591, 'cruikshank': 4592, 'a.d.': 4593, 'yomitan': 4594, 'keola': 4595, 'down-home': 4596, 'enghien': 4597, 'nakauchi': 4598, 'evguenia': 4599, 'contrario': 4600, '11.70': 4601, 'daylong': 4602, 'cnca': 4603, 'kuijs': 4604, 'regierungsbezirk': 4605, 'rasulo': 4606, '36-yarder': 4607, 'kurji': 4608, 'ryles': 4609, 'bogalusa': 4610, 'kleinerman': 4611, 'kamugisha': 4612, 'schiehallion': 4613, 'chelmsley': 4614, 'dahllof': 4615, 'qiuping': 4616, 'yokosawa': 4617, '31.45': 4618, 'blackwoods': 4619, 'azarov': 4620, 'kanko': 4621, '2,777': 4622, 'immerge': 4623, 'etiqueta': 4624, '.44': 4625, 'doldrums': 4626, 'truckee': 4627, 'sihon': 4628, 'sérgio': 4629, 'aspherical': 4630, '1241': 4631, 'flete': 4632, 'clariion': 4633, 'bushra': 4634, 'giladi': 4635, 'ritto': 4636, 'bruneian': 4637, 'adopt': 4638, 'rectum': 4639, 'delagrange': 4640, 'nimis': 4641, 'parepare': 4642, 'gylfaginning': 4643, 'batmen': 4644, 'apostolidis': 4645, '1471': 4646, 'speke': 4647, '92.13': 4648, 'karte': 4649, 'mutai': 4650, 'allum': 4651, '62.46': 4652, 'macaranas': 4653, 'āgama': 4654, 'supandi': 4655, 'debes': 4656, 'edir': 4657, 'krav': 4658, 'bjoergen': 4659, 'pétur': 4660, 'babylonia': 4661, 'blackjacks': 4662, '18.54': 4663, '20p': 4664, '96.73': 4665, 'clemons': 4666, 'choto': 4667, 'caponiers': 4668, 'scelsi': 4669, 'napoleón': 4670, 'isomer': 4671, 'shapeshifter': 4672, '132,500': 4673, 'froogle': 4674, 'kyoei': 4675, 'zentralblatt': 4676, 'chaebol': 4677, '27-percent': 4678, 'kaller': 4679, 'oputa': 4680, 'nanomolar': 4681, 'goolagong': 4682, 'luncheon': 4683, 'kato': 4684, 'yulianti': 4685, 'léonie': 4686, 'der': 4687, 'rft': 4688, 'uetersen': 4689, 'levelt': 4690, 'all-world': 4691, 'g13': 4692, '46.69': 4693, 'migra': 4694, 'tiangaye': 4695, 'madritsch': 4696, 'malpractice': 4697, 'lindpere': 4698, '888-662-7669': 4699, 'electrification': 4700, 'ingenuous': 4701, '747-500x': 4702, 'crises': 4703, 'brassington': 4704, '’d': 4705, 'unzip': 4706, 'maccabiah': 4707, 'paramyxoviridae': 4708, '240': 4709, 'neige': 4710, 'marajo': 4711, 'grrrr': 4712, 'euro22': 4713, 'caressa': 4714, 'm.a.f.i.a.': 4715, 'yankeenets': 4716, 'riendeau': 4717, 'otonabee': 4718, 'alia': 4719, 'chizhou': 4720, 'club-like': 4721, 'mayang': 4722, 'self-mutilation': 4723, 'brt': 4724, 'positively': 4725, 'single-point': 4726, '45-16': 4727, '100-billion': 4728, 'command.com': 4729, 'tradebook': 4730, 'tteok': 4731, 'lnbp': 4732, 'iota': 4733, 'essene': 4734, 'finnane': 4735, 'pgi': 4736, 'haut-rhin': 4737, 'namas': 4738, 'top-rating': 4739, 'hezb-i': 4740, 'kiptum': 4741, 'priscus': 4742, 'unexceptionable': 4743, 'frutas': 4744, 'antonopoulos': 4745, 'gaulieder': 4746, '20-week': 4747, 'flagbearer': 4748, 'caltex': 4749, 'gavalas': 4750, 'beaupre': 4751, 'nobusuke': 4752, 'vash': 4753, 'k.g.': 4754, 'rahula': 4755, 'moomaw': 4756, 'ashi': 4757, 'vincenzi': 4758, 'beilby': 4759, '7,680': 4760, 'lamphun': 4761, 'emarginate': 4762, 'l': 4763, '9,320': 4764, 'flo': 4765, 'energy-saving': 4766, 'manoeuvre': 4767, '2251': 4768, 'juhi': 4769, 'pld': 4770, 'a-million': 4771, 'mickleham': 4772, '37.17': 4773, 'untrue': 4774, 'ribalta': 4775, 'sceaux': 4776, 'wickersham': 4777, 'farzad': 4778, 'soco': 4779, 'pandl': 4780, 'lokshina': 4781, 'skrela': 4782, 'gotanda': 4783, 'partners': 4784, 'subak': 4785, 'cot': 4786, 'laraine': 4787, 'brenon': 4788, 'inane': 4789, 'young-joo': 4790, 'djalal': 4791, '75.23': 4792, 'multisite': 4793, 'maximilian': 4794, 'wilanów': 4795, 'lacedaemonians': 4796, 'allesandro': 4797, 'mevius': 4798, 'unfamiliarity': 4799, 'conundrum': 4800, 'holopainen': 4801, 'dragojević': 4802, 'bach': 4803, 'quinlan': 4804, 'kuts': 4805, 'r.m.s.': 4806, 'takin': 4807, 'chavar': 4808, 'asdf': 4809, 'proinsias': 4810, 'meshwork': 4811, 'anejo': 4812, 'coal-burning': 4813, 'northanger': 4814, 'frondizi': 4815, 'nyos': 4816, 'karim': 4817, '1the': 4818, 'lüneburger': 4819, 'ulan-ude': 4820, 'lingayen-dagupan': 4821, 'kincaid': 4822, 'marky': 4823, 'gastarbeiter': 4824, 'telemaco': 4825, 'newmont': 4826, 'o-235': 4827, 'gossel': 4828, 'non-uniformed': 4829, 'licensers': 4830, 'intercalary': 4831, 'fomalhaut': 4832, 'razeq': 4833, 'burhan': 4834, 'derrière': 4835, 'gaullist': 4836, '379.5': 4837, 'wherewithal': 4838, 'nawang': 4839, 'looe': 4840, 'fcn': 4841, 'ruc': 4842, 'sansom': 4843, '18:58': 4844, 'site-directed': 4845, 'tahu': 4846, 'lagna': 4847, 'minnaar': 4848, 'soie': 4849, 'kemble': 4850, 'pyroelectric': 4851, 'kya': 4852, 'padina': 4853, 'milkweeds': 4854, 'laurana': 4855, 'revoking': 4856, 'cryolite': 4857, 'palatalized': 4858, 'pallett': 4859, 'bubacar': 4860, 'trochidae': 4861, 'officiis': 4862, 'gelett': 4863, 'cossar': 4864, '42-0': 4865, 'misshapen': 4866, 'overbought': 4867, 'mullane': 4868, 'allotting': 4869, 'fifteen': 4870, 'thoroughblades': 4871, 'zilce': 4872, '40-acre': 4873, 'second-tier': 4874, 'government': 4875, 'kosong': 4876, '98.64': 4877, 'washtub': 4878, 'newbuilding': 4879, 'končar': 4880, 'overpopulation': 4881, 'herbert': 4882, 'mahendra': 4883, 'salemme': 4884, 'longacres': 4885, \"d'orbigny\": 4886, 'rirkrit': 4887, 'muppet': 4888, 'kaloogian': 4889, 'ilfc': 4890, 'marwick': 4891, 'waistbands': 4892, 'meurant': 4893, 'keldorf': 4894, '33.33': 4895, 'pelhřimov': 4896, 'breendonk': 4897, 'ret': 4898, 'banquettes': 4899, 'tumorous': 4900, '50-10': 4901, 'lawang': 4902, 'pompadoured': 4903, 'halladay': 4904, 'prickle': 4905, 'hallettsville': 4906, 'shuhn': 4907, 'miljkovic': 4908, 'dragoons': 4909, 'newsmedia': 4910, '349,000': 4911, 'quyền': 4912, 'sped': 4913, 'bergstroem': 4914, 'pythagorean': 4915, 'huaiyuan': 4916, '128.1': 4917, '53-05-76-50': 4918, 'kenrick': 4919, '2,856': 4920, '1966-67': 4921, 'offord': 4922, 'distaste': 4923, 'bentura': 4924, 'interfaced': 4925, 'deniliquin': 4926, 'geography': 4927, 'vasca': 4928, 'douglass': 4929, 'sadikoglu': 4930, 'palley': 4931, 'cau': 4932, 'sardar-e': 4933, 'starthistle': 4934, 'subregional': 4935, 'polygar': 4936, 'muman': 4937, 'solvency': 4938, '25.60': 4939, '68.99': 4940, 'technocrats': 4941, 'knology': 4942, '4/2': 4943, 'backflow': 4944, 'mcgowan': 4945, 'hkfe': 4946, 'dispossess': 4947, 'belarusians': 4948, 'orry': 4949, 'fairuzizuan': 4950, 'tönning': 4951, 'unclench': 4952, 'mazzaro': 4953, 'yashili': 4954, 'draguignan': 4955, 'lavagna': 4956, 'castellan': 4957, 'neumuenster': 4958, 'raas': 4959, '9:46': 4960, '107.97': 4961, 'phul': 4962, 'weinhauer': 4963, '40.10': 4964, 'syafrie': 4965, 'sterzing': 4966, 'breezewood': 4967, 'dennys': 4968, '369': 4969, 'exacted': 4970, 'inherent': 4971, 'offs': 4972, 'besought': 4973, 'concentrators': 4974, 'braulio': 4975, 'uecker': 4976, 'corydon': 4977, 'haber': 4978, 'rewi': 4979, 'aaii': 4980, 'toolchain': 4981, '87-87': 4982, 'radja': 4983, 'ouali': 4984, 'eyebeam': 4985, 'szott': 4986, 'efimkin': 4987, 'cpc': 4988, \"d'aragona\": 4989, 'oesterheld': 4990, 'nsfc': 4991, 'skudai': 4992, 'retry': 4993, 'clopin': 4994, 'pharisee': 4995, 'degrassi': 4996, 'somaly': 4997, 'hlinka': 4998, 'rody': 4999, 'idling': 5000, 'traders': 5001, 'buns': 5002, 'anti-bush': 5003, 'lanced': 5004, 'dreamsville': 5005, 'durlston': 5006, 'anglo-sikh': 5007, 'hypertalk': 5008, 'vacui': 5009, 'thymic': 5010, 'kromme': 5011, 'suape': 5012, '17.79': 5013, 'outa': 5014, 'greencore': 5015, 'delai': 5016, 'algonquins': 5017, 'savilian': 5018, 'kinbote': 5019, 'kautokeino': 5020, 'neo-medieval': 5021, 'gotthard': 5022, 'tarabieh': 5023, 'millets': 5024, 'troglodytidae': 5025, 'uthlaut': 5026, 'neocon': 5027, 'pulliam': 5028, '2.7': 5029, 'kabuki': 5030, '37-40': 5031, 'coelurosaur': 5032, 'lillesand': 5033, 'jarrar': 5034, 'bankside': 5035, 'wenchi': 5036, '131.75': 5037, 'watkinson': 5038, 'larudee': 5039, 'cytochalasin': 5040, 'committment': 5041, 'shakti': 5042, 'sneering': 5043, 'foolad': 5044, 'sardonic': 5045, 'newlines': 5046, 'bakul': 5047, 'apicomplexan': 5048, '49.33': 5049, 'swizzle': 5050, 'cutlasses': 5051, 'autonomist': 5052, 'borhan': 5053, 'reformulated': 5054, 'flan': 5055, 'incomprehension': 5056, 'depicting': 5057, 'gelabert': 5058, 'noella': 5059, 'al-shafi': 5060, 'bagler': 5061, 'milquetoast': 5062, 'parece': 5063, 'bearable': 5064, 'leidig': 5065, 'hagia': 5066, 'marittima': 5067, 'jarnac': 5068, 'kafr': 5069, 'kaprielian': 5070, 'mcclarnon': 5071, 'intertwine': 5072, 'schram': 5073, 'ufdots': 5074, 'barbadoes': 5075, 'gosheh': 5076, 'tvrdik': 5077, 'oddparents': 5078, 'practiced': 5079, 'motherly': 5080, 'ohmic': 5081, 'grubba': 5082, 'algimantas': 5083, 'bektashi': 5084, 'placeless': 5085, '3,510': 5086, 'h2o': 5087, '108.59': 5088, 'embroilment': 5089, 'photocopiers': 5090, 'egl': 5091, '180-degree': 5092, 'seaholm': 5093, 'garigliano': 5094, 'mawkish': 5095, 'rasinski': 5096, 'cn-235': 5097, 'longville': 5098, 'netscreen': 5099, 'puey': 5100, 'toolshed': 5101, 'zir': 5102, 'multibus': 5103, 'impetigo': 5104, 'concerning': 5105, 'teikyo': 5106, 'melqart': 5107, 'mompesson': 5108, 'mels': 5109, 'http://www.nasa.gov': 5110, 'christendom': 5111, 'ilkka': 5112, 'felicidade': 5113, '63.55': 5114, 'debasis': 5115, 'greenfeld': 5116, 'spíritus': 5117, 'denton': 5118, 'euro448': 5119, 'guercino': 5120, 'kaat': 5121, 'facelifts': 5122, 'sestet': 5123, 'dare': 5124, 'briody': 5125, 'casimir': 5126, 'fitzhugh': 5127, 'kūkai': 5128, 'mithraism': 5129, 'left-side': 5130, 'katara': 5131, 'coryo': 5132, 'language-speaking': 5133, '1,425': 5134, 'soothsaying': 5135, '146.1': 5136, 'brainin': 5137, 'baqar': 5138, 'passages': 5139, 'armours': 5140, 'hiromi': 5141, 'imbecile': 5142, 'faulconer': 5143, 'şanlıurfa': 5144, 'długosiodło': 5145, 'mpower': 5146, 'rackham': 5147, 'xihe': 5148, 'e-cadherin': 5149, 'dyers': 5150, '3,222': 5151, 'pre-1979': 5152, 'shishaku': 5153, 'targeted': 5154, 'safak': 5155, 'gurmit': 5156, 'best-loved': 5157, 'bortolini': 5158, '0550': 5159, '0603': 5160, 'macaé': 5161, 'koenders': 5162, 'agda': 5163, 'asw': 5164, 'mottisfont': 5165, 'kittens': 5166, 'durer': 5167, 'representaciones': 5168, 'antitrypsin': 5169, 'maricopa': 5170, 'medlar': 5171, 'klesko': 5172, 'sackville-west': 5173, 'florennes': 5174, 'koç': 5175, 'karuizawa': 5176, 'steeply': 5177, 'denkin': 5178, 'tribhuwan': 5179, 'suweira': 5180, 'daubs': 5181, 'gascony': 5182, 'auclair': 5183, 'bocanegra': 5184, 'darkness': 5185, '1-serena': 5186, 'samudera': 5187, 'bignoniaceae': 5188, 'naturalism': 5189, 'stratevest': 5190, 'eighty-eighth': 5191, 'bosnias': 5192, 'ducis': 5193, '9.3-magnitude': 5194, 'amnrl': 5195, '26.30': 5196, 'cregagh': 5197, 'hecker': 5198, 'piff': 5199, 'rozali': 5200, 'pickard': 5201, 'cmts': 5202, '24.55': 5203, 'yakovenko': 5204, 'doa': 5205, 'uk-based': 5206, 'hairiest': 5207, 'valsad': 5208, 'serse': 5209, 'shaikhs': 5210, 'cpms': 5211, 'uisnech': 5212, 'g500': 5213, 'buczek': 5214, '(418)': 5215, 'retailers': 5216, 'brodkorb': 5217, 'liupanshui': 5218, 'callicott': 5219, 'yasuyuki': 5220, 'niskayuna': 5221, 'gallinger': 5222, 'zhengdong': 5223, 'finalists': 5224, 'nematodes': 5225, 'bijection': 5226, 'nyoka': 5227, 'linderoth': 5228, 'russells': 5229, 'nizam': 5230, 'anqing': 5231, 'diagnose': 5232, '123.10': 5233, 'superstrings': 5234, 'kartiko': 5235, '94,500': 5236, 'simpkins': 5237, 'multituberculata': 5238, 'sinskey': 5239, '1984-1993': 5240, 'tibeto-burman': 5241, 'wot': 5242, 'konjaku': 5243, 'calasanz': 5244, 'mekhilta': 5245, 'compro': 5246, 'tressel': 5247, 'airwing': 5248, 'indeterminate': 5249, 'steelyard': 5250, '4-5-1': 5251, 'classmates.com': 5252, 'weiler': 5253, 'steeping': 5254, 'johncock': 5255, 'isleta': 5256, 'seanna': 5257, 'brydges': 5258, 'ribisi': 5259, 'noor': 5260, 'bridgepoint': 5261, 'caftan': 5262, 'youngor': 5263, 'kharchenko': 5264, 'pfiffner': 5265, \"m'vila\": 5266, 'mering': 5267, 'tiombe': 5268, 'lengthiest': 5269, 'lefrak': 5270, 'half': 5271, 'zaccardelli': 5272, 'ritcher': 5273, 'javanicus': 5274, 'nortraship': 5275, 'beedies': 5276, 'fordyce': 5277, '2/48th': 5278, 'sejmik': 5279, 'avn': 5280, 'almoravids': 5281, 'powerlink': 5282, '3,572': 5283, 'dake': 5284, 'belturbet': 5285, 'nns10': 5286, 'pasl': 5287, 'carysfort': 5288, 'swaddling': 5289, 'gallows': 5290, 'linkevicius': 5291, 'mommy': 5292, 'roop': 5293, 'atlantics': 5294, 'lonborg': 5295, 'ed.d': 5296, 'virge': 5297, '900-mile': 5298, '45,300': 5299, 'prieur': 5300, 'grimandi': 5301, 'marrieds': 5302, 'harriton': 5303, 'subprime': 5304, 'judis': 5305, 'jellico': 5306, 'babesia': 5307, 'diriye': 5308, 'bast': 5309, 'triable': 5310, 'janneke': 5311, 'bezirksliga': 5312, 'couturiers': 5313, 'mainyu': 5314, 'schefflera': 5315, 'tww': 5316, 'robinsonville': 5317, 'cuan': 5318, 'mh-47': 5319, 'tuvia': 5320, 'numeral': 5321, 'sandercock': 5322, 'médailles': 5323, 'kadouri': 5324, 'metten': 5325, 'wd40': 5326, '272.4': 5327, 'garamvoelgyi': 5328, 'grunter': 5329, 'ghirlandaio': 5330, 'dihydrocodeine': 5331, 'kesavananda': 5332, 'maneeloy': 5333, 'hedblom': 5334, 'edwardes': 5335, 'period_3': 5336, 'kowit': 5337, 'dezső': 5338, 'escribir': 5339, 'yaropolk': 5340, 'heidelberg': 5341, 'job': 5342, 'lavanya': 5343, 'bambra': 5344, 'stachelberg': 5345, 'hephaestion': 5346, 'schoff': 5347, 'dolalrs': 5348, 'crankier': 5349, 'minicoy': 5350, 'launsky': 5351, 'perucho': 5352, 'rambo': 5353, 'ventilate': 5354, '112-106': 5355, 'closures': 5356, 'hurlford': 5357, 'kleptoparasitism': 5358, 'platting': 5359, 'tepu': 5360, 'shvut': 5361, 'jax': 5362, 'shimpan': 5363, 'kohly': 5364, 'ondigital': 5365, 'hudood': 5366, 'ground-penetrating': 5367, 'twelfth-century': 5368, 'goudey': 5369, 'm.f.k.': 5370, 'hostage': 5371, 'biologist': 5372, 'fpoe': 5373, 'treg': 5374, 'hispanoamericana': 5375, 'ustaad': 5376, 'proenca': 5377, 'a.m.-12': 5378, 'kilobytes': 5379, 'califano': 5380, '---------------------------------': 5381, 'angouleme': 5382, 'skate': 5383, 'hawthis': 5384, 'exempts': 5385, 'hamo': 5386, '205th': 5387, 'vice-president': 5388, 'swagged': 5389, '6-65': 5390, 'bungalows': 5391, 'fichman': 5392, 'lakelands': 5393, 'tru': 5394, 'stassinopoulos': 5395, 'saeng': 5396, 'silvestrii': 5397, 'construe': 5398, 'louis-alexandre': 5399, 'haart': 5400, 'gog': 5401, 'anand-milind': 5402, 'mfg': 5403, 'dpwh': 5404, '31-27': 5405, 'fager': 5406, 'ruffe': 5407, 'llegar': 5408, 'wetstone': 5409, 'barce': 5410, 'pijpers': 5411, 'girth': 5412, '.172': 5413, 'lindemann': 5414, 'jwarner': 5415, 'hemingwayesque': 5416, 'terence': 5417, 'chelating': 5418, '224': 5419, '150-foot': 5420, 'calero': 5421, 'brosna': 5422, 'dih': 5423, 't53': 5424, 'downie': 5425, 'ohb': 5426, 'iomaire': 5427, 'bleidelis': 5428, '2-yard': 5429, 'kleptomania': 5430, 'liangyu': 5431, 'gawaine': 5432, 'klub': 5433, 'zygo': 5434, 'empathized': 5435, 'buffon': 5436, 'cristiani': 5437, 'gehv': 5438, 'gourcuff': 5439, 'sokhon': 5440, 'tiradentes': 5441, 'kosters': 5442, '1944-1946': 5443, 'narn': 5444, 'dellinger': 5445, 'wcrs': 5446, 'baldini': 5447, '127.34': 5448, 'kooiman': 5449, 'willcock': 5450, '1875': 5451, 'mintel': 5452, '40.85': 5453, 'is/was': 5454, 'modano': 5455, 'tyer': 5456, 'nederland': 5457, 'nässjö': 5458, '15.82': 5459, 'benazir': 5460, 'etonians': 5461, 'kouwe': 5462, 'balkhash': 5463, 'jeopardize': 5464, 'hogtied': 5465, 'stampeded': 5466, 'werewolf': 5467, 'bronckhorst': 5468, 'troth': 5469, 'carnton': 5470, 'salsify': 5471, 'michaelsen': 5472, 'kinnel': 5473, 'ezzatollah': 5474, 'rajen': 5475, 'scotusblog': 5476, '1491': 5477, 'dungan': 5478, 'katic': 5479, '93-91': 5480, 'borchgrevink': 5481, 'commissionner': 5482, 'rattay': 5483, 'obligation': 5484, 'deprogramming': 5485, 'prominence': 5486, 'vouliagmeni': 5487, 'zarkov': 5488, 'capable': 5489, 'cuya': 5490, 'wener': 5491, 'saint-hubert': 5492, 'lisheron': 5493, '69-70': 5494, 'marinov': 5495, 'inamori': 5496, 'obihiro': 5497, 'svyazinvest': 5498, 'cmrr': 5499, 'buchananites': 5500, 'attkisson': 5501, 'hirschmann': 5502, 'ledru-rollin': 5503, 'borġ': 5504, 'hakkâri': 5505, '2,000-meter': 5506, 'environmentalism': 5507, 'footnote': 5508, 'p26': 5509, 'marwaris': 5510, 'lorenzi': 5511, 'chaplow': 5512, 'burkle': 5513, 'rockall': 5514, 'crafoord': 5515, '82.39': 5516, 'vietor': 5517, 'obsequiousness': 5518, 'haselman': 5519, 'fëanor': 5520, 'ponts': 5521, 'munier': 5522, 'serenaded': 5523, 'schwandorf': 5524, 'iwamura': 5525, 'peephole': 5526, 'carpintero': 5527, 'ircam': 5528, 'raël': 5529, 'airfix': 5530, '1,021': 5531, 'topoisomerases': 5532, 'entrapped': 5533, 'sampallo': 5534, '3,238': 5535, 'my-otome': 5536, 'arrangment': 5537, 'crypt': 5538, 'lidge': 5539, 'tallberg': 5540, 'alagi': 5541, 'doctored': 5542, 'laffan': 5543, 'redeem': 5544, 'chongjin': 5545, 'guillemette': 5546, 'centerpoint': 5547, 'incautious': 5548, 'batmunkh': 5549, 'colesberg': 5550, 'emes': 5551, 'h9n2': 5552, 'maría': 5553, 'roofline': 5554, 'mangxamba': 5555, '14-nation': 5556, 'nmbs': 5557, '1727': 5558, 'yeley': 5559, 'kelenna': 5560, 'hystrix': 5561, 'kawilleyaol.com': 5562, 'artemisinin': 5563, 'armillaria': 5564, 'foxx': 5565, 'non-drug': 5566, 'ardenne': 5567, 'cults': 5568, 'linnet': 5569, '121.13': 5570, '93.46': 5571, 'member-based': 5572, 'pillman': 5573, 'tjones': 5574, 'time-consuming': 5575, 'conservatori': 5576, 'turboshaft': 5577, 'bam': 5578, 'burh': 5579, 'yalof': 5580, 'tarzana': 5581, 'bevona': 5582, 'marinin': 5583, 'numi': 5584, 'eleftheros': 5585, 'semiweekly': 5586, 'skyteam': 5587, 'medicinas': 5588, 'gothika': 5589, '184.9': 5590, 'crossgates': 5591, 'pinout': 5592, 'capons': 5593, '96.15': 5594, 'http://iwin.nws.noaa.gov': 5595, 'rittenmeyer': 5596, 'dejeu': 5597, 'tarmacked': 5598, 'lsteinsptimes.com': 5599, '90.93': 5600, 'yagudin': 5601, 'bly': 5602, 'dechant': 5603, 'hobbs': 5604, 'netze': 5605, 'dode': 5606, 'buttafuoco': 5607, 'careflight': 5608, 'westin': 5609, 'krsmanovic': 5610, 'tử': 5611, 'venkov': 5612, 'shuwei': 5613, 'procrastinators': 5614, 'proto-celtic': 5615, 'oxenden': 5616, 'kagami': 5617, 'zentraedi': 5618, 'adventurists': 5619, 'gatra': 5620, 'fullness': 5621, 'radoje': 5622, 'thickest': 5623, 'sarandë': 5624, 'mcnitt': 5625, 'wenski': 5626, 'bredon': 5627, 'wxin': 5628, 'yawned': 5629, 'starchy': 5630, 'pelicans': 5631, '177.6': 5632, 'arang': 5633, 'euro243': 5634, 'hud': 5635, 'doggy': 5636, 'gemarkung': 5637, 'qaddour': 5638, '2349': 5639, 'bahoku': 5640, 'süd': 5641, 'unaccomplished': 5642, 'voluptuousness': 5643, 'rogell': 5644, 'tabatabai': 5645, 'micrometers': 5646, 'polunin': 5647, 'normality': 5648, 'xuemei': 5649, 'q5': 5650, 'alexandrine': 5651, '18-inning': 5652, 'sandemo': 5653, '20-35': 5654, 'wofoo': 5655, 'verlan': 5656, 'huntingtin': 5657, 'independentist': 5658, 'revolucionario': 5659, '750-word': 5660, '1150s': 5661, 'manchukuo': 5662, 'mandrill': 5663, 'alwis': 5664, 'landaburu': 5665, 'bulford': 5666, 'unwrapped': 5667, 'verba': 5668, '24,688': 5669, '180th': 5670, 'chichimeca': 5671, 'mccraw': 5672, 'satirize': 5673, 'bablu': 5674, '54.3': 5675, 'cheaters': 5676, 'löw': 5677, '6-0-0': 5678, 'ajaw': 5679, 'stortorget': 5680, 'pavlović': 5681, 'beanballs': 5682, 'iambic': 5683, 'mineiro': 5684, 'northenden': 5685, 'titulary': 5686, '16:17': 5687, 'bajeux': 5688, 'badd': 5689, 'appleby': 5690, 'fattal': 5691, 'tofting': 5692, 'ben-david': 5693, 'rohn': 5694, '1:7': 5695, 'pedestrianism': 5696, '65-plus': 5697, 'sherrington': 5698, 'frictions': 5699, 'xiaozhuang': 5700, 'polyakova': 5701, 'romanus': 5702, 'dholloway': 5703, 'parcs': 5704, 'malacology': 5705, 'prosipho': 5706, 'barkhan': 5707, 'shivute': 5708, 'demoting': 5709, 'rustin': 5710, 'hayama': 5711, 'reran': 5712, 'ostholstein': 5713, 'vogel': 5714, 'szymanski': 5715, 'retain': 5716, '47km': 5717, 'chamorros': 5718, 'rehweiler': 5719, 'boulahrouz': 5720, 'rajkamal': 5721, 'cartagena': 5722, 'joola': 5723, '40-some': 5724, 'messuziere': 5725, '94-87': 5726, 'crumpets': 5727, 'intermix': 5728, 'piedrabuena': 5729, 'triathlons': 5730, 'goobers': 5731, '250-square': 5732, 'mnlf': 5733, 'whitefish': 5734, 'investimento': 5735, 'rebbetzin': 5736, 'depletes': 5737, 'steigen': 5738, '84.22': 5739, 'times-mirror': 5740, 'shachtman': 5741, 'anathema': 5742, 'deyan': 5743, 'avildsen': 5744, '105.58': 5745, '20/1': 5746, '2.2-billion': 5747, 'doria': 5748, 'horrified': 5749, 'la.': 5750, 'hondurans': 5751, 'gormaz': 5752, 'in-app': 5753, 'annulling': 5754, 'prefiguration': 5755, 'hatted': 5756, 'ratchets': 5757, 'sherzai': 5758, 'mornay': 5759, 'pinit': 5760, 'fund-raiser': 5761, 'almazov': 5762, 'liftin': 5763, 'sciascia': 5764, 'self-directed': 5765, 'zanca': 5766, 'dictionnaire': 5767, 'fuzing': 5768, 'dkim': 5769, 'gondry': 5770, 'fondant': 5771, 'nayudu': 5772, 'hoyte': 5773, 'kindelán': 5774, 'moxico': 5775, '217.5': 5776, 'bobrow': 5777, 'swithun': 5778, 'prigent': 5779, '31,500': 5780, 'tornio': 5781, 'preven': 5782, 'denali': 5783, 'bearsville': 5784, 'kreimer': 5785, 'slide-out': 5786, 'sag': 5787, 'tirupati': 5788, 'olañeta': 5789, 'boersen': 5790, 'creditworthy': 5791, 'baltimore': 5792, 'istok': 5793, '------------------------------------------------------': 5794, 'stolley': 5795, 'climacteric': 5796, 'harvard-smithsonian': 5797, 'ca2': 5798, 'pdu': 5799, 'lein': 5800, 'options': 5801, 'washingtonville': 5802, 'ancylostoma': 5803, 'wynant': 5804, 'blatter': 5805, 'md': 5806, 'multiform': 5807, 'ringnes': 5808, 'congregated': 5809, 'ravoux': 5810, 'underreport': 5811, 'flibanserin': 5812, 'taren': 5813, '400-person': 5814, 'torquato': 5815, 'sidebands': 5816, 'pointillistic': 5817, '24-member': 5818, 'cosh': 5819, 'enercon': 5820, 'cgf': 5821, 'ruido': 5822, 'itineraries': 5823, '126-pound': 5824, 'instituts': 5825, 'puławy': 5826, 'scarred': 5827, 'medein': 5828, 'nucci': 5829, 'irreconcilables': 5830, 'photogrammetry': 5831, 'vize': 5832, 'visualizer': 5833, 'aeolid': 5834, 'spackle': 5835, 'northstead': 5836, 'criminal': 5837, 'waved': 5838, 'kielder': 5839, 'mangana': 5840, 'stamenson': 5841, 'afoot': 5842, '44.84': 5843, '120-yen': 5844, 'salmonella': 5845, 'esmonde': 5846, 'gate': 5847, 'agen': 5848, 'thankfulness': 5849, 'functionalist': 5850, '02/20': 5851, 'sleet': 5852, 'handicapped-accessible': 5853, '14.86': 5854, 'sebastian': 5855, 'v.smile': 5856, '7-kilometer': 5857, 'meatballs': 5858, 'stijn': 5859, 'appalls': 5860, 'banas': 5861, 'contortionists': 5862, '34.38': 5863, 'olinda': 5864, 'wheelsets': 5865, 'agrotourism': 5866, 'practically': 5867, 'cd-m': 5868, 'adriaen': 5869, 'ostallgäu': 5870, 'ultrashort': 5871, 'eckmann': 5872, 'majerus': 5873, 'fifty-seven': 5874, 'wik': 5875, 'rantisi': 5876, 'krynica': 5877, 'alagoano': 5878, 'paulicians': 5879, 'tolland': 5880, 'counted': 5881, '2006/7': 5882, 'radnet': 5883, 'ghosh': 5884, 'lenge': 5885, 'rework': 5886, 'rolli': 5887, 'grazzini': 5888, 'nyenze': 5889, 'cinderellas': 5890, 'dik-dik': 5891, \"'80s\": 5892, 'keihan': 5893, 'anacortes': 5894, '11-of-12': 5895, 'illiteracy': 5896, 'sae': 5897, 'virasoro': 5898, 'narcissists': 5899, 'podlesie': 5900, 'paenibacillus': 5901, 'aquidneck': 5902, 'underling': 5903, 'marsico': 5904, 'pernik': 5905, '’’': 5906, 'stepney': 5907, 'manasso': 5908, 'sureste': 5909, 'angula': 5910, 'weakening': 5911, 'flavors': 5912, 'aluminized': 5913, 'superga': 5914, 'sigmund': 5915, 'anti-corporate': 5916, 'rodder': 5917, 'kreegel': 5918, 'franta': 5919, '54-34': 5920, 'tanmay': 5921, 'ehlinger': 5922, 'pre-dated': 5923, 'longtail': 5924, 'capellas': 5925, 'duke': 5926, 'dungy': 5927, 'hek': 5928, 'dagmara': 5929, 'stabekk': 5930, 'gprs': 5931, 'ladn': 5932, 'ruine': 5933, 'agudath': 5934, 'javasoft': 5935, 'irae': 5936, 'maceió': 5937, 'wxyt': 5938, '100.09': 5939, 'multi-frequency': 5940, 'liske': 5941, 'playmaking': 5942, 'non-transferable': 5943, \"o'rourke\": 5944, 'netizen': 5945, 'pallasite': 5946, 'vnv': 5947, 'dere': 5948, 'conquers': 5949, 'lubega': 5950, 'liebenfels': 5951, 'punting': 5952, 'tanvir': 5953, 'noonan': 5954, 'leksands': 5955, 'necrotizing': 5956, 'unatco': 5957, 'injectables': 5958, 'arrestable': 5959, 'ketner': 5960, 'colicky': 5961, 'ict': 5962, 'sward': 5963, 'ledonne': 5964, 'euro289': 5965, 'rukum': 5966, 'nuwan': 5967, 'infinities': 5968, '3,650': 5969, 'osin': 5970, 'bedpost': 5971, 'successor': 5972, 'koziegłowy': 5973, '919,000': 5974, 'agrobusiness': 5975, 'mudéjar': 5976, '+27': 5977, 'itzcoatl': 5978, 'indian-administered': 5979, 'carleson': 5980, 'kinlaw': 5981, 'pre-wwii': 5982, 'youssou': 5983, 'babbling': 5984, 'giannakopoulos': 5985, 'ohura': 5986, 'biriyani': 5987, 'noge': 5988, '91-80': 5989, 'cintron': 5990, 'mckesson': 5991, 'kadum': 5992, 'administración': 5993, 'karno': 5994, 'snezhana': 5995, 'an-24': 5996, '480-3232': 5997, 'gadjo': 5998, 'kurakin': 5999, 'borgund': 6000, 'atairangikaahu': 6001, 'inquiries': 6002, 'feigner': 6003, 'nennius': 6004, 'shave': 6005, 'gits': 6006, 'hayloft': 6007, 'penzias': 6008, 'nonlinearities': 6009, 'mccrystal': 6010, 'erde': 6011, '10-men': 6012, 'pondo': 6013, 'wójcik': 6014, 'shneur': 6015, 'jenő': 6016, 'ranfurly': 6017, 'swingset': 6018, 'lecumberri': 6019, '(908)': 6020, 'shat': 6021, 'duckling': 6022, 'cataloguer': 6023, 'taron': 6024, 'promina': 6025, 'paltiel': 6026, '211th': 6027, 'out-competed': 6028, 'bundlers': 6029, 'tosser': 6030, '78-page': 6031, '77.39': 6032, 'financiera': 6033, 'bonavia': 6034, 'kosovans': 6035, 'pulcherrima': 6036, 'cerdagne': 6037, 'transasia': 6038, 'lemkos': 6039, 'frendo': 6040, '16-under': 6041, 'sassoon': 6042, '96.27': 6043, 'exposures': 6044, 'cakau': 6045, 'anti-theft': 6046, 'gerken': 6047, 'kanzenban': 6048, 'ambrosial': 6049, '113.0': 6050, 'lesch': 6051, 'snobbism': 6052, 'asep': 6053, 'jagirdar': 6054, 'tines': 6055, 'miln': 6056, 'sampanis': 6057, '13,700': 6058, 'leur': 6059, '18,800': 6060, 'farahi': 6061, 'vlas': 6062, 'supplicating': 6063, 'vashem': 6064, 'kpa': 6065, 'stymies': 6066, 'pira': 6067, 'onboard': 6068, 'detached': 6069, 'nakas': 6070, 'breier': 6071, '3,809': 6072, 'vytegra': 6073, 'piously': 6074, 'musyoka': 6075, 'markus': 6076, 'barman': 6077, 'spitze': 6078, '6:00': 6079, 'dasho': 6080, 'nishimuro': 6081, 'lmc': 6082, 'grandy': 6083, 'a1200': 6084, 'father-daughter': 6085, 'favoured': 6086, 'cibulec': 6087, 'konjic': 6088, 'abdus': 6089, 'delic': 6090, 'peverley': 6091, 'was/is': 6092, 'burkhardt': 6093, 'guzek': 6094, 'melikian': 6095, 'tapasya': 6096, 'dragonetti': 6097, 'filter-feed': 6098, 'tsang': 6099, '27.59': 6100, 'demonstrating': 6101, 'lizardfolk': 6102, 'västernorrland': 6103, 'weatherfield': 6104, '38.38': 6105, 'kurdufan': 6106, 'sopheng': 6107, '23.45': 6108, 'mientkiewicz': 6109, 'widnes': 6110, 'hle': 6111, 'læsø': 6112, 'heliozelidae': 6113, 'semirural': 6114, \"dunkin'\": 6115, 'brutalist': 6116, 'morgenpost': 6117, '84.72': 6118, 'orilla': 6119, 'abyek': 6120, 'lacatus': 6121, 'nesle': 6122, 'syros': 6123, 'panamian': 6124, ':5': 6125, 'hyun-soo': 6126, '25-count': 6127, 'bleaching': 6128, 'hodkinson': 6129, 'lacerta': 6130, 'ex-marine': 6131, 'bornsztain': 6132, 'ulsan': 6133, 'gruppe': 6134, 'hattingh': 6135, 'ebonyi': 6136, 'torrio': 6137, 'presupposing': 6138, 'truppe': 6139, 'marcheline': 6140, 'schaick': 6141, 'metrobuses': 6142, 'sjoberg': 6143, 'cohomological': 6144, 'remigio': 6145, 'wyn': 6146, 'clicked': 6147, 'demberel': 6148, 'prefinished': 6149, 'rofecoxib': 6150, 'cinema': 6151, 'vehari': 6152, 'wanted': 6153, 'confederations': 6154, '1086': 6155, '3,680': 6156, 'schreuder': 6157, 'croque': 6158, 'al-khiḍr': 6159, 'villarroel': 6160, '600-acre': 6161, 'sanshou': 6162, 'handprint': 6163, 'óttarsson': 6164, 'muya': 6165, 'luer': 6166, 'smoyes@ap.org': 6167, 'resonant': 6168, 'integument': 6169, 'pasquel': 6170, 'ugie': 6171, 'picketer': 6172, 'xiexia': 6173, 'leaderships': 6174, 'gàidhlig': 6175, 'kurlander': 6176, 'białobrzegi': 6177, 'wnyt': 6178, 'politicized': 6179, 'early-to-mid': 6180, 'muehe': 6181, '127th': 6182, 'ostrum': 6183, 'mímir': 6184, 'i-495': 6185, 'goofier': 6186, 'romiley': 6187, 'adrenalized': 6188, 'storagetek': 6189, 'foel': 6190, 'vessels': 6191, 'gyllene': 6192, '786,000': 6193, 'nafs': 6194, 'murtuza': 6195, 'aveda': 6196, 'decem': 6197, 'osijek-baranja': 6198, \"l'islet\": 6199, 'they': 6200, 'pkg': 6201, 'choses': 6202, 'transverse': 6203, 'm.i.a': 6204, 'sidearm': 6205, 'rissoina': 6206, 'valdemoro': 6207, 'altieri': 6208, 'nunley': 6209, '18.22': 6210, 'wisan': 6211, 'fylingdales': 6212, 'thunderstrike': 6213, 'hattingen': 6214, 'pantos': 6215, 'khodabandeh': 6216, 'além': 6217, 'pillnitz': 6218, 'pouget': 6219, 'graphical': 6220, 'hostname': 6221, 'monetarists': 6222, 'maiga': 6223, 'homme': 6224, 'lucaya': 6225, 'wajima': 6226, 'herron': 6227, 'khums': 6228, 'pre-first': 6229, 'wilens': 6230, 'repse': 6231, '3,296': 6232, 'karthika': 6233, 'salvadori': 6234, 'subranges': 6235, 'stratis': 6236, 'charkaoui': 6237, 'grint': 6238, 'lifeform': 6239, 'stupids': 6240, 'mvula': 6241, 'gjirokastër': 6242, 'lupercalia': 6243, 'kamar': 6244, 'teleplays': 6245, 'pests': 6246, '54-0': 6247, 'b-29': 6248, '500-cc': 6249, 'syrups': 6250, 'multilinear': 6251, 'bemoan': 6252, 'elisions': 6253, 'macheteros': 6254, 'queensryche': 6255, '3,636': 6256, 'scriptx': 6257, 'vermant': 6258, 'idx': 6259, 'anti-gay': 6260, 'cambreleng': 6261, 'movie': 6262, 'siles': 6263, 'overwrite': 6264, 'tumbao': 6265, 'moebius': 6266, 'walkman': 6267, 'gothard': 6268, 'gulfs': 6269, '1970s-era': 6270, 'waigo': 6271, 'umgeni': 6272, 'coutry': 6273, 'dyo': 6274, '17-15': 6275, 'a400m': 6276, 'emax': 6277, '73-57': 6278, 'nahuel': 6279, 'k12': 6280, 'lungfish': 6281, 'kuriles': 6282, 'oakar': 6283, 'dredger': 6284, 'toscano': 6285, 'kharaj': 6286, 'riverstown': 6287, 'munson': 6288, 'sauers': 6289, 'throwdown': 6290, '4,500-member': 6291, 'boal': 6292, 'stjerne': 6293, 'zhor': 6294, '5-month': 6295, 'hymnbook': 6296, 'powell': 6297, 'deeply': 6298, 'mcgarrah': 6299, 'oooh': 6300, 'coloration': 6301, 'phosphorescent': 6302, 'apartments': 6303, 'gusii': 6304, 'meanderings': 6305, 'membrane': 6306, 'matouq': 6307, 'neus': 6308, 'scheur': 6309, 'medevaced': 6310, 'giuntini': 6311, 'cumia': 6312, 'trevally': 6313, 't-34-85': 6314, 'calheta': 6315, 'yba': 6316, 'exarchia': 6317, 'milosovici': 6318, 'mosdell': 6319, 'dantec': 6320, 'cyworld': 6321, 'bozos': 6322, 'arcadi': 6323, 'dilutes': 6324, 'éomer': 6325, 'elamites': 6326, 'panderers': 6327, \"ya'acov\": 6328, 'samuelsson': 6329, 'whelan': 6330, 'catteau': 6331, 'renato': 6332, 'time-sharing': 6333, 'pentheus': 6334, 'bfbs': 6335, 'sangare': 6336, 'janeen': 6337, 'miniscule': 6338, 'dotcoms': 6339, 'woensdrecht': 6340, 'tbd': 6341, 'questioned': 6342, 'cavallino': 6343, 'indpendence': 6344, 'warthegau': 6345, 'you': 6346, 'stablized': 6347, 'adzmi': 6348, 'florin': 6349, '13.2': 6350, 'ibrahimović': 6351, 'lantin': 6352, 'uliassi': 6353, 'laukkai': 6354, 'toshimitsu': 6355, 'uic': 6356, 'maroochy': 6357, 'veb': 6358, '4,715': 6359, 'tantalising': 6360, '8/6': 6361, 'rosamunde': 6362, 'sadasiva': 6363, 'ivuti': 6364, 'kolonaki': 6365, '82.44': 6366, 'buncrana': 6367, 'paratus': 6368, 'larrea': 6369, 'fuerteventura': 6370, 'svoray': 6371, 'atout': 6372, 'unamsil': 6373, 'unloader': 6374, 'cropped': 6375, 'ever-present': 6376, 'arvs': 6377, 'thylakoid': 6378, 'vangie': 6379, 'gt': 6380, 'edil': 6381, 'batra': 6382, 'passu': 6383, 'chitto': 6384, 'busier': 6385, 'knott': 6386, 'ceraso': 6387, 'sigdal': 6388, 'laghmani': 6389, 'atentamente': 6390, 'mijatovic': 6391, 'lengthwise': 6392, 'airsick': 6393, 'glut1': 6394, 'somoza': 6395, 'jogbras': 6396, 'kalhammer': 6397, 'legendarily': 6398, 'knifes': 6399, 'rrn': 6400, 'rozalin': 6401, 'kaptur': 6402, '109.14': 6403, 'macisaac': 6404, 'volans': 6405, 'podis': 6406, 'amoco': 6407, 'bipolarity': 6408, 'arwen': 6409, 'nikpai': 6410, 'qe2': 6411, 'aerovironment': 6412, 'grandfather': 6413, 'benešová': 6414, 'mizo': 6415, 'tigernach': 6416, 'gun-brigs': 6417, 'opis': 6418, 'wynford': 6419, '1.0001': 6420, 'overshadows': 6421, 'kitada': 6422, 'caracter': 6423, 'minis': 6424, 'zathura': 6425, 'imus': 6426, 'cuse': 6427, 'seizes': 6428, 'hagen': 6429, '200-yard': 6430, 'undue': 6431, 'kablan': 6432, 'preprocessor': 6433, '10.54': 6434, 'danley': 6435, 'canner': 6436, '121.84': 6437, 'razavi': 6438, 'misu': 6439, 'polyansky': 6440, 'dolly': 6441, 'eko': 6442, 'lumenick': 6443, 'enskilda': 6444, 'freakonomics': 6445, '1990-1992': 6446, 'imach': 6447, 'shs': 6448, 'intermarket': 6449, 'tuffs': 6450, 'abp': 6451, 'caco3': 6452, '2,602': 6453, '89.18': 6454, 'sigrid': 6455, 'tanoue': 6456, 'ihk': 6457, 'defense-related': 6458, 'ambustus': 6459, 'cournoyer': 6460, 'luckhurst': 6461, 'qasim': 6462, 'an/msq': 6463, 'syringa': 6464, 'espindola': 6465, 'natus': 6466, 'kotarumalos': 6467, '2-dimensional': 6468, 'scrymgeour': 6469, 'lovenox': 6470, 'wcix': 6471, 'fondly': 6472, 'sherie': 6473, 'gracie': 6474, 'overhangs': 6475, 'clavering': 6476, 'foodplant': 6477, 'kabinett': 6478, 'giddyup': 6479, 'mimoun': 6480, 'state-space': 6481, 'blackberry': 6482, 'ziegler': 6483, 'sparking': 6484, 'slouched': 6485, '1,284': 6486, 'mahila': 6487, 'matryoshka': 6488, 'mladina': 6489, 'lottiidae': 6490, 'a-mile': 6491, 'macchiaioli': 6492, 'besoin': 6493, 'broh': 6494, 'fritchie': 6495, 'eris': 6496, 'lekking': 6497, 'criado': 6498, 'phuea': 6499, 'bonehkohal': 6500, 'cartwheeling': 6501, 'nightgowns': 6502, 'siouan-speaking': 6503, 'dannie': 6504, 'jewelry': 6505, 'nicest': 6506, 'reminders': 6507, 'tournment': 6508, 'acireale': 6509, 'helvetica': 6510, '26-21': 6511, 'try': 6512, '9,990': 6513, '100.48': 6514, '450-500': 6515, 'groovin': 6516, 'agers': 6517, '38.94': 6518, 'roșu': 6519, '!!': 6520, 'qazan': 6521, 'hominis': 6522, 'bm': 6523, 'oman': 6524, 'toniolo': 6525, 'karunaratne': 6526, 'flemmons': 6527, 'chp': 6528, 'julyan': 6529, 'ansara': 6530, 'helprin': 6531, 'shia': 6532, 'childe': 6533, '12.34': 6534, 'unburdening': 6535, 'polities': 6536, 'vantive': 6537, 'seigner': 6538, 'lollipops': 6539, 'pluralists': 6540, 'vtk': 6541, 'balbisiana': 6542, 'mulay': 6543, 'planked': 6544, 'smartwater': 6545, 'reksten': 6546, 'lorimier': 6547, 'stosic': 6548, 'pricewaterhousecooper': 6549, 'susquehannocks': 6550, 'holmlund': 6551, 'colles': 6552, 'gondwanan': 6553, 'romy': 6554, 'watsonia': 6555, 'pizzaexpress': 6556, 'sottsass': 6557, 'shimoyama': 6558, 'pif': 6559, 'tarso': 6560, 'five-sixths': 6561, 'paola': 6562, 'beckman': 6563, 'prony': 6564, 'shuzhen': 6565, 'velez': 6566, 'hard-hitting': 6567, 'pearcy': 6568, 'unskillful': 6569, 'nypd': 6570, 'incaviglia': 6571, '601,000': 6572, '77.82': 6573, 'amunugama': 6574, 'emlico': 6575, 'mulqueen': 6576, 'ivars': 6577, 'jamerson': 6578, 'formalize': 6579, 'foshay': 6580, 'curbishley': 6581, 'chippenham': 6582, 'wunsiedel': 6583, 'papus': 6584, 'm-63': 6585, 'norteño': 6586, 'yesenin': 6587, 'rompilla': 6588, 'donelson': 6589, 'runs_biggio': 6590, 's550': 6591, '620-am': 6592, 'tiberian': 6593, '¼': 6594, '20.35': 6595, 'endsley': 6596, 'rivetted': 6597, 'donaghmore': 6598, 'parkeri': 6599, 'halfbridled': 6600, 'mostovoy': 6601, 'skippy': 6602, 'aisam-ul-haq': 6603, 'ballinamore': 6604, 'rediscount': 6605, 'jiaojiao': 6606, 'gwr': 6607, 'guðmundsson': 6608, 'anti-bacterial': 6609, 'rummenigge': 6610, 'hires': 6611, '110.3': 6612, 'phalaenopsis': 6613, 'idries': 6614, 'parachuters': 6615, 'annonced': 6616, 'thunderhead': 6617, 'saxe-merseburg': 6618, 'provident': 6619, '166': 6620, '202,500': 6621, 'górowo': 6622, 'elucidate': 6623, 'samguk': 6624, '9.1-billion': 6625, 'bfm': 6626, 'gurin': 6627, 'zhitomir': 6628, 'avocet': 6629, 'yandex': 6630, 'lativa': 6631, 'solter': 6632, 'tefé': 6633, 'uniphase': 6634, '9km': 6635, 'revit': 6636, 'deathcore': 6637, 'rechlin': 6638, '1984-1992': 6639, 'bills': 6640, 'courttv': 6641, 'gunfires': 6642, 'suwałki': 6643, 'standing-room-only': 6644, '52.0': 6645, 'backtrack': 6646, 'pchr': 6647, 'teasing': 6648, 'al-bakr': 6649, 'rønning': 6650, '680': 6651, 'guava': 6652, 'senji': 6653, 'saturday': 6654, 'gwahd': 6655, 'cocklers': 6656, 'guinness': 6657, 'zaiton': 6658, '1991-96': 6659, 'heterotrimeric': 6660, 'translating': 6661, 'recollected': 6662, 'sockol': 6663, 'renly': 6664, 'kretchmer': 6665, 'tri-cities': 6666, 'chechnya': 6667, 'bunkbeds': 6668, 'waray-waray': 6669, '1876-1877': 6670, 'higginbotham': 6671, 'nahimana': 6672, 'bridgestone': 6673, 'peire': 6674, 'parable': 6675, 'underlings': 6676, 'abbahu': 6677, 'a2000': 6678, 'sigan': 6679, 'dismissiveness': 6680, 'sopko': 6681, '1,485': 6682, 'hirsi': 6683, '80-67': 6684, 'alapuzha': 6685, 'pacte': 6686, '46.96': 6687, 'lun': 6688, 'cellphone': 6689, '94.52': 6690, 'complement': 6691, 'index.shtml': 6692, 'icrm': 6693, \"l'empereur\": 6694, 're-armament': 6695, 'three-bay': 6696, 'orthodontists': 6697, 'sudhir': 6698, 'shihezi': 6699, 'f-4g': 6700, 'cappe': 6701, 'isaa': 6702, 'wtp': 6703, 'loktak': 6704, 'nhler': 6705, 'bazars': 6706, 'palmach': 6707, 'kaneshiro': 6708, 'bgs': 6709, '11e': 6710, 'panpiemras': 6711, 'sizer': 6712, 'tejaswini': 6713, 'brovaz': 6714, 'maiava': 6715, 'mischka': 6716, 'hamed': 6717, 'mccarthy': 6718, 'mystro': 6719, 'insecurity': 6720, 'switch-hitter': 6721, 'wamba': 6722, 'hijazi': 6723, 'mercurys': 6724, 'sanluis': 6725, 'wattala': 6726, 'madana': 6727, 'dakshin': 6728, '1053': 6729, 'lapus': 6730, 'delcarmen': 6731, 'paddles': 6732, 'kobuk': 6733, 'wearables': 6734, '217.8': 6735, 'polarizer': 6736, 'alchohol': 6737, 'quinceañera': 6738, 'westchase': 6739, 'nisargadatta': 6740, 'jayan': 6741, 'cfr': 6742, 'grill': 6743, '55.60': 6744, '119.5': 6745, 'reiber': 6746, 'wimperis': 6747, 'teaneck': 6748, 'thilina': 6749, 'night-time': 6750, 'bajestan': 6751, 'shoestrings': 6752, 'corti': 6753, 'arabist': 6754, 'pulmoddai': 6755, 'tenant': 6756, 'türbe': 6757, 'tatman': 6758, 'devyatovskiy': 6759, '30-60': 6760, 'habbaniyah': 6761, 'moulay': 6762, 'teferi': 6763, 'fjørtoft': 6764, 'brieant': 6765, '10-gigabyte': 6766, '32.45': 6767, '18m': 6768, 'buttonholed': 6769, 'nahant': 6770, 'generalizing': 6771, 'smas': 6772, 'nargiz': 6773, 'oafish': 6774, 'złotów': 6775, 'leftie': 6776, '1-35': 6777, 'lessons': 6778, 'mid-ohio': 6779, 'nyitra': 6780, 'reithmayer': 6781, '118.23': 6782, 'al-faqih': 6783, 'dribbling': 6784, 'divorcing': 6785, 'β1': 6786, 'departs': 6787, 'voight': 6788, 'ohafia': 6789, '2,424': 6790, 'disparities': 6791, 'canam': 6792, 'sekiwake': 6793, 'kaalam': 6794, 'mangwende': 6795, 'aerbin': 6796, '69.57': 6797, 'chatterbots': 6798, 'tatty': 6799, 'skube': 6800, '117.90': 6801, 'easterbrook': 6802, 'hi-de-hi': 6803, 'slauson': 6804, 'someones': 6805, 'fortín': 6806, 'saputra': 6807, 'kodokan': 6808, 'knol': 6809, '9.75': 6810, 'ebd': 6811, '43th': 6812, 'replay': 6813, 'badami': 6814, 'worser': 6815, 'fourze': 6816, 'liesel': 6817, 'drammen': 6818, 'kielland': 6819, 'liener': 6820, 'attach': 6821, 'cardew': 6822, 'offa': 6823, 'gateacre': 6824, '1,707': 6825, 'lindskog': 6826, 'euramerica': 6827, 'broomrape': 6828, 'venceremos': 6829, 'arroyo': 6830, 'fyah': 6831, 'prinny': 6832, '84-72': 6833, 'dovre': 6834, 'ardalan': 6835, 'nexhmije': 6836, '10-30': 6837, 'weilheim': 6838, 'penhallow': 6839, 'espnet': 6840, 'bensimon': 6841, '1975-1998': 6842, '19:55': 6843, 'conason': 6844, 'vseslav': 6845, 'pieck': 6846, 'frizzante': 6847, 'al-balah': 6848, 'balcarce': 6849, 'hyneman': 6850, 'nasserist': 6851, 'gucheng': 6852, 'sleaziness': 6853, 'famitsu': 6854, 's.lankan': 6855, 'simagina': 6856, 'mandans': 6857, '1.9-mile': 6858, 'uscb': 6859, 'sainted': 6860, 'ruilin': 6861, 'bibendum': 6862, 'basslines': 6863, '602': 6864, 'kernewek': 6865, 'baltar': 6866, '109-108': 6867, 'recklessness': 6868, 'terpenes': 6869, 'hauman': 6870, 'atrox': 6871, 'viven': 6872, 'scourby': 6873, '81.15': 6874, 'chw': 6875, '23.52': 6876, 'taddy': 6877, 'woodstown': 6878, 'yuhong': 6879, 'txakoli': 6880, 'existence': 6881, 'người': 6882, ':12': 6883, 'barm': 6884, 'mícheál': 6885, 'schepens': 6886, 'rumpelstiltskin': 6887, 'cuyama': 6888, 'mid-south': 6889, 'shukhevych': 6890, 'celesta': 6891, 'orchestrion': 6892, 'capabilities': 6893, 'n.h.-based': 6894, '102.1': 6895, 'concentus': 6896, '1990-2003': 6897, 'stii': 6898, 'handloading': 6899, 'fae': 6900, 'lindstrom': 6901, 'stirbois': 6902, '169.2': 6903, 'gurbanov': 6904, '70-dollar': 6905, 'benamou': 6906, 'sinohydro': 6907, 'dofasco': 6908, '391.7': 6909, '45a': 6910, 'busacca': 6911, 'bujumbura': 6912, 'parousia': 6913, 'miyawaki': 6914, 'methodios': 6915, 'sasid': 6916, 'dashty': 6917, 'rickettsia': 6918, 'bynes': 6919, 'mikheil': 6920, 'totti': 6921, 'ironhorse': 6922, 'damage': 6923, 'prydain': 6924, 'coronations': 6925, 'tussey': 6926, 'wyverns': 6927, '32f': 6928, 'sennar': 6929, 'sud': 6930, 'dumisa': 6931, '750-million': 6932, 'stochastic': 6933, 'mitchellville': 6934, 'crailsheim': 6935, 'evansdale': 6936, 'cytochrome': 6937, 'highline': 6938, 'yonel': 6939, 'vallance': 6940, 'accokeek': 6941, '9/10': 6942, 'tesana': 6943, 'plackett': 6944, '119.38': 6945, 'paleoconservatives': 6946, 'ule': 6947, 'rcs': 6948, '40.45': 6949, 'dc9': 6950, 'withstood': 6951, 'selebi': 6952, 'then-common': 6953, 'bors': 6954, 'irosin': 6955, 'lorcán': 6956, 'panek': 6957, 'mune': 6958, 'loza': 6959, 'varaut': 6960, 'cirstea': 6961, '2.1-mile': 6962, 'toomer': 6963, 'winrich': 6964, 'scheldt': 6965, 'messa': 6966, 'ethnically': 6967, 'rzewski': 6968, 'caramitru': 6969, 'kender': 6970, 'nagatea': 6971, 'rawboned': 6972, 'airdate': 6973, 'ausra': 6974, 'netcaster': 6975, 'convencion': 6976, '40.78': 6977, 'allert': 6978, 'ravina': 6979, 'ripe': 6980, 'xiangcheng': 6981, 'transfrontier': 6982, 'umit': 6983, 'heinrici': 6984, 'jeffcott': 6985, 'trabocchi': 6986, 'machineries': 6987, 'sked': 6988, 'issi': 6989, 'snfu': 6990, 'i-240': 6991, 'vittoriosa': 6992, '1801': 6993, 'nogi': 6994, 'maestrat': 6995, 'kneen': 6996, 'ravenhill': 6997, 'ophiuchi': 6998, 'jaksic': 6999, 'rewording': 7000, 'telemark': 7001, 'lithium-7': 7002, 'wizz': 7003, 'foster-father': 7004, 'bures': 7005, 'portacio': 7006, 'bencher': 7007, 'chūbu': 7008, 'bunford': 7009, '17-storey': 7010, 'boediono': 7011, 'garver': 7012, 'gunga': 7013, '.509': 7014, 'giuliano': 7015, 'contorta': 7016, 'crianza': 7017, 'lupando': 7018, 'littlejohn': 7019, 'shanty': 7020, 'solveig': 7021, 'qeydiid': 7022, 'kasdan': 7023, 'fromm': 7024, 'lufia': 7025, 'osian': 7026, 'metamorphism': 7027, 'snapdragons': 7028, 'on-orbit': 7029, 'intro.html': 7030, 'weingaertner': 7031, 'bona-fide': 7032, 'brisard': 7033, 'po2': 7034, '68.35': 7035, 'nór': 7036, 'monkayo': 7037, 'accumbens': 7038, 'bulyea': 7039, 'muganda': 7040, 'cellmates': 7041, '4.51': 7042, '1.156': 7043, 'brought': 7044, 'hurray': 7045, 'daido': 7046, 'desroches': 7047, 'razi': 7048, 'abhe': 7049, 'montanez': 7050, 'hatam': 7051, 'pikemen': 7052, 'vataha': 7053, 'bijou': 7054, 'phreatomagmatic': 7055, '90.66': 7056, '2371': 7057, 'tolon': 7058, 'iseries': 7059, 'leiby': 7060, 'dattilo': 7061, 'foglio': 7062, 'matham': 7063, 'bergsten': 7064, 'casselman': 7065, 'cgolden@statesman.com': 7066, 'xochiltepec': 7067, 'nabulsi': 7068, 'betrayers': 7069, 'summary': 7070, 'wichniarek': 7071, '0.6': 7072, 'peverell': 7073, 'kudus': 7074, 'on-site': 7075, 'jiangdong': 7076, 'poulett': 7077, '18.31': 7078, 'ozone': 7079, 'mebyon': 7080, 'dishonestly': 7081, 'henric': 7082, 'kazas': 7083, 'inundations': 7084, 'glusker': 7085, 'bedrolls': 7086, 'applauses': 7087, 'inelastic': 7088, 'sociopaths': 7089, 'matured': 7090, 'bumbled': 7091, 'maden': 7092, 'hot-air': 7093, '2137': 7094, 'conducted': 7095, 'starclan': 7096, 'hbu': 7097, 'editoriale': 7098, 'gourde': 7099, 'śiva': 7100, 'pontine': 7101, 'potrerillos': 7102, '133.8': 7103, 'watercourses': 7104, 'post-byzantine': 7105, 'robitussin': 7106, 'fain': 7107, 'urquidez': 7108, 'cello': 7109, 'namboodiri': 7110, '20.64': 7111, 'sumbeiywo': 7112, \"d'souza\": 7113, 'lize': 7114, '7,100-strong': 7115, 'eckhardt': 7116, '5,005': 7117, 'concoct': 7118, 'cosmetologists': 7119, 'defarges': 7120, 'sarraf': 7121, '76.15': 7122, 'hoom': 7123, 're-building': 7124, 'anticipate': 7125, 'traubel': 7126, 'fanfani': 7127, '2241': 7128, 'gogrial': 7129, 'hydatid': 7130, 'temirkanov': 7131, 'corriero': 7132, 'dhc-2': 7133, 'indiscriminately': 7134, 'sooners': 7135, 'interorbital': 7136, 'nazo': 7137, 'dagworth': 7138, 'analyses': 7139, 'rhein': 7140, 'templers': 7141, 'zit': 7142, 'ndayirukiye': 7143, 'dobbin': 7144, 'pervez': 7145, 'sillanpää': 7146, '45-15': 7147, 'badshahi': 7148, 'rupeni': 7149, 'thomists': 7150, 'sevigny': 7151, 'systemic': 7152, 'srednja': 7153, 'galloway': 7154, 'fefferman': 7155, 'njit': 7156, 'bertram': 7157, 'kuelap': 7158, 'keels': 7159, 'inversiones': 7160, 'vianu': 7161, '37-36': 7162, 'whipray': 7163, 'aeneid': 7164, 'awar': 7165, 'yezhel': 7166, 'euro370': 7167, 'intel': 7168, 'taft-hartley': 7169, 'rondebosch': 7170, 'lainson': 7171, 'bhupathy': 7172, '110,000': 7173, 'duvanov': 7174, 'cloudesley': 7175, 'video-conferencing': 7176, 'huntz': 7177, 'merimbula': 7178, 'roenning': 7179, 'boranes': 7180, 'fire-fight': 7181, '57-yard': 7182, 'ifremer': 7183, 'seffner': 7184, 'urartians': 7185, 'esposito': 7186, 'headwords': 7187, 'delalande': 7188, 'polyacetylene': 7189, 'discordant': 7190, 'holland-dozier-holland': 7191, 'zabol': 7192, 'lapping': 7193, 'renate': 7194, '148-member': 7195, 'second-degree': 7196, 'srimaka': 7197, 'rylan': 7198, 'bendi': 7199, 'ministerios': 7200, 'w4': 7201, 'verdura': 7202, 'single-division': 7203, 'timekeeping': 7204, 's.f.': 7205, 'camerota': 7206, 'singularly': 7207, 'pfd': 7208, 'okolski': 7209, 'copping': 7210, 'camogie': 7211, 'kivumbi': 7212, 'teachta': 7213, '15n': 7214, 'battipaglia': 7215, 'unexploited': 7216, 'dewayne': 7217, 'praying': 7218, 'thakazhi': 7219, 'extolling': 7220, '3,340': 7221, 'cheilletz': 7222, 'erie': 7223, 'appartement': 7224, 'scrub': 7225, 'zagato': 7226, 'zeien': 7227, 'umayyad': 7228, 'stmicroelectronics': 7229, 'churchyard': 7230, '18-22': 7231, 'competion': 7232, 'coady': 7233, 'totalitarianism': 7234, 'love-interest': 7235, 'internaitonal': 7236, 'lombardi': 7237, 'mahouts': 7238, '182.9': 7239, 'tsipouro': 7240, 'eretmochelys': 7241, 'potters': 7242, 'pyramid-shaped': 7243, 'escalator': 7244, 'secant': 7245, 'hejab': 7246, 'cumbia': 7247, 'unattested': 7248, 'sollitto': 7249, 'scourge': 7250, 'krasnodar': 7251, 'goiters': 7252, 'nontechnical': 7253, 'imitative': 7254, 'havelange': 7255, 'crematogaster': 7256, 'mainstreamers': 7257, 'wahidi': 7258, 'g-code': 7259, 'lapenkova': 7260, 'elem': 7261, 'vespasian': 7262, 'delving': 7263, 'taxon': 7264, 'toke': 7265, 'jerkens': 7266, 'poderoso': 7267, 'keun': 7268, 'np': 7269, 'roboto': 7270, 'molsheim': 7271, 'nork': 7272, 'sherzad': 7273, 'palpatine': 7274, '13,800': 7275, 'terrick': 7276, 'ablaze': 7277, 'varroa': 7278, 'stunned': 7279, 'rietbrock': 7280, 'friedhelm': 7281, '74.00': 7282, 'bernardi': 7283, 'jahandar': 7284, 'daryal': 7285, 'nadhmi': 7286, 'poltava': 7287, 'correctives': 7288, 'uxbridge': 7289, 'maplemusic': 7290, 'nicolaus': 7291, 'shabalin': 7292, 'uberoi': 7293, 'bavaria': 7294, 'yapping': 7295, '336,000': 7296, 'antiga': 7297, 'muniyappa': 7298, 'hesse-philippsthal-barchfeld': 7299, 'firmed': 7300, 'staveley': 7301, 'rehbein': 7302, 'jisr': 7303, 'idrissa': 7304, 'fogelsville': 7305, 'glénat': 7306, 'nocerino': 7307, 'lamothe': 7308, '6,418': 7309, 'sisa': 7310, 'left-green': 7311, 'cierta': 7312, 'rajawongse': 7313, 'isiolo': 7314, 'vtc': 7315, '43-member': 7316, 'rhyzodiastes': 7317, 'mtp02': 7318, 'bats': 7319, 'nipmuck': 7320, 'cscs': 7321, '40-year': 7322, 'eas': 7323, '1,718': 7324, 'warmaking': 7325, 'rubisch': 7326, 'postsurgical': 7327, 'zemstvo': 7328, 'nega': 7329, 'convierte': 7330, 'pelagius': 7331, '1573': 7332, 'hakman': 7333, 'cytisus': 7334, 'cusson': 7335, 'meditate': 7336, 'mottram': 7337, '25-bed': 7338, 'armorican': 7339, 'kiprich': 7340, 'dixwell': 7341, 'urach': 7342, 'stoican': 7343, 'gono': 7344, 'odair': 7345, 'notah': 7346, '16-and': 7347, 'carioca': 7348, 'anti-violence': 7349, 'bullman': 7350, 'istomin': 7351, 'sawer': 7352, 'cipinang': 7353, 'chaitanya': 7354, 'antwoord': 7355, 'zhishen': 7356, 'corse-du-sud': 7357, 'rummage': 7358, 'noyan': 7359, '3,556': 7360, 'nassau-saarbrücken': 7361, 'olujic': 7362, 'vandort': 7363, 'mcquillen': 7364, 'invisibility': 7365, 'dual-clutch': 7366, 'maharajah': 7367, 'rathbone': 7368, 'chainlink': 7369, 'hogges': 7370, 'seabaugh': 7371, 'cojutepeque': 7372, '1.2-meter': 7373, 'trash': 7374, 'staryi': 7375, 'sheriffmuir': 7376, 'h&k': 7377, 'sonakshi': 7378, 'co-opting': 7379, 'odegbami': 7380, '51.58': 7381, 'r2-d2': 7382, 'curve': 7383, 'workhouses': 7384, 'crosas': 7385, 'niazi': 7386, 'ransomed': 7387, 'siegerland': 7388, 'cherrill': 7389, 'güiro': 7390, 'ladwa': 7391, 'guzman': 7392, 'hengdian': 7393, 'nbd2': 7394, 'polymorph': 7395, 'angélica': 7396, 'platitudinous': 7397, '3/23': 7398, 'matthey': 7399, 'rzeznik': 7400, 'follicle-stimulating': 7401, 'effaced': 7402, 'great-grandparents': 7403, 'daisylike': 7404, 'exclusiveness': 7405, 'stinnett': 7406, 'sidekick': 7407, 'monicelli': 7408, 'hartamas': 7409, 'suffocates': 7410, 'anti-handling': 7411, '14,900': 7412, 'agbakoba': 7413, 'diósgyőri': 7414, 'stockbroker': 7415, 'panvel': 7416, 'mahurin': 7417, 'rangoli': 7418, 'sommersby': 7419, 'recusants': 7420, 'politick': 7421, 'copyist': 7422, 'magnetize': 7423, 'blond': 7424, 'teotihuacan': 7425, 'nanocomposite': 7426, 'toplica': 7427, 'memorize': 7428, 'pink': 7429, 'candelon': 7430, 'nhơn': 7431, '92.80': 7432, 'paro': 7433, 'bewilderingly': 7434, 'roof-top': 7435, 'pdn': 7436, 'waterview': 7437, 'grrrls': 7438, 'shaam': 7439, 'sd-6': 7440, 'dromoland': 7441, '1363': 7442, 'sidoli': 7443, '254,000': 7444, 'ueb': 7445, 'pankiewicz': 7446, 'fiqi': 7447, 'postulation': 7448, '84.45': 7449, 'agrigentum': 7450, 'superliner': 7451, 'wist': 7452, 'shigehiro': 7453, 'pierné': 7454, 'ijazah': 7455, 'jadot': 7456, 'gidea': 7457, 'manhua': 7458, 'cary': 7459, 'hubbins': 7460, 'esqueda': 7461, 'nineteenth': 7462, 'aqua': 7463, 'basmanny': 7464, 'sauget': 7465, 'whitin': 7466, '2,831': 7467, 'bettarini': 7468, 'jizera': 7469, 'musketeer': 7470, '36-year-old': 7471, 'kopitar': 7472, 'holidayed': 7473, 'pengzhou': 7474, 'petroquimica': 7475, 'tromping': 7476, 'rh1': 7477, 'walch': 7478, '118.72': 7479, 'eveything': 7480, 'grasping': 7481, 'chesnot': 7482, 'lochte': 7483, 'filers': 7484, 'eiswein': 7485, 'dri': 7486, 'retorting': 7487, 'muteka': 7488, 'beiqi': 7489, 'bacchus': 7490, 'bilberry': 7491, 'sameness': 7492, 'meskini': 7493, 'isakovic': 7494, 'reichsrat': 7495, 'filan': 7496, 'zainul': 7497, 'balvino': 7498, 'pregel': 7499, 'butare': 7500, 'hypatius': 7501, 'gauls': 7502, 'korenstein': 7503, 'expression': 7504, 'bruegel': 7505, 'forseen': 7506, '41-38': 7507, 'gatling': 7508, 'costellariidae': 7509, 'hassler': 7510, 'razzed': 7511, 'buruma': 7512, 'tranquillitatis': 7513, 'growney': 7514, 'extremaduran': 7515, 'lozier': 7516, '0.042': 7517, 'ier': 7518, 'abdulwahid': 7519, 'faubert': 7520, 'unicef': 7521, 'rakija': 7522, 'rossi': 7523, 'oratio': 7524, 'dicot': 7525, 'colage': 7526, 'dehp': 7527, 'neyveli': 7528, 'granito': 7529, 'uttarapatha': 7530, 'irritatingly': 7531, 'fling': 7532, 'cyp3a4': 7533, 'domitianus': 7534, 'ruminative': 7535, '61,300': 7536, 'bekar': 7537, 'speeches': 7538, '4.50': 7539, 'elberta': 7540, 'habituated': 7541, 'sharpening': 7542, 'miocene': 7543, '1-of-7': 7544, 'raiding': 7545, '590,000': 7546, 'specky': 7547, 'adjectives': 7548, '1,515': 7549, 'konkola': 7550, 'synthetases': 7551, 'hildyard': 7552, 'aghdam': 7553, 'trend-setting': 7554, 'hoodia': 7555, '134.75': 7556, 'pipefitter': 7557, 'metrowerks': 7558, 'justicialist': 7559, 'calea': 7560, 'mecklin': 7561, 'apicorp': 7562, 'hydrous': 7563, 'wilsonian': 7564, 'jutsu': 7565, 'trnje': 7566, 'kaisheng': 7567, 'ampney': 7568, 'monophthong': 7569, 'zayyat': 7570, 'hoegh': 7571, 'dominators': 7572, 'euro372': 7573, '2059': 7574, 'kigozi': 7575, 'mcvie': 7576, 'transactional': 7577, 'guseinov': 7578, 'ganascia': 7579, '99-85': 7580, 'tassels': 7581, '224.1': 7582, 'ilocanos': 7583, 'jager': 7584, 'barhoom': 7585, 'pandith': 7586, 'speaks': 7587, 'fulin': 7588, 'dutkiewicz': 7589, 'superchannel': 7590, 'laxman': 7591, 'hawksbills': 7592, 'freinademetz': 7593, 'corsaro': 7594, 'gangers': 7595, 'perception': 7596, 'zhengding': 7597, 'brashest': 7598, '163.3': 7599, 'momoi': 7600, 'deceivingly': 7601, 'best-of-three': 7602, 'wiggins': 7603, 'doorn': 7604, 'metalac': 7605, 'demar': 7606, 'promising': 7607, 'hernia': 7608, 'shoeboxes': 7609, '5,180': 7610, 'cost-effectively': 7611, 'dekosky': 7612, 'dominquez': 7613, 'miano': 7614, 'glancy': 7615, 'mountaineer': 7616, 'kingsnorth': 7617, 'bajrami': 7618, '1,054': 7619, 'fall/winter': 7620, 'heatter': 7621, 'cental': 7622, 'atthe': 7623, 'cheran': 7624, '49.76': 7625, 'k.s.v.': 7626, 'f.r.c.s.': 7627, 'marshevet': 7628, 'zobahan': 7629, 'moated': 7630, 'zerhouni': 7631, 'inkling': 7632, 'coastway': 7633, 'kulic': 7634, 'dawa': 7635, 'sterett': 7636, 'brigman': 7637, 'chiche': 7638, 'kunichika': 7639, '51-36': 7640, 'pialat': 7641, 'low-residency': 7642, 'skulked': 7643, 'pergonal': 7644, 'peppard': 7645, 'rheinberger': 7646, 'padmavati': 7647, 'bloxom': 7648, '22.03': 7649, 'prophetess': 7650, 'vtp': 7651, 'plowden': 7652, 'wangchuck': 7653, 'leoluca': 7654, 'tzachi': 7655, 'damoh': 7656, 'macconnell': 7657, 'millerites': 7658, 'tulia': 7659, 'tinier': 7660, 'entreated': 7661, 'post-katrina': 7662, 'stagnate': 7663, 'šumperk': 7664, 'benzodiazepines': 7665, '1,353': 7666, 'hlophe': 7667, 'kalaw': 7668, 'sunniva': 7669, 'circulates': 7670, 'christenunie': 7671, 'baldridge': 7672, '2124': 7673, 'yuxi': 7674, 'makha': 7675, 'econmic': 7676, '2170': 7677, 'wurrung': 7678, 'compactor': 7679, 'magnotta': 7680, '48.35': 7681, 'toyoda': 7682, 'nrw': 7683, 'corone': 7684, 'inspects': 7685, 'troncon': 7686, '16v': 7687, 'surly': 7688, 'kerplunk': 7689, 'metcard': 7690, 'centralists': 7691, 'uhe': 7692, 'tampin': 7693, 'aasbrink': 7694, 'giovannino': 7695, 'resettlers': 7696, 'albelda': 7697, 'baldick': 7698, 'karl-theodor': 7699, '3,197': 7700, 'richmond-petersburg': 7701, 'land-grant': 7702, 'armenian': 7703, 'bernays': 7704, 'backsliding': 7705, 'sambuca': 7706, 'blooded': 7707, '350-strong': 7708, 'westport': 7709, 'crenson': 7710, 'rdma': 7711, 'ulloor': 7712, 'demands': 7713, 'unfilled': 7714, 'iganga': 7715, 'nextrend': 7716, 'gaddang': 7717, 'swiftly': 7718, 'compu': 7719, 'salant': 7720, 'avy': 7721, 'wippleman': 7722, 'torshin': 7723, 'cloughjordan': 7724, 'huskey': 7725, 'benziger': 7726, 'gastrin': 7727, 'cuckney': 7728, 'wc': 7729, 'linge': 7730, 'turisas': 7731, 'upsc': 7732, 'wetl': 7733, '16.42': 7734, 'indoctrinating': 7735, '.487': 7736, 'dohna': 7737, 'demis': 7738, 'cheteshwar': 7739, 'ba1': 7740, 'yoku': 7741, '95.25': 7742, 'valses': 7743, 'surfaces': 7744, 'eritrean': 7745, 't-boz': 7746, 'altkirch': 7747, 'ardakan': 7748, 'gauloise': 7749, 'mandich': 7750, 'koltes': 7751, 'westwick': 7752, 'ahlfors': 7753, 'kazee': 7754, 'k.i.': 7755, 'ekodanto': 7756, 'infinite-dimensional': 7757, 'mironova': 7758, 'chichi-jima': 7759, 'lougher': 7760, 'solden': 7761, '315': 7762, '13:11': 7763, 'pinter': 7764, 'vergakis': 7765, 'calmac': 7766, 'tar': 7767, 'smithies': 7768, 'volcaniclastic': 7769, '5.94': 7770, 'dreger': 7771, 'dancer': 7772, '4-66': 7773, 'spindoe': 7774, 'end-points': 7775, 'oxymoronic': 7776, 'ohtsubo': 7777, 'bheema': 7778, 'yuto': 7779, 'bàng': 7780, 'impelled': 7781, 'tofan': 7782, '557,000': 7783, '3,435': 7784, 'tulancingo': 7785, '13.63': 7786, 'seido': 7787, 'bunyoro': 7788, 'pelagia': 7789, 'borle': 7790, 'brooklyn-based': 7791, '74.65': 7792, '.262': 7793, 'molossians': 7794, 'boldness': 7795, 'slaf': 7796, 'eilert': 7797, 'vague': 7798, '1,733': 7799, 'nishiura': 7800, 'eurydice': 7801, '12.22': 7802, 'observationally': 7803, 'pergocrema': 7804, 'nsdq': 7805, 'bandplan': 7806, 'ockendon': 7807, 'copney': 7808, 'trutta': 7809, 'kahala': 7810, 'muffs': 7811, 'post-september': 7812, 'basch': 7813, 'post-race': 7814, 'alberti': 7815, 'speedvision': 7816, 'conducive': 7817, 'lubyanka': 7818, '1/2-year': 7819, 'marmoratus': 7820, 'abc-affiliated': 7821, '19.06': 7822, 'central-western': 7823, 'gorgon': 7824, 'devayani': 7825, 'hatchback': 7826, 'alimentary': 7827, 'approval': 7828, 'bunye': 7829, 'clearnet': 7830, 'currituck': 7831, 'londesborough': 7832, 'nemzet': 7833, 'sonbong': 7834, 'sveshnikov': 7835, 'peesk': 7836, 'herren': 7837, 'in-game': 7838, 'observatories': 7839, '332.7': 7840, 'pani': 7841, 'maskell': 7842, 'farhane': 7843, 'soniya': 7844, 'luminously': 7845, 'chae': 7846, 'hiyari': 7847, 'kogaku': 7848, 'bio-technology': 7849, 'died': 7850, '1982-1987': 7851, 'hinoue': 7852, 'conlin': 7853, 'jis': 7854, 'rimae': 7855, 'mid-week': 7856, 'sotiriou': 7857, 'lddc': 7858, 'ousts': 7859, 'factfile': 7860, 'nosh': 7861, 'deked': 7862, 'norrie': 7863, 'aramid': 7864, 'crippler': 7865, 'beerman': 7866, 'psdb': 7867, 'sruthi': 7868, 'baqwa': 7869, 't-v': 7870, 'referentially': 7871, 'orender': 7872, 'helion': 7873, 'kebo': 7874, 'schoomaker': 7875, 'apcp': 7876, 'gulacsi': 7877, 'bucktooth': 7878, 'mangubat': 7879, 'wcmh': 7880, 'ranter': 7881, 'neonates': 7882, 'm-35': 7883, 'bluish-grey': 7884, '40.88': 7885, 'karasyov': 7886, 'hayel': 7887, 'chanderpaul': 7888, 'satisfying': 7889, 'adipocyte': 7890, 'aerodynamic': 7891, 'brasidas': 7892, 'rotulorum': 7893, 'rockton': 7894, 'östgöta': 7895, 'oligonucleotides': 7896, '3,145': 7897, 'bachleda': 7898, '18.78': 7899, 'nekra': 7900, 'torching': 7901, 'isomerization': 7902, 'headlamp': 7903, 'findlater': 7904, 'news-letter': 7905, 'cisc': 7906, 'lifers': 7907, 'landgren': 7908, '55-51': 7909, 'karakas': 7910, 'unredacted': 7911, 'daifu': 7912, 'manjushri': 7913, '18:38': 7914, 'manilla': 7915, 'ọba': 7916, 'najara': 7917, '484th': 7918, 'schiraldi': 7919, 'co-commissioned': 7920, 'estádio': 7921, 'http://www.ecb.int': 7922, 'inter-city': 7923, 'gsas': 7924, 'djibouti': 7925, 'p-51d': 7926, 'kiszewa': 7927, '40,000-50': 7928, '10-year-old': 7929, 'pantsuit': 7930, 'kake': 7931, 'neoral': 7932, 'busquets': 7933, 'tric': 7934, 'abbās': 7935, 'martini-henry': 7936, '11-play': 7937, 'familar': 7938, 'farnawani': 7939, '52-20': 7940, 'orgullo': 7941, 'massasoit': 7942, 'weinraub': 7943, 'ybp': 7944, 'apoula': 7945, 'sidemen': 7946, 'seicento': 7947, 'recycle': 7948, 'mittler': 7949, 'generał': 7950, 'podobnik': 7951, 'drakon': 7952, 'on-road': 7953, 'isleham': 7954, 'samour': 7955, 'kyriacou': 7956, 'helikon': 7957, '234,000': 7958, 'thornton': 7959, 'refusing': 7960, 'fell': 7961, 'federalisation': 7962, 'kanzi': 7963, 'tv5': 7964, '2,364': 7965, 'hofs': 7966, 'keng': 7967, 'mbi': 7968, 'personal': 7969, \"fa'asavalu\": 7970, 'heterophylla': 7971, 'hefe': 7972, 'thunderchief': 7973, 'unaligned': 7974, 'solidus': 7975, 'noontime': 7976, 'raturandang': 7977, 'komp': 7978, 'wide-range': 7979, 'birker': 7980, 'reves': 7981, 'supercedes': 7982, 'orshansky': 7983, 'krosnick': 7984, 'jirina': 7985, '86a': 7986, 'southbank': 7987, 'gelez': 7988, 'nites': 7989, 'macroeconomic': 7990, 'huckaby': 7991, 'shaohannah': 7992, 'delilah': 7993, 'odourless': 7994, 'periander': 7995, 'senica': 7996, 'grindon': 7997, '87-80': 7998, '35-34': 7999, 'macedonio': 8000, 'cribellate': 8001, 'all-atlantic': 8002, 'cumans': 8003, 'huntington-whiteley': 8004, 'salizzoni': 8005, 'sawang': 8006, 'midgrade': 8007, '12:51': 8008, '40-mph': 8009, 'subin': 8010, 'nuuk': 8011, 'likun': 8012, 'eupen': 8013, 'sabil': 8014, 'moolam': 8015, 'dündar': 8016, 'cholestin': 8017, 'heinz-harald': 8018, 'simca': 8019, 'rakshasa': 8020, 'grant-making': 8021, '4-and-3': 8022, 'carrey': 8023, 'stylianides': 8024, 'milelong': 8025, 'm66': 8026, 'pileated': 8027, 'kircher': 8028, 'carvalho': 8029, 'paradis': 8030, 'appurtenant': 8031, 'overstimulated': 8032, 'mondragón': 8033, 'mahen': 8034, 'marques': 8035, 'misplaying': 8036, 'legatees': 8037, '189.3': 8038, 'looters': 8039, 'bahaeddin': 8040, 'arlit': 8041, 'garbutt': 8042, 'deciphering': 8043, 'shiroo': 8044, 'shahrm': 8045, 'webster-ashburton': 8046, 'kibitzers': 8047, 'caprica': 8048, 'dofe': 8049, 'lawfirm': 8050, 'wilcha': 8051, 'gulick': 8052, 'yeşil': 8053, 'unmarked': 8054, 'kurdamir': 8055, 'restituta': 8056, 'overdub': 8057, 'milled': 8058, 'hsinchuang': 8059, 'ringing': 8060, 'looi': 8061, 'unbridged': 8062, 'eutherian': 8063, 'matoian': 8064, 'suzie': 8065, 'bertollini': 8066, '1975-76': 8067, 'rambaudi': 8068, 'comestibles': 8069, 'tuominen': 8070, 'lozengy': 8071, 'eleusinian': 8072, 'mandell': 8073, 'tamatave': 8074, 'codices': 8075, 'costi': 8076, '923,000': 8077, 'bagoc': 8078, 'nhung': 8079, 'pettersson': 8080, 'musalia': 8081, 'under-25s': 8082, 'hands-off': 8083, 'bunuel': 8084, 'rearing': 8085, 'pleaders': 8086, 'login': 8087, 'acceptably': 8088, 'covertly': 8089, ',970': 8090, 'scalable': 8091, '74-year': 8092, 'tonk': 8093, 'handicraft': 8094, 'alamut': 8095, 'dhenin': 8096, '22.9': 8097, 'dracaena': 8098, 'andritsaina': 8099, '.581': 8100, 'dabashi': 8101, 'veendam': 8102, 'bascomb': 8103, 'comand': 8104, 'combo': 8105, 'six-year': 8106, 'west-northwest': 8107, 'hoc': 8108, 'bombload': 8109, '53-kilogram': 8110, 'consolidators': 8111, 'dorwin': 8112, 'simulcasted': 8113, '7,670': 8114, 'luminaria': 8115, 'tuskers': 8116, 'mosimane': 8117, 'nurtured': 8118, 'bolande': 8119, 'beml': 8120, 'fenn': 8121, 'ycbcr': 8122, 'stolzenberg': 8123, 'figge': 8124, 'easington': 8125, 'tumours': 8126, 'subring': 8127, 'coziest': 8128, 'barrière': 8129, 'regreted': 8130, 'best-dressed': 8131, 'schlemm': 8132, 'supremes': 8133, 'quarterpipe': 8134, '11-20': 8135, 'falvey': 8136, 'gborders': 8137, 'oeresund': 8138, 'rossmo': 8139, 'uppishly': 8140, '1445': 8141, 'space.com': 8142, 'ncra': 8143, 'gracanica': 8144, 'soared': 8145, 'isobutylene': 8146, 'tiles': 8147, \"o'donovan\": 8148, 'bloks': 8149, 'joviality': 8150, 'sinek': 8151, 'arzuiyeh': 8152, 'istituto': 8153, 'sympathetically': 8154, 'lileks': 8155, 'ghent': 8156, '5-62': 8157, '1439': 8158, 'contiguous': 8159, 'panathenaic': 8160, 'bobble': 8161, 'niam': 8162, 'quale': 8163, 'madhapur': 8164, 'nektar': 8165, 'stokesley': 8166, 'yourselves': 8167, 'victorville': 8168, 'derrik': 8169, 'power-hitting': 8170, '19.7': 8171, 'unpolarized': 8172, 'galaxian': 8173, 'cakir': 8174, 'bpo': 8175, 'basarabiei': 8176, 'confucius': 8177, 'emira': 8178, 'zenk': 8179, 'kyat': 8180, '78.8': 8181, '122.64': 8182, 'arris': 8183, 'philipsburg': 8184, 'fantasyland': 8185, 'bratt': 8186, 'o-4': 8187, 'savoyards': 8188, 'zmolek': 8189, 'crystallize': 8190, '1,380': 8191, '7,291': 8192, 'supercenter': 8193, 'sekera': 8194, 'hornig': 8195, 'pretenses': 8196, '91.5': 8197, 'wpba': 8198, '32.14': 8199, 'clarkson': 8200, 'dietzenbach': 8201, 'askov': 8202, 'bombala': 8203, '2930': 8204, 'bunya': 8205, 'verk': 8206, '109-year': 8207, 'blintzes': 8208, 'declination': 8209, 'sandler': 8210, 'anhanguera': 8211, 'judical': 8212, '10-disc': 8213, 'cronos': 8214, 'yttrium': 8215, 'ocz': 8216, 'mezzano': 8217, 'robley': 8218, 'oseberg': 8219, '7.18': 8220, 'dignam': 8221, '14:33': 8222, 'barred': 8223, 'weberian': 8224, 'hartzler': 8225, '1.4845': 8226, 'creación': 8227, 'alcatel-lucent': 8228, 'nonuse': 8229, 'khalilullah': 8230, 'blac': 8231, 'westmarch': 8232, 'humanplasma': 8233, 'remodelled': 8234, 'huacas': 8235, 'lafata': 8236, 'herz': 8237, 'hypervisor': 8238, 'kasprzyk': 8239, 'cakebread': 8240, 'kermadec': 8241, '98-88': 8242, 'thorir': 8243, 'asita': 8244, 'nurses': 8245, 'ད': 8246, 'ilkin': 8247, '48.57': 8248, 'brenton': 8249, 'tarara': 8250, 'parthiban': 8251, 'huna': 8252, 'melanesian': 8253, 'dnata': 8254, 'weisinger': 8255, 'svobodny': 8256, '136.38': 8257, 'barko': 8258, 'zoomed': 8259, 'gspc': 8260, 'laskar': 8261, 'intubated': 8262, 'hemon': 8263, 'murwillumbah': 8264, 'hutarovich': 8265, 'euro115': 8266, 'econometrix': 8267, '6.40': 8268, 'orexin': 8269, 'sqa': 8270, 'pyjamas': 8271, '1,000-pound': 8272, 'rangell': 8273, 'zinj': 8274, 'tretyakov': 8275, 'thaa': 8276, 'ex2': 8277, 'lwalker': 8278, 'four-wheel-drive': 8279, 'by-election': 8280, 'r/t': 8281, 'dematteis': 8282, 'mengla': 8283, 'oos': 8284, 'c-jun': 8285, 'intermingle': 8286, 'aliaksandra': 8287, '4.745': 8288, 'heuvel': 8289, 'postimpressionist': 8290, 'hirokawa': 8291, 'ramones': 8292, 'pecina': 8293, 'subalgebras': 8294, 'kind': 8295, 'pan-arabist': 8296, 'heatstroke': 8297, 'warmonger': 8298, 'schagrin': 8299, 'warburg': 8300, 'lovesong': 8301, 'cornacchia': 8302, 'responds': 8303, '3,4,5': 8304, 'ehd': 8305, 'katabatic': 8306, 'gasped': 8307, 'volcker': 8308, '2003/4': 8309, 'tengchong': 8310, 'sidewalls': 8311, 'dhāraṇī': 8312, 'wara': 8313, 'nine-month': 8314, 'ization': 8315, 'yusupov': 8316, 'denisovans': 8317, 'fitzhardinge': 8318, '7-for-10': 8319, 'strand': 8320, 'infection': 8321, 'anxiety': 8322, '1861-65': 8323, 'fetac': 8324, 'jeyaseelan': 8325, 'therapeutics': 8326, 'ghe': 8327, '22.86': 8328, 'brel': 8329, 'zsu-23-4': 8330, 'cbsc': 8331, 'ebdane': 8332, 'resubmitted': 8333, '717,000': 8334, 'boncompagni': 8335, 'campana': 8336, 'convertible': 8337, 'keflavík': 8338, 'semaine': 8339, 'churchwide': 8340, 'dobo': 8341, 'mitchison': 8342, 'greif': 8343, 'geostrophic': 8344, 'darwinians': 8345, 'vortec': 8346, 'hanisch': 8347, 'adducts': 8348, 'ayşe': 8349, 'eop': 8350, 'hsia': 8351, 'batesole': 8352, 'hokenson': 8353, 'lorien': 8354, 'estimation': 8355, '56.97': 8356, 'quarkxpress': 8357, 'fish-like': 8358, 'geissman': 8359, 'cedd': 8360, 'compaore': 8361, 'hemocyanin': 8362, 'marlise': 8363, '6:01': 8364, 'pre-production': 8365, 'high-tension': 8366, 'oscuridad': 8367, 'kuraki': 8368, 'rm28': 8369, '1440s': 8370, 'lobsterman': 8371, 'furbush': 8372, 'drivable': 8373, '1bn': 8374, 'adjara': 8375, '7-for-8': 8376, 'lesmahagow': 8377, 'stotler': 8378, 'paskov': 8379, 'rioni': 8380, 'ankh': 8381, '10027': 8382, '284.1': 8383, 'fateh-110': 8384, 'hydrogen-like': 8385, 'mckenny': 8386, 'playa': 8387, 'mauney': 8388, '807': 8389, '13': 8390, 'raring': 8391, '164.6': 8392, '1,270': 8393, 'qafl': 8394, 'avoyelles': 8395, 'vannevar': 8396, 'sp1': 8397, 'seamount': 8398, 'jewishness': 8399, 'hermine': 8400, 'zahedan': 8401, 'thats': 8402, 'poucher': 8403, 'markkanen': 8404, 'onn': 8405, 'giv': 8406, 'ovens': 8407, 'grungy': 8408, 'chiong': 8409, 'choong': 8410, 'hideous': 8411, 'saint-just': 8412, 'suomalainen': 8413, 'bracker': 8414, '240,000': 8415, 'luk': 8416, 'surana': 8417, 'highly': 8418, 'liquidate': 8419, 'lindenbaum': 8420, '26.70': 8421, 'anchors': 8422, 'sanno': 8423, 'crusader': 8424, 'shind': 8425, 'takura': 8426, '2/9': 8427, 'baudelaire': 8428, 'treas.': 8429, 'disinheriting': 8430, 'pitkowski': 8431, '108.70': 8432, 'hooped': 8433, 'dhimmi': 8434, '46-37': 8435, 'freon': 8436, 'cyrano': 8437, 'mandolins': 8438, '21,900': 8439, 'water-saving': 8440, 'onyewu': 8441, 'kvamme': 8442, 'soups': 8443, 'hatherley': 8444, 'fatum': 8445, '1.5440': 8446, 'lamp-post': 8447, 'hậu': 8448, 'suiciders': 8449, 'esbern': 8450, 'metal/hard': 8451, 'metrology': 8452, 'chowchilla': 8453, 'celestica': 8454, 'lordi': 8455, 'barys': 8456, 'parczew': 8457, 'ermine': 8458, '3_4': 8459, 'nerval': 8460, 'mercatoria': 8461, 'khazanov': 8462, 'fassbender': 8463, 'canalized': 8464, 'kaspi': 8465, 'azin': 8466, 'hoarse': 8467, 'fraph': 8468, 'battleships': 8469, 'inhaling': 8470, 'alleman': 8471, 'charima': 8472, 'southall': 8473, 'pseudopod': 8474, 'navalta': 8475, 'persik': 8476, 'iberoamerican': 8477, 'baits': 8478, 'processionals': 8479, 'nemiroff': 8480, 'chang': 8481, 'tillamook': 8482, \"sa'eed\": 8483, 'enjoys': 8484, 'mchargue': 8485, 'darboux': 8486, 'non-digital': 8487, 'ryaas': 8488, 'graduate-level': 8489, 'winkie': 8490, 'i-21': 8491, 'zaky': 8492, 'scarifying': 8493, 'cogen': 8494, 'aur': 8495, 'hollenbeck': 8496, '39.79': 8497, '4,000-year': 8498, 'bonjasky': 8499, 'kirstenbosch': 8500, 'internet': 8501, '94.0': 8502, 'governent': 8503, 'cochineal': 8504, 'quando': 8505, 'wrenn': 8506, 'piatti': 8507, '11.85': 8508, 'recertification': 8509, 'sannio': 8510, 'mbambo': 8511, 'prise': 8512, 'carbuncle': 8513, 'sarron': 8514, 'pietton': 8515, 'bovids': 8516, '4:00': 8517, 'landlines': 8518, 'nephrology': 8519, 'rosay': 8520, 'impelling': 8521, 'phonotactics': 8522, '15-2': 8523, 'ringley': 8524, 'turmail': 8525, '94-run': 8526, 'spicatum': 8527, 'chesbro': 8528, 'e.j.': 8529, 'liby': 8530, '11-time': 8531, 'spilled': 8532, 'sembawang': 8533, 'vacaroiu': 8534, 'communautés': 8535, 'inheritor': 8536, 'jrl104': 8537, '124.34': 8538, 'rafvr': 8539, 'tyminska': 8540, '63.34': 8541, 'perceptions': 8542, 'lateritic': 8543, 'vitalone': 8544, \"da'at\": 8545, 'sevastova': 8546, 'texture': 8547, 'barreau': 8548, 'mx2': 8549, '71.28': 8550, 'bosox': 8551, 'modding': 8552, 'rethymnon': 8553, 'mepc': 8554, '635,000': 8555, 'cyberspice': 8556, 'carona': 8557, 'boschi': 8558, 'estacio': 8559, 'sezgin': 8560, 'checkerboard': 8561, 'durmanov': 8562, 'flintshire': 8563, 'kinabalu': 8564, 'atlantica': 8565, 'germinated': 8566, '125-seat': 8567, 'guz': 8568, 'asrat': 8569, 'fajer': 8570, 'mhe': 8571, 'electrophoretic': 8572, 'jump-start': 8573, 'w5': 8574, 'asgrimsson': 8575, '.390': 8576, 'toone': 8577, 'copse': 8578, 'kitwe': 8579, 'cscec': 8580, 'hendawi': 8581, 'spygate': 8582, 'wons': 8583, 'sterculia': 8584, 'geomorphological': 8585, 'synched': 8586, 'warsop': 8587, '175-acre': 8588, 'rigamer': 8589, '700-kilometre': 8590, 'panyangara': 8591, 'kwch': 8592, 'stunted': 8593, 'hong-kong': 8594, 'mistrials': 8595, '-2.00': 8596, '57-nation': 8597, 'scambos': 8598, 'heuston': 8599, 'biazon': 8600, 'imbricate': 8601, 'traps': 8602, 'panichpakdi': 8603, 'manspeaker': 8604, 'guienne': 8605, 'phanatic': 8606, 'sergej': 8607, 'kubrat': 8608, 'bramalea': 8609, 'stooping': 8610, 'leder': 8611, '2589': 8612, 'hedgewar': 8613, 'ohs': 8614, 'seibert': 8615, 'gurland': 8616, 'arikat': 8617, 'jahd': 8618, 'tumorigenesis': 8619, 'montis': 8620, 'pressurize': 8621, 'sehlinger': 8622, 'euro492': 8623, 'daramy': 8624, 'nidd': 8625, 'villalonga': 8626, 'appease': 8627, 'chihiro': 8628, 'gilyard': 8629, 'wiglesworth': 8630, 'jin-soo': 8631, 'wingfield': 8632, 'bernkastel': 8633, 'sipovo': 8634, 'fong': 8635, 'top-12': 8636, 'wombles': 8637, 'stevenson': 8638, 'kostadin': 8639, 'janecek': 8640, 'siheyuan': 8641, 'utaemon': 8642, 'holton': 8643, '144.7': 8644, '31.42': 8645, 'cytec': 8646, 'stroudwater': 8647, 'snijders': 8648, 'recall': 8649, 'unfrozen': 8650, 'tizard': 8651, 'petion': 8652, 'vice-versa': 8653, '1990-92': 8654, 'vist': 8655, '3,415': 8656, 'chân': 8657, 'mittelrhein': 8658, 'onnes': 8659, 'ponet': 8660, 'manickam': 8661, 'agd': 8662, 'rivermaya': 8663, 'sukova': 8664, 'paskaljevic': 8665, 'tcn': 8666, 'lebuhraya': 8667, 'begur': 8668, 'bkr': 8669, 'concepto': 8670, 'belnap': 8671, 'haylock': 8672, 'low-temperature': 8673, 'euro317': 8674, 'spritual': 8675, 'parasitica': 8676, '88.22': 8677, 'perceptiveness': 8678, 'alliston': 8679, 'bn.com': 8680, '33sec': 8681, 'kumiko': 8682, 'orahovac': 8683, '293.8': 8684, 'aspirins': 8685, '.193': 8686, 'p600': 8687, 'levis': 8688, 'gbu-12': 8689, 'karimun': 8690, '18:17': 8691, 'users': 8692, 'counterpoints': 8693, 'sabena': 8694, 'refugee': 8695, 'counterclaims': 8696, 'eventual': 8697, 'putnam': 8698, 'taulava': 8699, 'swarajya': 8700, 'zafra': 8701, 'fianc?e': 8702, '93.42': 8703, 'superleague': 8704, 'balkanski': 8705, 'inya': 8706, 'nilai': 8707, 'pallikaranai': 8708, 'rainmaking': 8709, 'lubaczów': 8710, 'kamalia': 8711, 'near-universal': 8712, 'sng': 8713, 'link': 8714, 'indian': 8715, 'huautla': 8716, 'mesotitsch': 8717, 'kalaripayattu': 8718, 'hannum': 8719, 'thirty-minute': 8720, 'hectored': 8721, 'nest-building': 8722, 'wincer': 8723, 'larba': 8724, 'pointlessly': 8725, '85.21': 8726, 'mi-26': 8727, 'solz': 8728, '5280': 8729, 'ecclesiastici': 8730, '512-bit': 8731, 'cotton-top': 8732, 'ultrasounds': 8733, 'hacktivist': 8734, 'soldati': 8735, 'stillbirths': 8736, 'gaborik': 8737, 'viehbacher': 8738, 'dashnaktsutyun': 8739, 'natche': 8740, 'tranches': 8741, '110.57': 8742, 'sahm': 8743, 'social-democratic': 8744, 'itagui': 8745, 'astin': 8746, 'shizuishan': 8747, 'conner': 8748, 'ulster': 8749, 'electrocutionist': 8750, '110,500': 8751, 'jorma': 8752, 'exhibitionistic': 8753, 'wavelets': 8754, 'affeldt': 8755, 'carlon': 8756, 'bourdillon': 8757, 'donnedieu': 8758, 'pamfilova': 8759, 'appropriate': 8760, 'ex-students': 8761, 'infiltration': 8762, '13:10': 8763, 'all-seeing': 8764, 'theodosius': 8765, 'bosanska': 8766, 'markinson': 8767, 'mapledurham': 8768, 'vitalizing': 8769, 'deductibles': 8770, 'c-reactive': 8771, 'bjelke-petersen': 8772, '66.63': 8773, 'tyhypko': 8774, '0300gmt': 8775, 'simulate': 8776, 'lazim': 8777, 'roissy': 8778, '18.75': 8779, 'jameel': 8780, 'nalla': 8781, 'steinfeld': 8782, 'heartgold': 8783, 'mamoon': 8784, 'turbocharged': 8785, 'sofiane': 8786, 'espérance': 8787, 'munting': 8788, 'marshaled': 8789, 'targetted': 8790, 'kou': 8791, 'ḩeşār-e': 8792, 'kinsey': 8793, '32-30': 8794, '40-22': 8795, 'seling': 8796, 'chilly': 8797, 'pépin': 8798, 'hasid': 8799, 'hsp60': 8800, 'good-luck': 8801, 'euro212': 8802, 'nabaoui': 8803, 'meap': 8804, 'moore-brabazon': 8805, 'chapple': 8806, 'scandals': 8807, '106.70': 8808, 'danut': 8809, 'escaped': 8810, 'yaka': 8811, 'darger': 8812, 'kores': 8813, 'odni': 8814, 'lappe': 8815, 'question@nytimes.com': 8816, 'sql': 8817, 'debra': 8818, 'garifuna': 8819, 'pague': 8820, 'trainee': 8821, 'v.o.': 8822, 'sympathise': 8823, 'canards': 8824, 'moscowitz': 8825, 'winden': 8826, 'immmediately': 8827, 'jum': 8828, 'partha': 8829, 'heckerling': 8830, 'cross-ratio': 8831, 'nonstop': 8832, 'wisniewski': 8833, 'openwork': 8834, 'flounder': 8835, 'garri': 8836, 'scalabrini': 8837, 'gael': 8838, '2,366': 8839, 'fabs': 8840, 'kalb': 8841, '94596': 8842, 'merneptah': 8843, 'invalides': 8844, 'lkaplowcoxnews.com': 8845, 'presenter': 8846, '5-john': 8847, 'bennington': 8848, 'tentena': 8849, '672,000': 8850, 'college-preparatory': 8851, 'reimut': 8852, 'salomon': 8853, 'vrv': 8854, 'urarina': 8855, 'aprovechar': 8856, 'decorous': 8857, 'btecs': 8858, 'dedi': 8859, 'urbano': 8860, 'acon': 8861, 'jandiyal': 8862, 'cyrene': 8863, 'orchestrations': 8864, 'ninhursag': 8865, 'vlt': 8866, '21-3': 8867, 'sopwith': 8868, 'vertes': 8869, '106.81': 8870, 'gaia': 8871, 'allegretti': 8872, 'flavelle': 8873, 'audited': 8874, 'transient': 8875, '29.64': 8876, 'shur': 8877, 'dug-out': 8878, 'keyhan': 8879, 'bottoming': 8880, 'endosymbiont': 8881, 'scenographer': 8882, 'furundzija': 8883, 'cooled': 8884, 'everly': 8885, 'reals': 8886, 'motihari': 8887, '(504)': 8888, 'ssrs': 8889, 'canaletto': 8890, 'down-tempo': 8891, 'bynoe': 8892, 'balto': 8893, 'babson': 8894, 'kōshirō': 8895, 'battlebots': 8896, 'frue': 8897, 'plexipave': 8898, 'sayao': 8899, 'inocencio': 8900, 'cuneatus': 8901, 'niinimaa': 8902, 'wring': 8903, '71.64': 8904, 'dollarama': 8905, 'crede': 8906, 'aviatik': 8907, 'kulish': 8908, 'endemic': 8909, 'vannak': 8910, 'placerville': 8911, 'paraskevi': 8912, 'tetrahydrofuran': 8913, 'mitigations': 8914, 'flinck': 8915, 'aidid': 8916, 'sutarov': 8917, 'relented': 8918, 'oaklawn': 8919, 'novator': 8920, '(360)': 8921, 'hagai': 8922, 'raouf': 8923, 'unintentionally': 8924, 'battlers': 8925, 'honglin': 8926, 'orgel': 8927, '65.0': 8928, '306,000': 8929, 'brazauskas': 8930, 'sanks': 8931, 'spinelli': 8932, 'ngawa': 8933, '215.5': 8934, 'upticks': 8935, 'tweek': 8936, 'retrievable': 8937, '2n': 8938, '17.47': 8939, 'diabetics': 8940, 'bohai': 8941, 'amonasro': 8942, 'changning': 8943, 'clashed': 8944, 'pencilled': 8945, '10000m': 8946, 'calormen': 8947, 'kouyaté': 8948, '81-yard': 8949, '750-pound': 8950, 'drniš': 8951, 'augen': 8952, 'holzstoff': 8953, '27.68': 8954, 'aldolase': 8955, 'psychopath': 8956, 'laticeps': 8957, '163rd': 8958, 'isaia': 8959, 'mbonimpa': 8960, 'ettesam': 8961, 'tuition-free': 8962, 'professional-level': 8963, 'frischknecht': 8964, 'timmy': 8965, 'sihor': 8966, 'flower-like': 8967, 'extraodinary': 8968, 'anney': 8969, 'burdzhanadze': 8970, 'mandrake': 8971, 'kcbs': 8972, 'sev': 8973, 'titov': 8974, 'bobbies': 8975, 'spui': 8976, '.2667': 8977, 'cutie': 8978, 'ingleside': 8979, 'johnnes': 8980, 'jancis': 8981, 'ozment': 8982, 'orao': 8983, '84.66': 8984, 'hessenliga': 8985, 'stroboscopic': 8986, 'noveleta': 8987, '94.51': 8988, 'iran-140': 8989, 'aichach': 8990, 'wacl': 8991, '17.64': 8992, 'perquimans': 8993, 'jersey-based': 8994, 'keyspan': 8995, '15/8': 8996, 'brigands': 8997, 'newcastle-on-tyne': 8998, 'barmy': 8999, 'moreschi': 9000, 'laxmipur': 9001, 'puranas': 9002, 'teranga': 9003, 'buseck': 9004, '500km': 9005, 'worldpaper': 9006, 'subscriptions': 9007, 'anupam': 9008, 'mires': 9009, 'pooch': 9010, 'g.m.': 9011, 'miked': 9012, 'sbsf': 9013, 'nostro': 9014, 'restauranteur': 9015, 'irrelevance': 9016, 'bentley': 9017, 'pulverised': 9018, '200-1': 9019, 'whenu': 9020, 'bacau': 9021, 'ski-doo': 9022, 'galliano': 9023, 'sheraz': 9024, 'kizashi': 9025, 'affonso': 9026, 'versions': 9027, 'thurnham': 9028, 'sore': 9029, 'cimoszewicz': 9030, 'a-320': 9031, 'profusion': 9032, 'bogoria': 9033, 'dalny': 9034, 'zimababwe': 9035, '70.11': 9036, 'jatavarman': 9037, 'coldfusion': 9038, 'leafgreen': 9039, '61.27': 9040, 'tzur': 9041, 'faletti': 9042, 'undermountain': 9043, 'five-bladed': 9044, 'fuegos': 9045, 'pizzazz': 9046, 'portability': 9047, 'muscadelle': 9048, 'abulfaz': 9049, '113.35': 9050, 'constantine': 9051, 'drivesavers': 9052, 'cziffra': 9053, 'kaiten': 9054, 'since': 9055, '4,219': 9056, 'k2o': 9057, 'pletcher': 9058, 'version': 9059, '58-million': 9060, 'strelow': 9061, 'atauro': 9062, 'moutot': 9063, 'slipcovered': 9064, '+1.3': 9065, 'perfectv': 9066, 'scharin': 9067, 'free-will': 9068, 'bayaman': 9069, 'ad-libbed': 9070, 'johanneum': 9071, 'paraguayo': 9072, 'kast': 9073, 'umid': 9074, 'terc': 9075, 'kingsmill': 9076, 'delesseps': 9077, 'bengawan': 9078, 'botrytis': 9079, 'subcabinet': 9080, 'categorising': 9081, '129.0': 9082, 'gombak': 9083, 'penwith': 9084, 'inhomogeneity': 9085, 'hlm': 9086, 'webcams': 9087, 'lviv': 9088, 'troller': 9089, 'euro568': 9090, 'shaban': 9091, 'uljin': 9092, 'r-2': 9093, 'admixtures': 9094, 'lamoureux': 9095, 'cammarelle': 9096, '50.50': 9097, 'timms': 9098, 'jastrząb': 9099, 'virtus': 9100, 'semi-permanent': 9101, 'bowmanville': 9102, '8,190': 9103, 'agreements': 9104, '6,325': 9105, 'statists': 9106, 'benevides': 9107, '822': 9108, 'belas': 9109, '47.60': 9110, 'aptitude': 9111, 'cathaoirleach': 9112, '73.79': 9113, '61.94': 9114, 'bg5': 9115, 'slushy': 9116, 'polyamide': 9117, 'n18': 9118, 'pumpelly': 9119, 'bozhidar': 9120, '41-minute': 9121, 'a.j': 9122, 'verrazano-narrows': 9123, '816-822-1444': 9124, 'chilhowee': 9125, 'manjon': 9126, 'demirovic': 9127, 'caved': 9128, '5-for-16': 9129, 'domenic': 9130, 'brandenburg-prussian': 9131, 'republican-controlled': 9132, '1.21': 9133, 'rydberg': 9134, 'lainer': 9135, 'mutz': 9136, 'intentioned': 9137, 'samah': 9138, 'zoque': 9139, 'morioka': 9140, 'evaluate': 9141, 'jono': 9142, 'sauti': 9143, 'baudot': 9144, 'kokkonen': 9145, 'thurman': 9146, 'iriondo': 9147, 'walmley': 9148, '3.2-kilometer': 9149, 'watkins': 9150, 'aquarium': 9151, 'heldenleben': 9152, 'dammam': 9153, '2_4': 9154, 'viagens': 9155, 'robinia': 9156, 'felsted': 9157, 'ratiwatana': 9158, 'razorback': 9159, '90-yard': 9160, 'posuvalyuk': 9161, 'typesetters': 9162, 'haggins': 9163, 'bridgman': 9164, 'radyr': 9165, 'rocchio': 9166, 'nordenfelt': 9167, 'zibel': 9168, 'trails': 9169, 'villano': 9170, 'dfr': 9171, 'yasutoshi': 9172, 'emery': 9173, 'kristinsson': 9174, '1.24': 9175, 'sona': 9176, 'elseneer': 9177, 'doubleheader': 9178, 'takko': 9179, '48.09': 9180, '23-second': 9181, 'fuelwood': 9182, 'tritan': 9183, 'subject-matter': 9184, 'estalella': 9185, '4,003': 9186, 'second-wave': 9187, 'raimond': 9188, 'métier': 9189, 'glaring': 9190, 'waziristan': 9191, 'waycross': 9192, '4,028': 9193, 'sookmyung': 9194, 'quicksands': 9195, 'qibao': 9196, 'lipsticked': 9197, '108.40': 9198, 'undercoat': 9199, 'inglewood': 9200, 'euro146': 9201, 'praesidium': 9202, 'bouake': 9203, 'illuminatus': 9204, 'microprocessor': 9205, 'baldeo': 9206, 'khawla': 9207, 'aurelie': 9208, 'chertsey': 9209, 'edeka': 9210, 'talab': 9211, 'immunocompromised': 9212, 'orvieto': 9213, 'mandelson': 9214, 'conchas': 9215, 'browz': 9216, '64.15': 9217, 'garling': 9218, 'persipura': 9219, 'suicune': 9220, 'sohmer': 9221, 'simonsson': 9222, '1149': 9223, 'eighthman': 9224, '6,362': 9225, 'tahnee': 9226, 'environment': 9227, 'perabo': 9228, '2,296': 9229, '2,300': 9230, 'demurely': 9231, 'hashana': 9232, 'burkinshaw': 9233, 'subscripts': 9234, 'myristicaceae': 9235, 'haversham': 9236, 'druh': 9237, '4-83': 9238, 'arra': 9239, 'skyclan': 9240, 'long-haired': 9241, 'tharakan': 9242, 'euro68': 9243, 'ranken': 9244, 'garnished': 9245, 'cecafa': 9246, 'frenchified': 9247, 'hysteric': 9248, '496': 9249, 'hydrograph': 9250, 'anti-qing': 9251, 'faridi': 9252, 'naghi': 9253, 'a.p.': 9254, 'volleyballers': 9255, '51.36': 9256, 'worldspace': 9257, 'endline': 9258, 'ideations': 9259, 'soroush': 9260, 'multinational': 9261, 'łęczyca': 9262, 'kiis': 9263, 'sarne': 9264, 'niitsu': 9265, 'priesthoods': 9266, 'elcano': 9267, 'eurobasket': 9268, 'non-test': 9269, 'mothra': 9270, 'soledad': 9271, 'hassanzadeh': 9272, 'bazuca': 9273, 'maudsley': 9274, 'mahim': 9275, '100.46': 9276, 'angoche': 9277, 'funked': 9278, 'chortling': 9279, '56-51': 9280, 'tavcar': 9281, 'sipah': 9282, 'chivington': 9283, 'vdot': 9284, 'tauseef': 9285, '3hr': 9286, 'hovhannes': 9287, 'gotz': 9288, 'arabinose': 9289, 'inhumanely': 9290, 'cancellaria': 9291, ',496': 9292, 'fracture': 9293, 'hardouin-mansart': 9294, 'bakić': 9295, 'reparable': 9296, 'tees': 9297, '228.1': 9298, 'renationalize': 9299, 'mikerevic': 9300, 'shawahna': 9301, 'boginskaya': 9302, 'unimed': 9303, 'ecri': 9304, 'khaji': 9305, 'skomer': 9306, '318-99': 9307, 'prejudice': 9308, 'binoculars': 9309, 'xifeng': 9310, 'koukalova': 9311, 'xforms': 9312, 'griffiss': 9313, 'ilium': 9314, 'forlì': 9315, 'cotecna': 9316, 'tvind': 9317, 'armlet': 9318, 'hil': 9319, 'bedey': 9320, 'hennadiy': 9321, 'parades': 9322, 'lacon': 9323, 'danzi': 9324, 'waitomo': 9325, 'palestina': 9326, 'micronesian': 9327, 'runge': 9328, 'congruency': 9329, 'birdwing': 9330, 'anthon': 9331, 'sloshes': 9332, 'dalu': 9333, 'yuli': 9334, 'arkansans': 9335, 'taxifolia': 9336, 'anticompetitive': 9337, 'amphisbaena': 9338, 'glaucus': 9339, 'limelight': 9340, 'santes': 9341, '23-apr': 9342, 'vizha': 9343, 'turco': 9344, 'mid-1700s': 9345, '6s': 9346, 'reden': 9347, 'certainties': 9348, 'nonplaying': 9349, 'exhumations': 9350, \"o'conner\": 9351, 'gunrunners': 9352, 'ninefold': 9353, 'impel': 9354, '1996/97': 9355, 'gutta-percha': 9356, 'carnivàle': 9357, 'norbanus': 9358, 'corbetts': 9359, 'csonka': 9360, 'ukko': 9361, '107-run': 9362, '304.3': 9363, 'sehr': 9364, 'duignan': 9365, 'kabalan': 9366, 'demigod': 9367, 'cosmetics': 9368, 'aşık': 9369, 'trending': 9370, 'tigerdirect': 9371, 'strasse': 9372, 'misstated': 9373, 'pre-packaged': 9374, 'euro389': 9375, 'mutlak': 9376, '900-number': 9377, '623': 9378, 'srams': 9379, 'ciller': 9380, 'hostilius': 9381, 'silanus': 9382, 'munshiganj': 9383, 'proximity': 9384, 'viktorenko': 9385, 'teragrid': 9386, 'post-election': 9387, 'taitt': 9388, 'rb-29': 9389, 'shula': 9390, 'pro-gun': 9391, 'runco': 9392, 'tippie': 9393, 'korvette': 9394, 'reinjure': 9395, 'volto': 9396, 'cachapoal': 9397, 'chumley': 9398, '84.33': 9399, 'petitioned': 9400, 'advertisement': 9401, 'pavao': 9402, '4,049': 9403, 'braindead': 9404, 'rostov': 9405, 'full-blooded': 9406, 'gummies': 9407, 'kuha': 9408, 'badenhop': 9409, 'salaskar': 9410, 'gowron': 9411, 'made-for-television': 9412, 'step-down': 9413, 'capasa': 9414, 'ellipsoids': 9415, '30,000-square': 9416, 'euphoniums': 9417, 'charles-alexandre': 9418, 'sodded': 9419, 'dshaughnessyglobe.com': 9420, 'm102': 9421, '2k10': 9422, 'attiko': 9423, 'picnicked': 9424, '17:03': 9425, 'burlando': 9426, 'americaine': 9427, ',0000': 9428, 'malinche': 9429, 'campbelli': 9430, '51.11': 9431, 'eme': 9432, 'grn': 9433, 'reflectional': 9434, 'tlm': 9435, 'fritsche': 9436, 'chrysogonus': 9437, 'hospitalier': 9438, 'ljubo': 9439, 'riedmatten': 9440, 'mattew': 9441, 'lakhs': 9442, 'mmbg': 9443, 'ssl/tls': 9444, 'neumarkt': 9445, 'divjak': 9446, 'konovalovas': 9447, 'rainband': 9448, 'matheny': 9449, 'prisco': 9450, 'untag': 9451, 'hangover': 9452, 'calfornia': 9453, 'sprayberry': 9454, 'darmstadt': 9455, 'submachineguns': 9456, 'takács': 9457, 'huanglong': 9458, 'esmaeil': 9459, 'slut': 9460, 'sémillante': 9461, 'billionaires': 9462, 'sanne': 9463, 'chouba': 9464, 'sets': 9465, 'peria': 9466, 'hawza': 9467, 'eurotrain': 9468, 'marichuy': 9469, 'aliki': 9470, 'municipality': 9471, 'phantasmagoria': 9472, 'apprehension': 9473, 'kolby': 9474, 'volleyballs': 9475, 'seeff': 9476, 'wappen': 9477, '64.74': 9478, 'live-action/animated': 9479, 'susanyi': 9480, 'austrasia': 9481, 'elefteriades': 9482, 'dubov': 9483, 'khanpur': 9484, 'stoneridge': 9485, 'depersonalization': 9486, '31.19': 9487, 'wilaya': 9488, 'llanquihue': 9489, 'azores': 9490, 'apoyo': 9491, 'songea': 9492, 'inadvertent': 9493, 'inaugurating': 9494, 'medaka': 9495, 'ulundurpet': 9496, 'mansa': 9497, 'mishtanim': 9498, 'torello': 9499, 'solenne': 9500, 'pindell': 9501, 'u201cwe': 9502, 'reviewing': 9503, 'corkscrews': 9504, 'hellers': 9505, 'hotfoot': 9506, 'heliconius': 9507, 'newtie': 9508, 'screenwriter': 9509, 'boxford': 9510, '104-103': 9511, 'meritis': 9512, 'bifurcated': 9513, 'ak-sar-ben': 9514, 'julyseptember': 9515, 'jaslyn': 9516, 'ukrainian-american': 9517, 'depositers': 9518, 'newgen': 9519, 'meachum': 9520, 'amager': 9521, 'a_12': 9522, 'terrey': 9523, 'ching-ling': 9524, 'bsch': 9525, 'sirene': 9526, 'ronni': 9527, 'aracaju': 9528, 'outset': 9529, 'ortsteil': 9530, 'monoclonal': 9531, 'reined': 9532, '4,742': 9533, 'aronsson': 9534, 'kornreich': 9535, 'karlova': 9536, 'drenthe': 9537, 'romar': 9538, 'icepick': 9539, 'legkov': 9540, 'darth': 9541, 'al-qura': 9542, 'mastrosimone': 9543, 'dhillon': 9544, 'aunties': 9545, '63-59': 9546, 'abitibibowater': 9547, 'cacatua': 9548, 'kanellis': 9549, 'cherry': 9550, 'slackwater': 9551, 'loras': 9552, 'reproduce': 9553, '2,935': 9554, '312': 9555, '3,242': 9556, 'ostland': 9557, 'mokrzycki': 9558, 'fırat': 9559, 'baso': 9560, 'sandvika': 9561, 'casu': 9562, 'andrejs': 9563, 'rantissi': 9564, 'strahd': 9565, 'pang': 9566, '15-a-side': 9567, 'moments': 9568, 'bamc': 9569, 'fourragère': 9570, 'coprolite': 9571, '1,057': 9572, 'whittled': 9573, 'allots': 9574, 'logs': 9575, 'doff': 9576, 'voznesensky': 9577, 'pears': 9578, 'biopiracy': 9579, 'mux': 9580, 'cryolife': 9581, 'overcrowd': 9582, 'excellency': 9583, 'schumi': 9584, 'sultanas': 9585, 'großer': 9586, 'usernames': 9587, 'supports': 9588, '103-day': 9589, 'beaumanoir': 9590, 'tec': 9591, 'bgiles': 9592, 'y100': 9593, 'khatra': 9594, 'colliano': 9595, '925': 9596, '2:5': 9597, '119.9': 9598, 'klimovski': 9599, 'łoś': 9600, 'levy': 9601, '15.13': 9602, 'isin': 9603, 'danding': 9604, 'precipitator': 9605, 'riccardo': 9606, 'mta': 9607, 'ballidogle': 9608, '26.4': 9609, 'lauch': 9610, 'shomer': 9611, 'armstong': 9612, 'phalcon': 9613, '116.46': 9614, '250-plus': 9615, 'putty': 9616, 'contractor': 9617, 'sarcos': 9618, '226-3322': 9619, 'seguenzioidea': 9620, 'rt': 9621, 'progesterone': 9622, 'langhans': 9623, 'milawa': 9624, 'sp.a': 9625, 'ninglang': 9626, 'quasi-static': 9627, 'mdot': 9628, 'corning': 9629, 'pupillidae': 9630, '16,000,000': 9631, '1948': 9632, 'hnin': 9633, 'demonology': 9634, 'boxmoor': 9635, 'padilla': 9636, 'thu.': 9637, 'fellowship': 9638, 'rely': 9639, 'shortgrass': 9640, 'zdrojewski': 9641, '4,000-meter': 9642, 'raio': 9643, 'goffredo': 9644, 'emanu': 9645, 'jarrott': 9646, '96-run': 9647, 'proliferators': 9648, 'ground-state': 9649, 'suon': 9650, 'cybersquatting': 9651, 'qalandiya': 9652, 'gangelhoff': 9653, 'raconteur': 9654, 'sailings': 9655, 'kerberglobe.com': 9656, 'easdaq': 9657, 'demes': 9658, '12:48': 9659, 'fanged': 9660, 'powerhouses': 9661, 'sju': 9662, 'bronzeware': 9663, 'galper': 9664, 'zolder': 9665, 'shiho': 9666, 'wonnacott': 9667, '1.4671': 9668, '91.28': 9669, 'puthukkudiyiruppu': 9670, 'arij': 9671, 'ascap': 9672, 'fashoda': 9673, 'overstates': 9674, 'audionet': 9675, 'poppin': 9676, '900-square': 9677, 'divergens': 9678, 'improbable': 9679, '20-to-1': 9680, 'gregoriana': 9681, 'sts-124': 9682, 'kiprusoff': 9683, 'sundquist': 9684, 'dulecha': 9685, 'encinal': 9686, 'blondet': 9687, 'trịnh': 9688, 'guehrer': 9689, 'formula_57': 9690, 'storting': 9691, 'birling': 9692, 'alshafei': 9693, 'pinery': 9694, 'non-u.s.': 9695, 'sugen': 9696, 'hasp': 9697, 'icke': 9698, '4,328': 9699, 'goyim': 9700, 'pirog': 9701, 'oat': 9702, 'nifedipine': 9703, 'actinidia': 9704, '1.8': 9705, 'ecton': 9706, 'yeongju': 9707, 'yukinori': 9708, 'hesam': 9709, 'tennison': 9710, 'pigface': 9711, 'elsley': 9712, 'p-450': 9713, 'fusor': 9714, 'pseudoprime': 9715, 'cooktown': 9716, 'kingstown': 9717, 'burslem': 9718, 'multisets': 9719, 'recoding': 9720, 'irate': 9721, 'graham': 9722, 'estyle.com': 9723, 'trapshooting': 9724, 'launderer': 9725, 'saleable': 9726, 'al-qays': 9727, 'feirstein': 9728, 'golikov': 9729, 'adeli': 9730, 'nocton': 9731, 'jaywalkers': 9732, 'prades': 9733, 'thảo': 9734, 'euro132': 9735, 'libatique': 9736, 'c300': 9737, 'teutenberg': 9738, 'duboef': 9739, 'hanifa': 9740, '22/32': 9741, 'immigrations': 9742, 'scales': 9743, 'nongkai': 9744, 'bpl': 9745, 'fondkommission': 9746, 'nav1': 9747, 'bowled': 9748, 'rexall': 9749, 'nbc-affiliated': 9750, 'genius-level': 9751, 'chianciano': 9752, 'nationalisations': 9753, 'guru-shishya': 9754, 'oncology': 9755, 'meringues': 9756, 'wul': 9757, 'luhrmann': 9758, 'malecela': 9759, 'brw': 9760, 'ratcliff': 9761, 'burdur': 9762, 'shiraro': 9763, 'arats': 9764, 'vanara': 9765, 'aunty': 9766, 'defendents': 9767, 'dorothea': 9768, 'lovesick': 9769, 'sobran': 9770, 'jeseník': 9771, 'griswold': 9772, '37-meter': 9773, 'deft': 9774, 'yacc': 9775, 'kuoi': 9776, 'atay': 9777, 'yangmingshan': 9778, 'sugarplums': 9779, 'spasoje': 9780, 'sung-hyun': 9781, 'baft': 9782, 'glencullen': 9783, 'kaffa': 9784, 'gypsum': 9785, 'radiological': 9786, '.789': 9787, 'hausfeld': 9788, 'vann': 9789, 'menchú': 9790, 'preformed': 9791, '4.3-percent': 9792, 'hideko': 9793, 'kannada-language': 9794, 'hgv': 9795, 'purex': 9796, 'unibank': 9797, 'shrivelled': 9798, 'bendigo': 9799, 'wholescale': 9800, 'chrysobalanaceae': 9801, \"l'herbe\": 9802, 'romi': 9803, 'technology-oriented': 9804, '16.35': 9805, 'gargano': 9806, 'chiding': 9807, 'benzalkonium': 9808, 'tabletop': 9809, 'bulatovic': 9810, 'pepinia': 9811, '6.9-magnitude': 9812, '28.10': 9813, 'ebsen': 9814, 'astroturfing': 9815, 'anzi': 9816, 'franch': 9817, 'yaowarat': 9818, '83.92': 9819, 'nfu': 9820, 'ocotal': 9821, '202-383-7824': 9822, 'detmold': 9823, 'derg': 9824, 'hoyo': 9825, 'fergalicious': 9826, 'afshari': 9827, 'e-1': 9828, 'saydnaya': 9829, 'ekur': 9830, 'bagnolet': 9831, '14:15': 9832, 'cavegn': 9833, 'skk': 9834, 'cubitt': 9835, 'twofold': 9836, 'timpson': 9837, '820th': 9838, '1,922': 9839, 'scholarshare': 9840, 'sutel': 9841, 'wjb': 9842, 'atolls': 9843, 'kuyavia': 9844, 'audie': 9845, 'schwimmer': 9846, 'cross-national': 9847, 'konvict': 9848, 'rowley': 9849, 'zelenovic': 9850, 'pickiness': 9851, 'pedersen': 9852, 'skiy': 9853, 'euro555': 9854, 'pleura': 9855, '45.0': 9856, 'edmeades': 9857, 'peyster': 9858, '1687': 9859, 'karmal': 9860, 'crosshaven': 9861, 'sleigh': 9862, '51.99': 9863, 'atrebates': 9864, 'lvr': 9865, 'kova': 9866, '4.31': 9867, 'dippel': 9868, 'ffxf': 9869, 'folklorico': 9870, 'ritika': 9871, '41-17': 9872, 'amrin': 9873, 'eje': 9874, 'minang': 9875, '215-pounder': 9876, '46.84': 9877, 'obviates': 9878, 'offically': 9879, 'rongorongo': 9880, 'bartlam': 9881, 'stk': 9882, 'kabe': 9883, 'h7n3': 9884, 'channelnewsasia': 9885, 'cheapseats.com': 9886, 'kaituma': 9887, 'chipinge': 9888, 'mylon': 9889, 'tōno': 9890, 'clockmaker': 9891, 'aramaic': 9892, '76er': 9893, 'tint': 9894, 'swamiji': 9895, 'cinquemani': 9896, 's': 9897, 'hugueney': 9898, 'hurn': 9899, 'estación': 9900, 'unaffiliated': 9901, 'stuffing': 9902, 'tasker': 9903, 'retinaculum': 9904, '63.4': 9905, 'voluntariness': 9906, 'ihe': 9907, 'tavakoli': 9908, 'g.': 9909, 'moussed': 9910, 'shmulik': 9911, 'gyeong': 9912, 'proclivity': 9913, 'testifying': 9914, 'sansone': 9915, 'leonhard': 9916, 'granot': 9917, '4.75': 9918, 'almiron': 9919, 'souris': 9920, 'qiz': 9921, 'jafaar': 9922, 'nonsporting': 9923, 'a/l': 9924, '400-meters': 9925, 'skara': 9926, 'pneumatics': 9927, 'zolotow': 9928, 'microalgae': 9929, 'unequaled': 9930, 'daviz': 9931, 'juniores': 9932, 'lucerne': 9933, 'laminates': 9934, 'ravenglass': 9935, 'jordie': 9936, 'wapp': 9937, 'play-offs': 9938, 'waele': 9939, 'technisches': 9940, 'sulphuric': 9941, 'steaks': 9942, 'jopling': 9943, '225-seat': 9944, 'sels': 9945, 'maters': 9946, 'secretaryship': 9947, 'malines': 9948, 'simbolon': 9949, 'tawachiche': 9950, 'normandie': 9951, 'meadors': 9952, 'opacity': 9953, 'sandora': 9954, 'abnegation': 9955, 'obergfoll': 9956, 'brynäs': 9957, '37-7': 9958, 'iddrisu': 9959, 'www.nhlbi.nih.gov': 9960, 'levodopa': 9961, 'ministerium': 9962, 'mibu': 9963, 'sisy': 9964, 'mcdowall': 9965, 'modernization': 9966, 'britten-norman': 9967, '26.41': 9968, 'molt': 9969, '.467': 9970, 'lefka': 9971, '13.000': 9972, 'sardinella': 9973, 'gongju': 9974, 'eamer': 9975, 'sofapaka': 9976, 'labradoodle': 9977, 'pentax': 9978, 'suwanan': 9979, 'simun': 9980, 'dwar': 9981, 'gottschee': 9982, 'elaborated': 9983, 'skywatchers': 9984, 'saint-marc': 9985, 'borkelmans': 9986, 'prapas': 9987, 'antin': 9988, 'off-off-broadway': 9989, 'symptom': 9990, 'lotru': 9991, '65.63': 9992, 'brierly': 9993, 'ashley': 9994, '57,400': 9995, 'chalupas': 9996, 'kudumbi': 9997, 'built': 9998, 'chariton': 9999}\n",
      "Done.\n",
      "Running Truncated SVD over 10010 words...\n",
      "Done.\n"
     ]
    }
   ],
   "source": [
    "# -----------------------------------------------------------------\n",
    "# Run Cell to Reduce 200-Dimensional Word Embeddings to k Dimensions\n",
    "# Note: This should be quick to run\n",
    "# -----------------------------------------------------------------\n",
    "M, word2Ind = get_matrix_of_vectors(wv_from_bin)\n",
    "M_reduced = reduce_to_k_dim(M, k=2)\n",
    "\n",
    "# Rescale (normalize) the rows to make them each of unit-length\n",
    "M_lengths = np.linalg.norm(M_reduced, axis=1)\n",
    "M_reduced_normalized = M_reduced / M_lengths[:, np.newaxis] # broadcasting"
   ]
  },
  {
   "cell_type": "markdown",
   "metadata": {},
   "source": [
    "**Note: If you are receiving out of memory issues on your local machine, try closing other applications to free more memory on your device. You may want to try restarting your machine so that you can free up extra memory. Then immediately run the jupyter notebook and see if you can load the word vectors properly. If you still have problems with loading the embeddings onto your local machine after this, please follow the Piazza instructions, as how to run remotely on Stanford Farmshare machines.**"
   ]
  },
  {
   "cell_type": "markdown",
   "metadata": {},
   "source": [
    "### Question 2.1: GloVe Plot Analysis [written] (4 points)\n",
    "\n",
    "Run the cell below to plot the 2D GloVe embeddings for `['barrels', 'bpd', 'ecuador', 'energy', 'industry', 'kuwait', 'oil', 'output', 'petroleum', 'venezuela']`.\n",
    "\n",
    "What clusters together in 2-dimensional embedding space? What doesn't cluster together that you might think should have? How is the plot different from the one generated earlier from the co-occurrence matrix? What is a possible reason for causing the difference?"
   ]
  },
  {
   "cell_type": "code",
   "execution_count": null,
   "metadata": {
    "scrolled": true
   },
   "outputs": [],
   "source": [
    "words = ['barrels', 'bpd', 'ecuador', 'energy', 'industry', 'kuwait', 'oil', 'output', 'petroleum', 'venezuela']\n",
    "plot_embeddings(M_reduced_normalized, word2Ind, words)"
   ]
  },
  {
   "cell_type": "markdown",
   "metadata": {},
   "source": [
    "#### <font color=\"red\">Write your answer here.</font>"
   ]
  },
  {
   "cell_type": "markdown",
   "metadata": {},
   "source": [
    "### Cosine Similarity\n",
    "Now that we have word vectors, we need a way to quantify the similarity between individual words, according to these vectors. One such metric is cosine-similarity. We will be using this to find words that are \"close\" and \"far\" from one another.\n",
    "\n",
    "We can think of n-dimensional vectors as points in n-dimensional space. If we take this perspective [L1](http://mathworld.wolfram.com/L1-Norm.html) and [L2](http://mathworld.wolfram.com/L2-Norm.html) Distances help quantify the amount of space \"we must travel\" to get between these two points. Another approach is to examine the angle between two vectors. From trigonometry we know that:\n",
    "\n",
    "<img src=\"./imgs/inner_product.png\" width=20% style=\"float: center;\"></img>\n",
    "\n",
    "Instead of computing the actual angle, we can leave the similarity in terms of $similarity = cos(\\Theta)$. Formally the [Cosine Similarity](https://en.wikipedia.org/wiki/Cosine_similarity) $s$ between two vectors $p$ and $q$ is defined as:\n",
    "\n",
    "$$s = \\frac{p \\cdot q}{||p|| ||q||}, \\textrm{ where } s \\in [-1, 1] $$ "
   ]
  },
  {
   "cell_type": "markdown",
   "metadata": {},
   "source": [
    "### Question 2.2: Words with Multiple Meanings (2 points) [code + written] \n",
    "Polysemes and homonyms are words that have more than one meaning (see this [wiki page](https://en.wikipedia.org/wiki/Polysemy) to learn more about the difference between polysemes and homonyms ). Find a word with at least 2 different meanings such that the top-10 most similar words (according to cosine similarity) contain related words from *both* meanings. For example, \"leaves\" has both \"vanishes\" and \"stalks\" in the top 10, and \"scoop\" has both \"handed_waffle_cone\" and \"lowdown\". You will probably need to try several polysemous or homonymic words before you find one. Please state the word you discover and the multiple meanings that occur in the top 10. Why do you think many of the polysemous or homonymic words you tried didn't work (i.e. the top-10 most similar words only contain **one** of the meanings of the words)?\n",
    "\n",
    "**Note**: You should use the `wv_from_bin.most_similar(word)` function to get the top 10 similar words. This function ranks all other words in the vocabulary with respect to their cosine similarity to the given word. For further assistance please check the __[GenSim documentation](https://radimrehurek.com/gensim/models/keyedvectors.html#gensim.models.keyedvectors.FastTextKeyedVectors.most_similar)__."
   ]
  },
  {
   "cell_type": "code",
   "execution_count": null,
   "metadata": {},
   "outputs": [],
   "source": [
    "    # ------------------\n",
    "    # Write your implementation here.\n",
    "\n",
    "\n",
    "    # ------------------"
   ]
  },
  {
   "cell_type": "markdown",
   "metadata": {},
   "source": [
    "#### <font color=\"red\">Write your answer here.</font>"
   ]
  },
  {
   "cell_type": "markdown",
   "metadata": {},
   "source": [
    "### Question 2.3: Synonyms & Antonyms (2 points) [code + written] \n",
    "\n",
    "When considering Cosine Similarity, it's often more convenient to think of Cosine Distance, which is simply 1 - Cosine Similarity.\n",
    "\n",
    "Find three words (w1,w2,w3) where w1 and w2 are synonyms and w1 and w3 are antonyms, but Cosine Distance(w1,w3) < Cosine Distance(w1,w2). For example, w1=\"happy\" is closer to w3=\"sad\" than to w2=\"cheerful\". \n",
    "\n",
    "Once you have found your example, please give a possible explanation for why this counter-intuitive result may have happened.\n",
    "\n",
    "You should use the the `wv_from_bin.distance(w1, w2)` function here in order to compute the cosine distance between two words. Please see the __[GenSim documentation](https://radimrehurek.com/gensim/models/keyedvectors.html#gensim.models.keyedvectors.FastTextKeyedVectors.distance)__ for further assistance."
   ]
  },
  {
   "cell_type": "code",
   "execution_count": null,
   "metadata": {},
   "outputs": [],
   "source": [
    "    # ------------------\n",
    "    # Write your implementation here.\n",
    "\n",
    "\n",
    "    # ------------------"
   ]
  },
  {
   "cell_type": "markdown",
   "metadata": {},
   "source": [
    "#### <font color=\"red\">Write your answer here.</font>"
   ]
  },
  {
   "cell_type": "markdown",
   "metadata": {},
   "source": [
    "### Solving Analogies with Word Vectors\n",
    "Word vectors have been shown to *sometimes* exhibit the ability to solve analogies. \n",
    "\n",
    "As an example, for the analogy \"man : king :: woman : x\" (read: man is to king as woman is to x), what is x?\n",
    "\n",
    "In the cell below, we show you how to use word vectors to find x. The `most_similar` function finds words that are most similar to the words in the `positive` list and most dissimilar from the words in the `negative` list. The answer to the analogy will be the word ranked most similar (largest numerical value).\n",
    "\n",
    "**Note:** Further Documentation on the `most_similar` function can be found within the __[GenSim documentation](https://radimrehurek.com/gensim/models/keyedvectors.html#gensim.models.keyedvectors.FastTextKeyedVectors.most_similar)__."
   ]
  },
  {
   "cell_type": "code",
   "execution_count": null,
   "metadata": {},
   "outputs": [],
   "source": [
    "# Run this cell to answer the analogy -- man : king :: woman : x\n",
    "pprint.pprint(wv_from_bin.most_similar(positive=['woman', 'king'], negative=['man']))"
   ]
  },
  {
   "cell_type": "markdown",
   "metadata": {},
   "source": [
    "### Question 2.4: Finding Analogies [code + written]  (2 Points)\n",
    "Find an example of analogy that holds according to these vectors (i.e. the intended word is ranked top). In your solution please state the full analogy in the form x:y :: a:b. If you believe the analogy is complicated, explain why the analogy holds in one or two sentences.\n",
    "\n",
    "**Note**: You may have to try many analogies to find one that works!"
   ]
  },
  {
   "cell_type": "code",
   "execution_count": null,
   "metadata": {},
   "outputs": [],
   "source": [
    "    # ------------------\n",
    "    # Write your implementation here.\n",
    "\n",
    "\n",
    "    # ------------------"
   ]
  },
  {
   "cell_type": "markdown",
   "metadata": {},
   "source": [
    "#### <font color=\"red\">Write your answer here.</font>"
   ]
  },
  {
   "cell_type": "markdown",
   "metadata": {},
   "source": [
    "### Question 2.5: Incorrect Analogy [code + written] (1 point)\n",
    "Find an example of analogy that does *not* hold according to these vectors. In your solution, state the intended analogy in the form x:y :: a:b, and state the (incorrect) value of b according to the word vectors."
   ]
  },
  {
   "cell_type": "code",
   "execution_count": null,
   "metadata": {},
   "outputs": [],
   "source": [
    "    # ------------------\n",
    "    # Write your implementation here.\n",
    "\n",
    "\n",
    "    # ------------------"
   ]
  },
  {
   "cell_type": "markdown",
   "metadata": {},
   "source": [
    "#### <font color=\"red\">Write your answer here.</font>"
   ]
  },
  {
   "cell_type": "markdown",
   "metadata": {},
   "source": [
    "### Question 2.6: Guided Analysis of Bias in Word Vectors [written] (1 point)\n",
    "\n",
    "It's important to be cognizant of the biases (gender, race, sexual orientation etc.) implicit in our word embeddings. Bias can be dangerous because it can reinforce stereotypes through applications that employ these models.\n",
    "\n",
    "Run the cell below, to examine (a) which terms are most similar to \"woman\" and \"worker\" and most dissimilar to \"man\", and (b) which terms are most similar to \"man\" and \"worker\" and most dissimilar to \"woman\". Point out the difference between the list of female-associated words and the list of male-associated words, and explain how it is reflecting gender bias."
   ]
  },
  {
   "cell_type": "code",
   "execution_count": null,
   "metadata": {},
   "outputs": [],
   "source": [
    "# Run this cell\n",
    "# Here `positive` indicates the list of words to be similar to and `negative` indicates the list of words to be\n",
    "# most dissimilar from.\n",
    "pprint.pprint(wv_from_bin.most_similar(positive=['woman', 'worker'], negative=['man']))\n",
    "print()\n",
    "pprint.pprint(wv_from_bin.most_similar(positive=['man', 'worker'], negative=['woman']))"
   ]
  },
  {
   "cell_type": "markdown",
   "metadata": {},
   "source": [
    "#### <font color=\"red\">Write your answer here.</font>"
   ]
  },
  {
   "cell_type": "markdown",
   "metadata": {},
   "source": [
    "### Question 2.7: Independent Analysis of Bias in Word Vectors [code + written]  (1 point)\n",
    "\n",
    "Use the `most_similar` function to find another case where some bias is exhibited by the vectors. Please briefly explain the example of bias that you discover."
   ]
  },
  {
   "cell_type": "code",
   "execution_count": null,
   "metadata": {},
   "outputs": [],
   "source": [
    "    # ------------------\n",
    "    # Write your implementation here.\n",
    "\n",
    "\n",
    "    # ------------------"
   ]
  },
  {
   "cell_type": "markdown",
   "metadata": {},
   "source": [
    "#### <font color=\"red\">Write your answer here.</font>"
   ]
  },
  {
   "cell_type": "markdown",
   "metadata": {},
   "source": [
    "### Question 2.8: Thinking About Bias [written] (2 points)\n",
    "\n",
    "What might be the causes of these biases in the word vectors? You should give least 2 explainations how bias get into the word vectors. How might you be able to investigate/test these causes?"
   ]
  },
  {
   "cell_type": "markdown",
   "metadata": {},
   "source": [
    "#### <font color=\"red\">Write your answer here.</font>"
   ]
  },
  {
   "cell_type": "markdown",
   "metadata": {},
   "source": [
    "# <font color=\"blue\"> Submission Instructions</font>\n",
    "\n",
    "1. Click the Save button at the top of the Jupyter Notebook.\n",
    "2. Select Cell -> All Output -> Clear. This will clear all the outputs from all cells (but will keep the content of all cells). \n",
    "2. Select Cell -> Run All. This will run all the cells in order, and will take several minutes.\n",
    "3. Once you've rerun everything, select File -> Download as -> PDF via LaTeX (If you have trouble using \"PDF via LaTex\", you can also save the webpage as pdf. <font color='blue'> Make sure all your solutions especially the coding parts are displayed in the pdf</font>, it's okay if the provided codes get cut off because lines are not wrapped in code cells).\n",
    "4. Look at the PDF file and make sure all your solutions are there, displayed correctly. The PDF is the only thing your graders will see!\n",
    "5. Submit your PDF on Gradescope."
   ]
  },
  {
   "cell_type": "code",
   "execution_count": null,
   "metadata": {},
   "outputs": [],
   "source": []
  }
 ],
 "metadata": {
  "anaconda-cloud": {},
  "kernelspec": {
   "display_name": "Python 3",
   "language": "python",
   "name": "python3"
  },
  "language_info": {
   "codemirror_mode": {
    "name": "ipython",
    "version": 3
   },
   "file_extension": ".py",
   "mimetype": "text/x-python",
   "name": "python",
   "nbconvert_exporter": "python",
   "pygments_lexer": "ipython3",
   "version": "3.6.12"
  },
  "toc": {
   "base_numbering": 1,
   "nav_menu": {},
   "number_sections": true,
   "sideBar": true,
   "skip_h1_title": false,
   "title_cell": "Table of Contents",
   "title_sidebar": "Contents",
   "toc_cell": false,
   "toc_position": {},
   "toc_section_display": true,
   "toc_window_display": false
  },
  "varInspector": {
   "cols": {
    "lenName": 16,
    "lenType": 16,
    "lenVar": 40
   },
   "kernels_config": {
    "python": {
     "delete_cmd_postfix": "",
     "delete_cmd_prefix": "del ",
     "library": "var_list.py",
     "varRefreshCmd": "print(var_dic_list())"
    },
    "r": {
     "delete_cmd_postfix": ") ",
     "delete_cmd_prefix": "rm(",
     "library": "var_list.r",
     "varRefreshCmd": "cat(var_dic_list()) "
    }
   },
   "types_to_exclude": [
    "module",
    "function",
    "builtin_function_or_method",
    "instance",
    "_Feature"
   ],
   "window_display": false
  }
 },
 "nbformat": 4,
 "nbformat_minor": 2
}
